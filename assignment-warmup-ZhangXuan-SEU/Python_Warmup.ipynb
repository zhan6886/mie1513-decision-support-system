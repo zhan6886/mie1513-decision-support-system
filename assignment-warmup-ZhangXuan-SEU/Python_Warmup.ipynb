{
 "cells": [
  {
   "cell_type": "markdown",
   "metadata": {
    "colab_type": "text",
    "id": "4L1Vk_YhUVSO"
   },
   "source": [
    "# Assignment - Python Warmup\n",
    "Please follow the instructions in the assignment's PDF and fill in the code for each function."
   ]
  },
  {
   "cell_type": "code",
   "execution_count": 3,
   "metadata": {},
   "outputs": [],
   "source": [
    "import re\n",
    "import numpy as np\n",
    "import pandas as pd\n"
   ]
  },
  {
   "cell_type": "markdown",
   "metadata": {
    "colab_type": "text",
    "id": "K2wlQJ1RUVSQ"
   },
   "source": [
    "## Exercise 1"
   ]
  },
  {
   "cell_type": "code",
   "execution_count": 19,
   "metadata": {
    "colab": {},
    "colab_type": "code",
    "id": "LRYjSAU2UVSR"
   },
   "outputs": [],
   "source": [
    "def positionWord(filePath, position):\n",
    "    wordslist=[]\n",
    "    with open(filePath,'r') as f:\n",
    "        file=f.readlines()\n",
    "        for i in range(len(file)):\n",
    "            line=re.sub('/n','',file[i])\n",
    "            linewords=re.sub('[^A-Za-z0-9 ]','',line)\n",
    "            wordslist.append(linewords.split()[position])    \n",
    "    return wordslist"
   ]
  },
  {
   "cell_type": "code",
   "execution_count": 20,
   "metadata": {},
   "outputs": [
    {
     "data": {
      "text/plain": [
       "['endeavoured', 'the', 'of', 'season', 'no']"
      ]
     },
     "execution_count": 20,
     "metadata": {},
     "output_type": "execute_result"
    }
   ],
   "source": [
    "positionWord('example.txt',2)"
   ]
  },
  {
   "cell_type": "markdown",
   "metadata": {
    "colab_type": "text",
    "id": "SVGFSuf1UVSV"
   },
   "source": [
    "## Exercise 2"
   ]
  },
  {
   "cell_type": "code",
   "execution_count": 4,
   "metadata": {
    "colab": {},
    "colab_type": "code",
    "id": "aUz-S0pDUVSW"
   },
   "outputs": [],
   "source": [
    "def onlyUpperCase(text):\n",
    "    word=re.sub('[^A-Z]','',text)\n",
    "    return word"
   ]
  },
  {
   "cell_type": "code",
   "execution_count": 5,
   "metadata": {},
   "outputs": [
    {
     "data": {
      "text/plain": [
       "'DSS'"
      ]
     },
     "execution_count": 5,
     "metadata": {},
     "output_type": "execute_result"
    }
   ],
   "source": [
    "onlyUpperCase(\"lorem ipsum Dolor Sit amet, conSectetur.\")"
   ]
  },
  {
   "cell_type": "markdown",
   "metadata": {
    "colab_type": "text",
    "id": "z2rIx_F7UVSZ"
   },
   "source": [
    "## Exercise 3"
   ]
  },
  {
   "cell_type": "code",
   "execution_count": 6,
   "metadata": {
    "colab": {},
    "colab_type": "code",
    "id": "E6XvgsgmUVSa"
   },
   "outputs": [],
   "source": [
    "def divisors(num1, num2):\n",
    "    numlist=[]\n",
    "    for i in range(1,num1+1):\n",
    "        if i%num2==0:\n",
    "            numlist.append(i)\n",
    "    return numlist"
   ]
  },
  {
   "cell_type": "code",
   "execution_count": 7,
   "metadata": {},
   "outputs": [
    {
     "data": {
      "text/plain": [
       "[6, 12, 18]"
      ]
     },
     "execution_count": 7,
     "metadata": {},
     "output_type": "execute_result"
    }
   ],
   "source": [
    "divisors(23, 6)"
   ]
  },
  {
   "cell_type": "markdown",
   "metadata": {
    "colab_type": "text",
    "id": "fJEhXAtDUVSd"
   },
   "source": [
    "## Exercise 4"
   ]
  },
  {
   "cell_type": "code",
   "execution_count": 8,
   "metadata": {
    "colab": {},
    "colab_type": "code",
    "id": "3Cs0OgGmUVSe"
   },
   "outputs": [],
   "source": [
    "def countWords(wordList):\n",
    "    dic={}\n",
    "    for word in wordList:\n",
    "        if word in dic:\n",
    "            dic[word]+=1\n",
    "        else:\n",
    "            dic[word]=1\n",
    "    return dic\n",
    "  # Please write your code here"
   ]
  },
  {
   "cell_type": "code",
   "execution_count": 9,
   "metadata": {},
   "outputs": [
    {
     "data": {
      "text/plain": [
       "{'the': 2,\n",
       " 'seething': 2,\n",
       " 'sea': 2,\n",
       " 'ceaseth': 1,\n",
       " 'and': 1,\n",
       " 'thus': 1,\n",
       " 'sufficeth': 1,\n",
       " 'us': 1}"
      ]
     },
     "execution_count": 9,
     "metadata": {},
     "output_type": "execute_result"
    }
   ],
   "source": [
    "countWords([\"the\", \"seething\", \"sea\", \"ceaseth\",\n",
    "\"and\", \"thus\", \"the\", \"seething\", \"sea\", \"sufficeth\", \"us\"])"
   ]
  },
  {
   "cell_type": "markdown",
   "metadata": {
    "colab_type": "text",
    "id": "CGC6gPENUVSh"
   },
   "source": [
    "## Exercise 5"
   ]
  },
  {
   "cell_type": "code",
   "execution_count": 10,
   "metadata": {
    "colab": {},
    "colab_type": "code",
    "id": "yABkiEt5UVSi"
   },
   "outputs": [],
   "source": [
    "def organizedCountWords(wordList):\n",
    "    dic={}\n",
    "    for word in wordList:\n",
    "        dic.setdefault(len(word),{})\n",
    "        if word in dic[len(word)]:\n",
    "            dic[len(word)][word]+=1\n",
    "        else:\n",
    "            dic[len(word)][word]=1\n",
    "    return dic"
   ]
  },
  {
   "cell_type": "code",
   "execution_count": 11,
   "metadata": {},
   "outputs": [
    {
     "data": {
      "text/plain": [
       "{3: {'the': 2, 'sea': 2, 'and': 1},\n",
       " 8: {'seething': 2},\n",
       " 7: {'ceaseth': 1},\n",
       " 4: {'thus': 1},\n",
       " 9: {'sufficeth': 1},\n",
       " 2: {'us': 1}}"
      ]
     },
     "execution_count": 11,
     "metadata": {},
     "output_type": "execute_result"
    }
   ],
   "source": [
    "organizedCountWords([\"the\", \"seething\", \"sea\", \"ceaseth\",\"and\", \"thus\", \"the\", \"seething\", \"sea\", \"sufficeth\", \"us\"])"
   ]
  },
  {
   "cell_type": "markdown",
   "metadata": {
    "colab_type": "text",
    "id": "tlb0ecAtUX-e"
   },
   "source": [
    "## Exercise 6"
   ]
  },
  {
   "cell_type": "code",
   "execution_count": 40,
   "metadata": {
    "colab": {},
    "colab_type": "code",
    "id": "FvW7BpD3UXG2"
   },
   "outputs": [],
   "source": [
    "def AvgNeighbourhoodListingPrice(neighbourhoodList, room_type, number_of_reviews, minimum_nights):\n",
    "    data = pd.read_csv('https://raw.githubusercontent.com/MIE451-1513-2019/course-datasets/master/toronto_airbnb_listings_Aug2019.csv')\n",
    "    filter_data=data[(data['minimum_nights']<=minimum_nights) \n",
    "                     &(data['number_of_reviews']>=number_of_reviews) \n",
    "                     &(data['room_type']==room_type)\n",
    "                     &(data['neighbourhood'].isin(neighbourhoodList))]\n",
    "    avg_price=filter_data.groupby('neighbourhood')['price'].mean().round(2)\n",
    "    sort_price=avg_price.reset_index().sort_values('price',ascending=False).set_index('neighbourhood')\n",
    "    return sort_price\n",
    "  # Please write your code here"
   ]
  },
  {
   "cell_type": "code",
   "execution_count": 41,
   "metadata": {},
   "outputs": [
    {
     "data": {
      "text/html": [
       "<div>\n",
       "<style scoped>\n",
       "    .dataframe tbody tr th:only-of-type {\n",
       "        vertical-align: middle;\n",
       "    }\n",
       "\n",
       "    .dataframe tbody tr th {\n",
       "        vertical-align: top;\n",
       "    }\n",
       "\n",
       "    .dataframe thead th {\n",
       "        text-align: right;\n",
       "    }\n",
       "</style>\n",
       "<table border=\"1\" class=\"dataframe\">\n",
       "  <thead>\n",
       "    <tr style=\"text-align: right;\">\n",
       "      <th></th>\n",
       "      <th>price</th>\n",
       "    </tr>\n",
       "    <tr>\n",
       "      <th>neighbourhood</th>\n",
       "      <th></th>\n",
       "    </tr>\n",
       "  </thead>\n",
       "  <tbody>\n",
       "    <tr>\n",
       "      <th>Edenbridge-Humber Valley</th>\n",
       "      <td>453.33</td>\n",
       "    </tr>\n",
       "    <tr>\n",
       "      <th>Annex</th>\n",
       "      <td>141.99</td>\n",
       "    </tr>\n",
       "    <tr>\n",
       "      <th>The Beaches</th>\n",
       "      <td>126.24</td>\n",
       "    </tr>\n",
       "  </tbody>\n",
       "</table>\n",
       "</div>"
      ],
      "text/plain": [
       "                           price\n",
       "neighbourhood                   \n",
       "Edenbridge-Humber Valley  453.33\n",
       "Annex                     141.99\n",
       "The Beaches               126.24"
      ]
     },
     "execution_count": 41,
     "metadata": {},
     "output_type": "execute_result"
    }
   ],
   "source": [
    "AvgNeighbourhoodListingPrice([\"Edenbridge-Humber Valley\",\"Annex\",\"The Beaches\"],\"Entire home/apt\", 30, 3)"
   ]
  },
  {
   "cell_type": "markdown",
   "metadata": {
    "colab_type": "text",
    "id": "cxMjcYPrjkZL"
   },
   "source": [
    "## Exercise 7"
   ]
  },
  {
   "cell_type": "code",
   "execution_count": 49,
   "metadata": {
    "colab": {},
    "colab_type": "code",
    "id": "xRjMh_EjjnYM"
   },
   "outputs": [],
   "source": [
    "def leastSquaresFit(urlX,urlY):\n",
    "    X=pd.read_csv(urlX,header=None)\n",
    "    y=pd.read_csv(urlY,header=None)\n",
    "    X = np.c_[X, np.ones(X.shape[0])]\n",
    "    weight = np.linalg.lstsq(X,y)[0]\n",
    "    weight=np.delete(weight,-1)\n",
    "    weight=weight.reshape(3,1)\n",
    "    return weight"
   ]
  },
  {
   "cell_type": "markdown",
   "metadata": {
    "colab_type": "text",
    "id": "4BVZJpHKUVSk"
   },
   "source": [
    "----------\n",
    "## Validators\n",
    "This following cell provide basic validation of your functions.\n",
    "\n",
    "You should run each cell and make sure you do not get an exception.\n",
    "\n",
    "**IMPORTANT: passing these validators does not mean your code is correct. These are basic validators to make sure the interface of your functions is correct.**"
   ]
  },
  {
   "cell_type": "code",
   "execution_count": 15,
   "metadata": {
    "colab": {},
    "colab_type": "code",
    "id": "ciHXaur-UVSk"
   },
   "outputs": [],
   "source": [
    "assert(isinstance(positionWord(\"example.txt\", 2), list))"
   ]
  },
  {
   "cell_type": "code",
   "execution_count": 16,
   "metadata": {
    "colab": {},
    "colab_type": "code",
    "id": "j7V9yRrQUVSm"
   },
   "outputs": [],
   "source": [
    "assert(isinstance(onlyUpperCase(\"lorem ipsum Dolor Sit amet, conSectetur.\"), str))"
   ]
  },
  {
   "cell_type": "code",
   "execution_count": 17,
   "metadata": {
    "colab": {},
    "colab_type": "code",
    "id": "xEW8K0GKUVSo"
   },
   "outputs": [],
   "source": [
    "assert(isinstance(divisors(23, 6), list))"
   ]
  },
  {
   "cell_type": "code",
   "execution_count": 18,
   "metadata": {
    "colab": {},
    "colab_type": "code",
    "id": "oo1YSY-GUVSq"
   },
   "outputs": [],
   "source": [
    "words = [\"the\", \"seething\", \"sea\", \"ceaseth\", \"and\", \"thus\", \"the\", \"seething\", \"sea\", \"sufficeth\", \"us\"]\n",
    "assert(isinstance(countWords(words), dict))"
   ]
  },
  {
   "cell_type": "code",
   "execution_count": 19,
   "metadata": {
    "colab": {},
    "colab_type": "code",
    "id": "FFbsU1TuUVSr"
   },
   "outputs": [],
   "source": [
    "words = [\"the\", \"seething\", \"sea\", \"ceaseth\", \"and\", \"thus\", \"the\", \"seething\", \"sea\", \"sufficeth\", \"us\"]\n",
    "assert(isinstance(organizedCountWords(words), dict))"
   ]
  },
  {
   "cell_type": "code",
   "execution_count": 20,
   "metadata": {
    "colab": {},
    "colab_type": "code",
    "id": "ws_ZzLA0W1Qp"
   },
   "outputs": [],
   "source": [
    "df = AvgNeighbourhoodListingPrice([\"Little Portugal\",\"Waterfront Communities-The Island\",\"Rosedale-Moore Park\",\"Kensington-Chinatown\"], \"Private room\", 50, 4)\n",
    "assert(df.shape == (4,1))"
   ]
  },
  {
   "cell_type": "code",
   "execution_count": 21,
   "metadata": {
    "colab": {},
    "colab_type": "code",
    "id": "dZNBA8Y6g602"
   },
   "outputs": [],
   "source": [
    "import pandas as pd\n",
    "assert(isinstance(df,pd.DataFrame))"
   ]
  },
  {
   "cell_type": "code",
   "execution_count": 48,
   "metadata": {
    "colab": {},
    "colab_type": "code",
    "id": "1E-9ru9-jhv1",
    "scrolled": true
   },
   "outputs": [
    {
     "name": "stdout",
     "output_type": "stream",
     "text": [
      "<class 'numpy.ndarray'>\n",
      "<class 'numpy.ndarray'>\n"
     ]
    },
    {
     "name": "stderr",
     "output_type": "stream",
     "text": [
      "F:\\applications\\Anaconda3\\lib\\site-packages\\ipykernel_launcher.py:5: FutureWarning: `rcond` parameter will change to the default of machine precision times ``max(M, N)`` where M and N are the input matrix dimensions.\n",
      "To use the future default and silence this warning we advise to pass `rcond=None`, to keep using the old, explicitly pass `rcond=-1`.\n",
      "  \"\"\"\n"
     ]
    }
   ],
   "source": [
    "w = leastSquaresFit(\"https://raw.githubusercontent.com/MIE451-1513-2019/course-datasets/master/X.csv\",\"https://raw.githubusercontent.com/MIE451-1513-2019/course-datasets/master/Y.csv\")\n",
    "assert(w.shape == (3, 1))\n"
   ]
  },
  {
   "cell_type": "code",
   "execution_count": 23,
   "metadata": {
    "colab": {},
    "colab_type": "code",
    "id": "PDvo9Ik_hzDA"
   },
   "outputs": [],
   "source": [
    "assert(isinstance(w,np.ndarray))"
   ]
  },
  {
   "cell_type": "code",
   "execution_count": null,
   "metadata": {},
   "outputs": [],
   "source": []
  }
 ],
 "metadata": {
  "colab": {
   "collapsed_sections": [],
   "name": "Python_Warmup.ipynb",
   "provenance": [],
   "version": "0.3.2"
  },
  "kernelspec": {
   "display_name": "Python 3",
   "language": "python",
   "name": "python3"
  },
  "language_info": {
   "codemirror_mode": {
    "name": "ipython",
    "version": 3
   },
   "file_extension": ".py",
   "mimetype": "text/x-python",
   "name": "python",
   "nbconvert_exporter": "python",
   "pygments_lexer": "ipython3",
   "version": "3.7.3"
  }
 },
 "nbformat": 4,
 "nbformat_minor": 1
}
