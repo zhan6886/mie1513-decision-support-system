{
  "nbformat": 4,
  "nbformat_minor": 0,
  "metadata": {
    "kernelspec": {
      "display_name": "Python 3",
      "language": "python",
      "name": "python3"
    },
    "language_info": {
      "codemirror_mode": {
        "name": "ipython",
        "version": 3
      },
      "file_extension": ".py",
      "mimetype": "text/x-python",
      "name": "python",
      "nbconvert_exporter": "python",
      "pygments_lexer": "ipython3",
      "version": "3.5.2"
    },
    "colab": {
      "name": "lab-sa.ipynb",
      "provenance": []
    }
  },
  "cells": [
    {
      "cell_type": "markdown",
      "metadata": {
        "id": "7f4MV-h21hmq",
        "colab_type": "text"
      },
      "source": [
        "MIE451/1513 Decision Support System -- Sentiment Analysis Lab\n",
        "==="
      ]
    },
    {
      "cell_type": "markdown",
      "metadata": {
        "id": "VVHpemSX1hmw",
        "colab_type": "text"
      },
      "source": [
        "## Packages"
      ]
    },
    {
      "cell_type": "markdown",
      "metadata": {
        "id": "wm5ZSK8d1hmx",
        "colab_type": "text"
      },
      "source": [
        "### type: pip install twython -y"
      ]
    },
    {
      "cell_type": "code",
      "metadata": {
        "id": "IDWNtZn01hmy",
        "colab_type": "code",
        "colab": {
          "base_uri": "https://localhost:8080/",
          "height": 51
        },
        "outputId": "a80fdeab-0311-4c11-a7ee-2bb575a318f2"
      },
      "source": [
        "import sys\n",
        "print(sys.version)"
      ],
      "execution_count": 1,
      "outputs": [
        {
          "output_type": "stream",
          "text": [
            "3.6.8 (default, Oct  7 2019, 12:59:55) \n",
            "[GCC 8.3.0]\n"
          ],
          "name": "stdout"
        }
      ]
    },
    {
      "cell_type": "code",
      "metadata": {
        "id": "hzO0qI8O1taB",
        "colab_type": "code",
        "colab": {
          "base_uri": "https://localhost:8080/",
          "height": 153
        },
        "outputId": "9de764d9-96b1-4955-f91e-860857429978"
      },
      "source": [
        "!pip install twython"
      ],
      "execution_count": 2,
      "outputs": [
        {
          "output_type": "stream",
          "text": [
            "Requirement already satisfied: twython in /usr/local/lib/python3.6/dist-packages (3.7.0)\n",
            "Requirement already satisfied: requests>=2.1.0 in /usr/local/lib/python3.6/dist-packages (from twython) (2.21.0)\n",
            "Requirement already satisfied: requests-oauthlib>=0.4.0 in /usr/local/lib/python3.6/dist-packages (from twython) (1.2.0)\n",
            "Requirement already satisfied: idna<2.9,>=2.5 in /usr/local/lib/python3.6/dist-packages (from requests>=2.1.0->twython) (2.8)\n",
            "Requirement already satisfied: urllib3<1.25,>=1.21.1 in /usr/local/lib/python3.6/dist-packages (from requests>=2.1.0->twython) (1.24.3)\n",
            "Requirement already satisfied: certifi>=2017.4.17 in /usr/local/lib/python3.6/dist-packages (from requests>=2.1.0->twython) (2019.9.11)\n",
            "Requirement already satisfied: chardet<3.1.0,>=3.0.2 in /usr/local/lib/python3.6/dist-packages (from requests>=2.1.0->twython) (3.0.4)\n",
            "Requirement already satisfied: oauthlib>=3.0.0 in /usr/local/lib/python3.6/dist-packages (from requests-oauthlib>=0.4.0->twython) (3.1.0)\n"
          ],
          "name": "stdout"
        }
      ]
    },
    {
      "cell_type": "code",
      "metadata": {
        "id": "2-f5YFRQ1hm3",
        "colab_type": "code",
        "colab": {
          "base_uri": "https://localhost:8080/",
          "height": 187
        },
        "outputId": "ac957dac-60d9-4909-9ea3-4af662e9c47f"
      },
      "source": [
        "#Plot\n",
        "import matplotlib.pyplot as plt\n",
        "import seaborn as sns\n",
        "%matplotlib inline\n",
        "\n",
        "#Data Packages\n",
        "import math\n",
        "import pandas\n",
        "import numpy as np\n",
        "\n",
        "#Progress bar\n",
        "from tqdm import tqdm\n",
        "\n",
        "#Counter\n",
        "from collections import Counter\n",
        "\n",
        "#Operation\n",
        "import operator\n",
        "\n",
        "#Natural Language Processing Packages\n",
        "import re\n",
        "import nltk\n",
        "\n",
        "## Download Resources\n",
        "nltk.download(\"vader_lexicon\")\n",
        "nltk.download(\"stopwords\")\n",
        "nltk.download(\"averaged_perceptron_tagger\")\n",
        "nltk.download(\"wordnet\")\n",
        "\n",
        "from nltk.sentiment import SentimentAnalyzer\n",
        "from nltk.sentiment.vader import SentimentIntensityAnalyzer\n",
        "from nltk.sentiment.util import *\n",
        "from nltk import tokenize\n",
        "from nltk.corpus import stopwords\n",
        "from nltk.tag import PerceptronTagger\n",
        "from nltk.data import find\n",
        "\n",
        "## Machine Learning\n",
        "import sklearn\n",
        "import sklearn.metrics as metrics"
      ],
      "execution_count": 3,
      "outputs": [
        {
          "output_type": "stream",
          "text": [
            "[nltk_data] Downloading package vader_lexicon to /root/nltk_data...\n",
            "[nltk_data]   Package vader_lexicon is already up-to-date!\n",
            "[nltk_data] Downloading package stopwords to /root/nltk_data...\n",
            "[nltk_data]   Package stopwords is already up-to-date!\n",
            "[nltk_data] Downloading package averaged_perceptron_tagger to\n",
            "[nltk_data]     /root/nltk_data...\n",
            "[nltk_data]   Package averaged_perceptron_tagger is already up-to-\n",
            "[nltk_data]       date!\n",
            "[nltk_data] Downloading package wordnet to /root/nltk_data...\n",
            "[nltk_data]   Package wordnet is already up-to-date!\n"
          ],
          "name": "stdout"
        }
      ]
    },
    {
      "cell_type": "markdown",
      "metadata": {
        "id": "1fjIr9ce1hm8",
        "colab_type": "text"
      },
      "source": [
        "## Simple Examples"
      ]
    },
    {
      "cell_type": "code",
      "metadata": {
        "id": "KYOkf0C61hm9",
        "colab_type": "code",
        "colab": {}
      },
      "source": [
        "#Example sentences\n",
        "sentences = [\"VADER is smart, handsome, and funny.\",\n",
        "            \"Professor Scott is a great professor with excellent teaching skills and research ability\",\n",
        "            \"Eldan is a good programmer, he is very good at python and Java\",\n",
        "            \"George is a good programmer, he is good at Java and C++ but not doing that well in python\",\n",
        "            \"MIEXXX is such a boring course, the projects are too long to finish\",\n",
        "            \"MIE451 is a very intersting course which taught by a great professor and very useful knowledge\"]"
      ],
      "execution_count": 0,
      "outputs": []
    },
    {
      "cell_type": "code",
      "metadata": {
        "id": "76uwQgx31hnA",
        "colab_type": "code",
        "colab": {}
      },
      "source": [
        "# Use vader to evaluated sentiment of reviews\n",
        "def evalSentences(sentences, to_df=False, columns=[]):\n",
        "    #Instantiate an instance to access SentimentIntensityAnalyzer class\n",
        "    sid = SentimentIntensityAnalyzer()\n",
        "    pdlist = []\n",
        "    if to_df:\n",
        "        for sentence in tqdm(sentences):\n",
        "            ss = sid.polarity_scores(sentence)\n",
        "            pdlist.append([sentence]+[ss['compound']])\n",
        "        reviewDf = pandas.DataFrame(pdlist)\n",
        "        reviewDf.columns = columns\n",
        "        return reviewDf\n",
        "    \n",
        "    else:\n",
        "        for sentence in tqdm(sentences):\n",
        "            print(sentence)\n",
        "            ss = sid.polarity_scores(sentence)\n",
        "            for k in sorted(ss):\n",
        "                print('{0}: {1}, '.format(k, ss[k]), end='')\n",
        "            print()"
      ],
      "execution_count": 0,
      "outputs": []
    },
    {
      "cell_type": "code",
      "metadata": {
        "id": "VB2OXOm11hnD",
        "colab_type": "code",
        "colab": {
          "base_uri": "https://localhost:8080/",
          "height": 238
        },
        "outputId": "d490a617-93a6-45c7-b2e7-84b2c710c626"
      },
      "source": [
        "evalSentences(sentences)"
      ],
      "execution_count": 6,
      "outputs": [
        {
          "output_type": "stream",
          "text": [
            "100%|██████████| 6/6 [00:00<00:00, 700.22it/s]"
          ],
          "name": "stderr"
        },
        {
          "output_type": "stream",
          "text": [
            "VADER is smart, handsome, and funny.\n",
            "compound: 0.8316, neg: 0.0, neu: 0.254, pos: 0.746, \n",
            "Professor Scott is a great professor with excellent teaching skills and research ability\n",
            "compound: 0.8779, neg: 0.0, neu: 0.471, pos: 0.529, \n",
            "Eldan is a good programmer, he is very good at python and Java\n",
            "compound: 0.7003, neg: 0.0, neu: 0.633, pos: 0.367, \n",
            "George is a good programmer, he is good at Java and C++ but not doing that well in python\n",
            "compound: 0.1727, neg: 0.105, neu: 0.71, pos: 0.185, \n",
            "MIEXXX is such a boring course, the projects are too long to finish\n",
            "compound: -0.3182, neg: 0.173, neu: 0.827, pos: 0.0, \n",
            "MIE451 is a very intersting course which taught by a great professor and very useful knowledge\n",
            "compound: 0.807, neg: 0.0, neu: 0.622, pos: 0.378, \n"
          ],
          "name": "stdout"
        },
        {
          "output_type": "stream",
          "text": [
            "\n"
          ],
          "name": "stderr"
        }
      ]
    },
    {
      "cell_type": "markdown",
      "metadata": {
        "id": "6fk1QWOD1hnF",
        "colab_type": "text"
      },
      "source": [
        "# Working on Real social Network Data"
      ]
    },
    {
      "cell_type": "markdown",
      "metadata": {
        "id": "_0NqQGqS1hnH",
        "colab_type": "text"
      },
      "source": [
        "## Load Data"
      ]
    },
    {
      "cell_type": "code",
      "metadata": {
        "id": "a9bliTxr1hnJ",
        "colab_type": "code",
        "colab": {}
      },
      "source": [
        "#Read in from pandas\n",
        "hotelDf = pandas.read_csv('https://github.com/MIE451-1513-2019/course-datasets/raw/master/markham.csv')\n",
        "hotelDf.columns=['idNum','filePath','hotelName','reviewColumn','ratingScore','groundTruth']"
      ],
      "execution_count": 0,
      "outputs": []
    },
    {
      "cell_type": "code",
      "metadata": {
        "id": "1Y3xNf-M1hnM",
        "colab_type": "code",
        "colab": {
          "base_uri": "https://localhost:8080/",
          "height": 204
        },
        "outputId": "273bcfe8-5182-4433-9744-c4881bfda538"
      },
      "source": [
        "hotelDf.head()"
      ],
      "execution_count": 8,
      "outputs": [
        {
          "output_type": "execute_result",
          "data": {
            "text/html": [
              "<div>\n",
              "<style scoped>\n",
              "    .dataframe tbody tr th:only-of-type {\n",
              "        vertical-align: middle;\n",
              "    }\n",
              "\n",
              "    .dataframe tbody tr th {\n",
              "        vertical-align: top;\n",
              "    }\n",
              "\n",
              "    .dataframe thead th {\n",
              "        text-align: right;\n",
              "    }\n",
              "</style>\n",
              "<table border=\"1\" class=\"dataframe\">\n",
              "  <thead>\n",
              "    <tr style=\"text-align: right;\">\n",
              "      <th></th>\n",
              "      <th>idNum</th>\n",
              "      <th>filePath</th>\n",
              "      <th>hotelName</th>\n",
              "      <th>reviewColumn</th>\n",
              "      <th>ratingScore</th>\n",
              "      <th>groundTruth</th>\n",
              "    </tr>\n",
              "  </thead>\n",
              "  <tbody>\n",
              "    <tr>\n",
              "      <th>0</th>\n",
              "      <td>86280330</td>\n",
              "      <td>markham\\ca\\181720\\181948\\107186787.html</td>\n",
              "      <td>Staybridge Suites Toronto</td>\n",
              "      <td>my husband and i stayed there for 9 nights as ...</td>\n",
              "      <td>4</td>\n",
              "      <td>positive</td>\n",
              "    </tr>\n",
              "    <tr>\n",
              "      <th>1</th>\n",
              "      <td>85071982</td>\n",
              "      <td>markham\\ca\\181720\\181948\\107186787.html</td>\n",
              "      <td>Staybridge Suites Toronto</td>\n",
              "      <td>Our stay was not the worst I've ever stayed in...</td>\n",
              "      <td>3</td>\n",
              "      <td>negative</td>\n",
              "    </tr>\n",
              "    <tr>\n",
              "      <th>2</th>\n",
              "      <td>79574338</td>\n",
              "      <td>markham\\ca\\181720\\181948\\107186787.html</td>\n",
              "      <td>Staybridge Suites Toronto</td>\n",
              "      <td>I stayed here during a weeknight in July with ...</td>\n",
              "      <td>3</td>\n",
              "      <td>negative</td>\n",
              "    </tr>\n",
              "    <tr>\n",
              "      <th>3</th>\n",
              "      <td>78931757</td>\n",
              "      <td>markham\\ca\\181720\\181948\\107186787.html</td>\n",
              "      <td>Staybridge Suites Toronto</td>\n",
              "      <td>Spent 5 weeks here while my home was prepped -...</td>\n",
              "      <td>5</td>\n",
              "      <td>positive</td>\n",
              "    </tr>\n",
              "    <tr>\n",
              "      <th>4</th>\n",
              "      <td>78277874</td>\n",
              "      <td>markham\\ca\\181720\\181948\\107186787.html</td>\n",
              "      <td>Staybridge Suites Toronto</td>\n",
              "      <td>My family booked this hotel and at first we we...</td>\n",
              "      <td>5</td>\n",
              "      <td>positive</td>\n",
              "    </tr>\n",
              "  </tbody>\n",
              "</table>\n",
              "</div>"
            ],
            "text/plain": [
              "      idNum                                 filePath  ... ratingScore groundTruth\n",
              "0  86280330  markham\\ca\\181720\\181948\\107186787.html  ...           4    positive\n",
              "1  85071982  markham\\ca\\181720\\181948\\107186787.html  ...           3    negative\n",
              "2  79574338  markham\\ca\\181720\\181948\\107186787.html  ...           3    negative\n",
              "3  78931757  markham\\ca\\181720\\181948\\107186787.html  ...           5    positive\n",
              "4  78277874  markham\\ca\\181720\\181948\\107186787.html  ...           5    positive\n",
              "\n",
              "[5 rows x 6 columns]"
            ]
          },
          "metadata": {
            "tags": []
          },
          "execution_count": 8
        }
      ]
    },
    {
      "cell_type": "markdown",
      "metadata": {
        "id": "w8SUlX-Y1hnU",
        "colab_type": "text"
      },
      "source": [
        "## Sentiment Analysis"
      ]
    },
    {
      "cell_type": "code",
      "metadata": {
        "id": "eXqamPdM1hnU",
        "colab_type": "code",
        "colab": {}
      },
      "source": [
        "reviews = hotelDf['reviewColumn'].values"
      ],
      "execution_count": 0,
      "outputs": []
    },
    {
      "cell_type": "code",
      "metadata": {
        "id": "gVxkjSkF1hnZ",
        "colab_type": "code",
        "colab": {},
        "outputId": "c4c1ead1-30a0-4e90-fa0e-3e7334d7affb"
      },
      "source": [
        "reviewDF = evalSentences(reviews, to_df=True, columns=['reviewCol','vader'])"
      ],
      "execution_count": 0,
      "outputs": [
        {
          "output_type": "stream",
          "text": [
            "100%|██████████| 3894/3894 [00:04<00:00, 873.42it/s] \n"
          ],
          "name": "stderr"
        }
      ]
    },
    {
      "cell_type": "code",
      "metadata": {
        "id": "MGc8aKOL1hnb",
        "colab_type": "code",
        "colab": {},
        "outputId": "1bd878a0-716d-45a6-a9b2-770845ff55b6"
      },
      "source": [
        "reviewDF.head()"
      ],
      "execution_count": 0,
      "outputs": [
        {
          "output_type": "execute_result",
          "data": {
            "text/html": [
              "<div>\n",
              "<style scoped>\n",
              "    .dataframe tbody tr th:only-of-type {\n",
              "        vertical-align: middle;\n",
              "    }\n",
              "\n",
              "    .dataframe tbody tr th {\n",
              "        vertical-align: top;\n",
              "    }\n",
              "\n",
              "    .dataframe thead th {\n",
              "        text-align: right;\n",
              "    }\n",
              "</style>\n",
              "<table border=\"1\" class=\"dataframe\">\n",
              "  <thead>\n",
              "    <tr style=\"text-align: right;\">\n",
              "      <th></th>\n",
              "      <th>reviewCol</th>\n",
              "      <th>vader</th>\n",
              "    </tr>\n",
              "  </thead>\n",
              "  <tbody>\n",
              "    <tr>\n",
              "      <th>0</th>\n",
              "      <td>my husband and i stayed there for 9 nights as ...</td>\n",
              "      <td>0.9731</td>\n",
              "    </tr>\n",
              "    <tr>\n",
              "      <th>1</th>\n",
              "      <td>Our stay was not the worst I've ever stayed in...</td>\n",
              "      <td>-0.2973</td>\n",
              "    </tr>\n",
              "    <tr>\n",
              "      <th>2</th>\n",
              "      <td>I stayed here during a weeknight in July with ...</td>\n",
              "      <td>-0.6042</td>\n",
              "    </tr>\n",
              "    <tr>\n",
              "      <th>3</th>\n",
              "      <td>Spent 5 weeks here while my home was prepped -...</td>\n",
              "      <td>0.9537</td>\n",
              "    </tr>\n",
              "    <tr>\n",
              "      <th>4</th>\n",
              "      <td>My family booked this hotel and at first we we...</td>\n",
              "      <td>0.9985</td>\n",
              "    </tr>\n",
              "  </tbody>\n",
              "</table>\n",
              "</div>"
            ],
            "text/plain": [
              "                                           reviewCol   vader\n",
              "0  my husband and i stayed there for 9 nights as ...  0.9731\n",
              "1  Our stay was not the worst I've ever stayed in... -0.2973\n",
              "2  I stayed here during a weeknight in July with ... -0.6042\n",
              "3  Spent 5 weeks here while my home was prepped -...  0.9537\n",
              "4  My family booked this hotel and at first we we...  0.9985"
            ]
          },
          "metadata": {
            "tags": []
          },
          "execution_count": 10
        }
      ]
    },
    {
      "cell_type": "markdown",
      "metadata": {
        "id": "6yjLcjfP1hnf",
        "colab_type": "text"
      },
      "source": [
        "## Find most sentimental words by Mutual Information"
      ]
    },
    {
      "cell_type": "markdown",
      "metadata": {
        "id": "NSCO2F7i1hng",
        "colab_type": "text"
      },
      "source": [
        "### Data Preprocessing\n",
        "1. Find Topk words (No preprocessing steps now)\n",
        "2. Reconstruct the above dataframe into CSV style.."
      ]
    },
    {
      "cell_type": "code",
      "metadata": {
        "id": "gUqTqSUp1hni",
        "colab_type": "code",
        "colab": {}
      },
      "source": [
        "# Note: You may want to use an NLTK tokenizer instead of a regular expression in the following\n",
        "def dataFrameTransformation(hotelDf, reviewDF, k=500):\n",
        "    reviews = reviewDF['reviewCol'].values\n",
        "    \n",
        "    stop = set(stopwords.words('english'))\n",
        "    \n",
        "    # Top-k frequent terms\n",
        "    counter = Counter()\n",
        "    for review in reviews:\n",
        "            counter.update([word.lower() \n",
        "                            for word \n",
        "                            in re.findall(r'\\w+', review) \n",
        "                            if word.lower() not in stop and len(word) > 2])\n",
        "    topk = counter.most_common(k)        \n",
        "    \n",
        "    #Find out if a particular review has the word from topk list\n",
        "    freqReview = []\n",
        "    for i in range(len(reviews)):\n",
        "        tempCounter = Counter([word.lower() for word in re.findall(r'\\w+',reviews[i])])\n",
        "        topkinReview = [1 if tempCounter[word] > 0 else 0 for (word,wordCount) in topk]\n",
        "        freqReview.append(topkinReview)\n",
        "        \n",
        "        \n",
        "    #Prepare freqReviewDf\n",
        "    freqReviewDf = pandas.DataFrame(freqReview)\n",
        "    dfName = []\n",
        "    for c in topk:\n",
        "        dfName.append(c[0])\n",
        "    freqReviewDf.columns = dfName\n",
        "    finalreviewDf = reviewDF.join(freqReviewDf)\n",
        "    finaldf = hotelDf[['hotelName','ratingScore','groundTruth']].join(finalreviewDf)\n",
        "    return topk, finaldf"
      ],
      "execution_count": 0,
      "outputs": []
    },
    {
      "cell_type": "code",
      "metadata": {
        "id": "Jpz98pF01hnp",
        "colab_type": "code",
        "colab": {}
      },
      "source": [
        "topk, finaldf = dataFrameTransformation(hotelDf, reviewDF, k=500)"
      ],
      "execution_count": 0,
      "outputs": []
    },
    {
      "cell_type": "code",
      "metadata": {
        "id": "TfdolG4y1hnu",
        "colab_type": "code",
        "colab": {},
        "outputId": "2a56c194-3a47-4d63-ccc6-0ec5999af673"
      },
      "source": [
        "finaldf.head()"
      ],
      "execution_count": 0,
      "outputs": [
        {
          "output_type": "execute_result",
          "data": {
            "text/html": [
              "<div>\n",
              "<style scoped>\n",
              "    .dataframe tbody tr th:only-of-type {\n",
              "        vertical-align: middle;\n",
              "    }\n",
              "\n",
              "    .dataframe tbody tr th {\n",
              "        vertical-align: top;\n",
              "    }\n",
              "\n",
              "    .dataframe thead th {\n",
              "        text-align: right;\n",
              "    }\n",
              "</style>\n",
              "<table border=\"1\" class=\"dataframe\">\n",
              "  <thead>\n",
              "    <tr style=\"text-align: right;\">\n",
              "      <th></th>\n",
              "      <th>hotelName</th>\n",
              "      <th>ratingScore</th>\n",
              "      <th>groundTruth</th>\n",
              "      <th>reviewCol</th>\n",
              "      <th>vader</th>\n",
              "      <th>room</th>\n",
              "      <th>hotel</th>\n",
              "      <th>staff</th>\n",
              "      <th>stay</th>\n",
              "      <th>breakfast</th>\n",
              "      <th>...</th>\n",
              "      <th>appointed</th>\n",
              "      <th>stays</th>\n",
              "      <th>set</th>\n",
              "      <th>attentive</th>\n",
              "      <th>glass</th>\n",
              "      <th>zoo</th>\n",
              "      <th>thanks</th>\n",
              "      <th>job</th>\n",
              "      <th>welcome</th>\n",
              "      <th>wish</th>\n",
              "    </tr>\n",
              "  </thead>\n",
              "  <tbody>\n",
              "    <tr>\n",
              "      <th>0</th>\n",
              "      <td>Staybridge Suites Toronto</td>\n",
              "      <td>4</td>\n",
              "      <td>positive</td>\n",
              "      <td>my husband and i stayed there for 9 nights as ...</td>\n",
              "      <td>0.9731</td>\n",
              "      <td>0</td>\n",
              "      <td>1</td>\n",
              "      <td>0</td>\n",
              "      <td>0</td>\n",
              "      <td>1</td>\n",
              "      <td>...</td>\n",
              "      <td>0</td>\n",
              "      <td>0</td>\n",
              "      <td>0</td>\n",
              "      <td>0</td>\n",
              "      <td>0</td>\n",
              "      <td>0</td>\n",
              "      <td>0</td>\n",
              "      <td>0</td>\n",
              "      <td>0</td>\n",
              "      <td>0</td>\n",
              "    </tr>\n",
              "    <tr>\n",
              "      <th>1</th>\n",
              "      <td>Staybridge Suites Toronto</td>\n",
              "      <td>3</td>\n",
              "      <td>negative</td>\n",
              "      <td>Our stay was not the worst I've ever stayed in...</td>\n",
              "      <td>-0.2973</td>\n",
              "      <td>1</td>\n",
              "      <td>0</td>\n",
              "      <td>0</td>\n",
              "      <td>1</td>\n",
              "      <td>0</td>\n",
              "      <td>...</td>\n",
              "      <td>0</td>\n",
              "      <td>0</td>\n",
              "      <td>0</td>\n",
              "      <td>0</td>\n",
              "      <td>0</td>\n",
              "      <td>0</td>\n",
              "      <td>0</td>\n",
              "      <td>0</td>\n",
              "      <td>0</td>\n",
              "      <td>0</td>\n",
              "    </tr>\n",
              "    <tr>\n",
              "      <th>2</th>\n",
              "      <td>Staybridge Suites Toronto</td>\n",
              "      <td>3</td>\n",
              "      <td>negative</td>\n",
              "      <td>I stayed here during a weeknight in July with ...</td>\n",
              "      <td>-0.6042</td>\n",
              "      <td>1</td>\n",
              "      <td>1</td>\n",
              "      <td>0</td>\n",
              "      <td>0</td>\n",
              "      <td>0</td>\n",
              "      <td>...</td>\n",
              "      <td>0</td>\n",
              "      <td>0</td>\n",
              "      <td>0</td>\n",
              "      <td>0</td>\n",
              "      <td>0</td>\n",
              "      <td>1</td>\n",
              "      <td>0</td>\n",
              "      <td>0</td>\n",
              "      <td>0</td>\n",
              "      <td>0</td>\n",
              "    </tr>\n",
              "    <tr>\n",
              "      <th>3</th>\n",
              "      <td>Staybridge Suites Toronto</td>\n",
              "      <td>5</td>\n",
              "      <td>positive</td>\n",
              "      <td>Spent 5 weeks here while my home was prepped -...</td>\n",
              "      <td>0.9537</td>\n",
              "      <td>0</td>\n",
              "      <td>0</td>\n",
              "      <td>1</td>\n",
              "      <td>1</td>\n",
              "      <td>1</td>\n",
              "      <td>...</td>\n",
              "      <td>0</td>\n",
              "      <td>0</td>\n",
              "      <td>0</td>\n",
              "      <td>0</td>\n",
              "      <td>0</td>\n",
              "      <td>0</td>\n",
              "      <td>0</td>\n",
              "      <td>0</td>\n",
              "      <td>0</td>\n",
              "      <td>0</td>\n",
              "    </tr>\n",
              "    <tr>\n",
              "      <th>4</th>\n",
              "      <td>Staybridge Suites Toronto</td>\n",
              "      <td>5</td>\n",
              "      <td>positive</td>\n",
              "      <td>My family booked this hotel and at first we we...</td>\n",
              "      <td>0.9985</td>\n",
              "      <td>1</td>\n",
              "      <td>1</td>\n",
              "      <td>1</td>\n",
              "      <td>0</td>\n",
              "      <td>1</td>\n",
              "      <td>...</td>\n",
              "      <td>0</td>\n",
              "      <td>0</td>\n",
              "      <td>0</td>\n",
              "      <td>0</td>\n",
              "      <td>0</td>\n",
              "      <td>0</td>\n",
              "      <td>0</td>\n",
              "      <td>1</td>\n",
              "      <td>0</td>\n",
              "      <td>0</td>\n",
              "    </tr>\n",
              "  </tbody>\n",
              "</table>\n",
              "<p>5 rows × 505 columns</p>\n",
              "</div>"
            ],
            "text/plain": [
              "                   hotelName  ratingScore groundTruth  \\\n",
              "0  Staybridge Suites Toronto            4    positive   \n",
              "1  Staybridge Suites Toronto            3    negative   \n",
              "2  Staybridge Suites Toronto            3    negative   \n",
              "3  Staybridge Suites Toronto            5    positive   \n",
              "4  Staybridge Suites Toronto            5    positive   \n",
              "\n",
              "                                           reviewCol   vader  room  hotel  \\\n",
              "0  my husband and i stayed there for 9 nights as ...  0.9731     0      1   \n",
              "1  Our stay was not the worst I've ever stayed in... -0.2973     1      0   \n",
              "2  I stayed here during a weeknight in July with ... -0.6042     1      1   \n",
              "3  Spent 5 weeks here while my home was prepped -...  0.9537     0      0   \n",
              "4  My family booked this hotel and at first we we...  0.9985     1      1   \n",
              "\n",
              "   staff  stay  breakfast  ...   appointed  stays  set  attentive  glass  zoo  \\\n",
              "0      0     0          1  ...           0      0    0          0      0    0   \n",
              "1      0     1          0  ...           0      0    0          0      0    0   \n",
              "2      0     0          0  ...           0      0    0          0      0    1   \n",
              "3      1     1          1  ...           0      0    0          0      0    0   \n",
              "4      1     0          1  ...           0      0    0          0      0    0   \n",
              "\n",
              "   thanks  job  welcome  wish  \n",
              "0       0    0        0     0  \n",
              "1       0    0        0     0  \n",
              "2       0    0        0     0  \n",
              "3       0    0        0     0  \n",
              "4       0    1        0     0  \n",
              "\n",
              "[5 rows x 505 columns]"
            ]
          },
          "metadata": {
            "tags": []
          },
          "execution_count": 13
        }
      ]
    },
    {
      "cell_type": "markdown",
      "metadata": {
        "id": "hXg0rVa_1hn1",
        "colab_type": "text"
      },
      "source": [
        "### Compute Mutual Information"
      ]
    },
    {
      "cell_type": "markdown",
      "metadata": {
        "id": "nJ2khESc1hn3",
        "colab_type": "text"
      },
      "source": [
        "#### Mutual Information"
      ]
    },
    {
      "cell_type": "code",
      "metadata": {
        "id": "eb3U-y3c1hn4",
        "colab_type": "code",
        "colab": {}
      },
      "source": [
        "# get Top K mutual information terms from the dataframe\n",
        "def getMI(topk, df, label_column='groundTruth'):\n",
        "    miScore = []\n",
        "    for word in topk:\n",
        "        miScore.append([word[0]]+[metrics.mutual_info_score(finaldf[label_column], finaldf[word[0]])])\n",
        "    miScoredf = pandas.DataFrame(miScore).sort_values(1,ascending=0)\n",
        "    miScoredf.columns = ['Word','MI Score']\n",
        "    return miScoredf"
      ],
      "execution_count": 0,
      "outputs": []
    },
    {
      "cell_type": "code",
      "metadata": {
        "id": "H7oJiFC51hn8",
        "colab_type": "code",
        "colab": {}
      },
      "source": [
        "miScoredf = getMI(topk, finaldf)"
      ],
      "execution_count": 0,
      "outputs": []
    },
    {
      "cell_type": "code",
      "metadata": {
        "id": "OdlwSk6K1hn_",
        "colab_type": "code",
        "colab": {},
        "outputId": "439af06d-a1c4-43fe-ec97-185ccab1008d"
      },
      "source": [
        "miScoredf.head()"
      ],
      "execution_count": 0,
      "outputs": [
        {
          "output_type": "execute_result",
          "data": {
            "text/html": [
              "<div>\n",
              "<style scoped>\n",
              "    .dataframe tbody tr th:only-of-type {\n",
              "        vertical-align: middle;\n",
              "    }\n",
              "\n",
              "    .dataframe tbody tr th {\n",
              "        vertical-align: top;\n",
              "    }\n",
              "\n",
              "    .dataframe thead th {\n",
              "        text-align: right;\n",
              "    }\n",
              "</style>\n",
              "<table border=\"1\" class=\"dataframe\">\n",
              "  <thead>\n",
              "    <tr style=\"text-align: right;\">\n",
              "      <th></th>\n",
              "      <th>Word</th>\n",
              "      <th>MI Score</th>\n",
              "    </tr>\n",
              "  </thead>\n",
              "  <tbody>\n",
              "    <tr>\n",
              "      <th>152</th>\n",
              "      <td>told</td>\n",
              "      <td>0.017627</td>\n",
              "    </tr>\n",
              "    <tr>\n",
              "      <th>7</th>\n",
              "      <td>great</td>\n",
              "      <td>0.016604</td>\n",
              "    </tr>\n",
              "    <tr>\n",
              "      <th>6</th>\n",
              "      <td>clean</td>\n",
              "      <td>0.014867</td>\n",
              "    </tr>\n",
              "    <tr>\n",
              "      <th>162</th>\n",
              "      <td>said</td>\n",
              "      <td>0.014862</td>\n",
              "    </tr>\n",
              "    <tr>\n",
              "      <th>373</th>\n",
              "      <td>poor</td>\n",
              "      <td>0.013762</td>\n",
              "    </tr>\n",
              "  </tbody>\n",
              "</table>\n",
              "</div>"
            ],
            "text/plain": [
              "      Word  MI Score\n",
              "152   told  0.017627\n",
              "7    great  0.016604\n",
              "6    clean  0.014867\n",
              "162   said  0.014862\n",
              "373   poor  0.013762"
            ]
          },
          "metadata": {
            "tags": []
          },
          "execution_count": 16
        }
      ]
    },
    {
      "cell_type": "markdown",
      "metadata": {
        "id": "r2v09_dM1hoF",
        "colab_type": "text"
      },
      "source": [
        "#### Pairwise Mutual Information"
      ]
    },
    {
      "cell_type": "markdown",
      "metadata": {
        "id": "DG7pHxQo1hoG",
        "colab_type": "text"
      },
      "source": [
        "show case"
      ]
    },
    {
      "cell_type": "code",
      "metadata": {
        "id": "nONwD5qA1hoH",
        "colab_type": "code",
        "colab": {}
      },
      "source": [
        "# Simple example of getting pairwise mutual information of a term\n",
        "def pmiCal(df, x):\n",
        "    pmilist=[]\n",
        "    for i in ['positive','negative']:\n",
        "        for j in [0,1]:\n",
        "            px = sum(df['groundTruth']==i)/len(df)\n",
        "            py = sum(df[x]==j)/len(df)\n",
        "            pxy = len(df[(df['groundTruth']==i) & (df[x]==j)])/len(df)\n",
        "            if pxy==0:#Log 0 cannot happen\n",
        "                pmi = math.log((pxy+0.0001)/(px*py))\n",
        "            else:\n",
        "                pmi = math.log(pxy/(px*py))\n",
        "            pmilist.append([i]+[j]+[px]+[py]+[pxy]+[pmi])\n",
        "    pmidf = pandas.DataFrame(pmilist)\n",
        "    pmidf.columns = ['x','y','px','py','pxy','pmi']\n",
        "    return pmidf"
      ],
      "execution_count": 0,
      "outputs": []
    },
    {
      "cell_type": "code",
      "metadata": {
        "id": "ihjEL83N1hoP",
        "colab_type": "code",
        "colab": {},
        "outputId": "4ace3788-9035-4e6f-a242-f58b60375bf0"
      },
      "source": [
        "pmiCal(finaldf,'hampton')"
      ],
      "execution_count": 0,
      "outputs": [
        {
          "output_type": "execute_result",
          "data": {
            "text/html": [
              "<div>\n",
              "<style scoped>\n",
              "    .dataframe tbody tr th:only-of-type {\n",
              "        vertical-align: middle;\n",
              "    }\n",
              "\n",
              "    .dataframe tbody tr th {\n",
              "        vertical-align: top;\n",
              "    }\n",
              "\n",
              "    .dataframe thead th {\n",
              "        text-align: right;\n",
              "    }\n",
              "</style>\n",
              "<table border=\"1\" class=\"dataframe\">\n",
              "  <thead>\n",
              "    <tr style=\"text-align: right;\">\n",
              "      <th></th>\n",
              "      <th>x</th>\n",
              "      <th>y</th>\n",
              "      <th>px</th>\n",
              "      <th>py</th>\n",
              "      <th>pxy</th>\n",
              "      <th>pmi</th>\n",
              "    </tr>\n",
              "  </thead>\n",
              "  <tbody>\n",
              "    <tr>\n",
              "      <th>0</th>\n",
              "      <td>positive</td>\n",
              "      <td>0</td>\n",
              "      <td>0.778891</td>\n",
              "      <td>0.979199</td>\n",
              "      <td>0.761428</td>\n",
              "      <td>-0.001655</td>\n",
              "    </tr>\n",
              "    <tr>\n",
              "      <th>1</th>\n",
              "      <td>positive</td>\n",
              "      <td>1</td>\n",
              "      <td>0.778891</td>\n",
              "      <td>0.020801</td>\n",
              "      <td>0.017463</td>\n",
              "      <td>0.074943</td>\n",
              "    </tr>\n",
              "    <tr>\n",
              "      <th>2</th>\n",
              "      <td>negative</td>\n",
              "      <td>0</td>\n",
              "      <td>0.221109</td>\n",
              "      <td>0.979199</td>\n",
              "      <td>0.217771</td>\n",
              "      <td>0.005807</td>\n",
              "    </tr>\n",
              "    <tr>\n",
              "      <th>3</th>\n",
              "      <td>negative</td>\n",
              "      <td>1</td>\n",
              "      <td>0.221109</td>\n",
              "      <td>0.020801</td>\n",
              "      <td>0.003338</td>\n",
              "      <td>-0.320402</td>\n",
              "    </tr>\n",
              "  </tbody>\n",
              "</table>\n",
              "</div>"
            ],
            "text/plain": [
              "          x  y        px        py       pxy       pmi\n",
              "0  positive  0  0.778891  0.979199  0.761428 -0.001655\n",
              "1  positive  1  0.778891  0.020801  0.017463  0.074943\n",
              "2  negative  0  0.221109  0.979199  0.217771  0.005807\n",
              "3  negative  1  0.221109  0.020801  0.003338 -0.320402"
            ]
          },
          "metadata": {
            "tags": []
          },
          "execution_count": 18
        }
      ]
    },
    {
      "cell_type": "code",
      "metadata": {
        "id": "C1QoQt0A1hoT",
        "colab_type": "code",
        "colab": {}
      },
      "source": [
        "def pmiIndivCal(df,x,gt, label_column='groundTruth'):\n",
        "    px = sum(df[label_column]==gt)/len(df)\n",
        "    py = sum(df[x]==1)/len(df)\n",
        "    pxy = len(df[(df[label_column]==gt) & (df[x]==1)])/len(df)\n",
        "    if pxy==0:#Log 0 cannot happen\n",
        "        pmi = math.log((pxy+0.0001)/(px*py))\n",
        "    else:\n",
        "        pmi = math.log(pxy/(px*py))\n",
        "    return pmi"
      ],
      "execution_count": 0,
      "outputs": []
    },
    {
      "cell_type": "code",
      "metadata": {
        "id": "nKWwCNVT1hob",
        "colab_type": "code",
        "colab": {}
      },
      "source": [
        "# Compute PMI for all terms and all possible labels\n",
        "def pmiForAllCal(df, label_column='groundTruth', topk=topk):\n",
        "    #Try calculate all the pmi for top k and store them into one pmidf dataframe\n",
        "    pmilist = []\n",
        "    pmiposlist = []\n",
        "    pmineglist = []\n",
        "    for word in tqdm(topk):\n",
        "        pmilist.append([word[0]]+[pmiCal(df,word[0])])\n",
        "        pmiposlist.append([word[0]]+[pmiIndivCal(df,word[0],'positive',label_column)])\n",
        "        pmineglist.append([word[0]]+[pmiIndivCal(df,word[0],'negative',label_column)])\n",
        "    pmidf = pandas.DataFrame(pmilist)\n",
        "    pmiposlist = pandas.DataFrame(pmiposlist)\n",
        "    pmineglist = pandas.DataFrame(pmineglist)\n",
        "    pmiposlist.columns = ['word','pmi']\n",
        "    pmineglist.columns = ['word','pmi']\n",
        "    pmidf.columns = ['word','pmi']\n",
        "    return pmiposlist, pmineglist, pmidf"
      ],
      "execution_count": 0,
      "outputs": []
    },
    {
      "cell_type": "code",
      "metadata": {
        "id": "1GuGxOER1hoe",
        "colab_type": "code",
        "colab": {},
        "outputId": "f7bd816d-82d9-4c00-9dec-53e801acb81a"
      },
      "source": [
        "pmiposlist, pmineglist, pmidf = pmiForAllCal(finaldf)"
      ],
      "execution_count": 0,
      "outputs": [
        {
          "output_type": "stream",
          "text": [
            "100%|██████████| 500/500 [00:10<00:00, 56.28it/s]\n"
          ],
          "name": "stderr"
        }
      ]
    },
    {
      "cell_type": "code",
      "metadata": {
        "id": "ujDPl4h81hol",
        "colab_type": "code",
        "colab": {},
        "outputId": "e95dafb4-b1d8-4b39-dc13-76275a77dab3"
      },
      "source": [
        "#Sorted top pmi words for positive reviews\n",
        "pmiposlist.sort_values('pmi',ascending=0).head(5)"
      ],
      "execution_count": 0,
      "outputs": [
        {
          "output_type": "execute_result",
          "data": {
            "text/html": [
              "<div>\n",
              "<style scoped>\n",
              "    .dataframe tbody tr th:only-of-type {\n",
              "        vertical-align: middle;\n",
              "    }\n",
              "\n",
              "    .dataframe tbody tr th {\n",
              "        vertical-align: top;\n",
              "    }\n",
              "\n",
              "    .dataframe thead th {\n",
              "        text-align: right;\n",
              "    }\n",
              "</style>\n",
              "<table border=\"1\" class=\"dataframe\">\n",
              "  <thead>\n",
              "    <tr style=\"text-align: right;\">\n",
              "      <th></th>\n",
              "      <th>word</th>\n",
              "      <th>pmi</th>\n",
              "    </tr>\n",
              "  </thead>\n",
              "  <tbody>\n",
              "    <tr>\n",
              "      <th>206</th>\n",
              "      <td>highly</td>\n",
              "      <td>0.222929</td>\n",
              "    </tr>\n",
              "    <tr>\n",
              "      <th>251</th>\n",
              "      <td>loved</td>\n",
              "      <td>0.212980</td>\n",
              "    </tr>\n",
              "    <tr>\n",
              "      <th>474</th>\n",
              "      <td>awesome</td>\n",
              "      <td>0.200492</td>\n",
              "    </tr>\n",
              "    <tr>\n",
              "      <th>496</th>\n",
              "      <td>thanks</td>\n",
              "      <td>0.195076</td>\n",
              "    </tr>\n",
              "    <tr>\n",
              "      <th>297</th>\n",
              "      <td>love</td>\n",
              "      <td>0.192726</td>\n",
              "    </tr>\n",
              "  </tbody>\n",
              "</table>\n",
              "</div>"
            ],
            "text/plain": [
              "        word       pmi\n",
              "206   highly  0.222929\n",
              "251    loved  0.212980\n",
              "474  awesome  0.200492\n",
              "496   thanks  0.195076\n",
              "297     love  0.192726"
            ]
          },
          "metadata": {
            "tags": []
          },
          "execution_count": 22
        }
      ]
    },
    {
      "cell_type": "code",
      "metadata": {
        "id": "sZvlGTCp1hoo",
        "colab_type": "code",
        "colab": {},
        "outputId": "32e47f11-4d1d-496e-df04-2f6ba71ebf25"
      },
      "source": [
        "#Sorted top pmi words for negative reviews\n",
        "pmineglist.sort_values('pmi',ascending=0).head(5)"
      ],
      "execution_count": 0,
      "outputs": [
        {
          "output_type": "execute_result",
          "data": {
            "text/html": [
              "<div>\n",
              "<style scoped>\n",
              "    .dataframe tbody tr th:only-of-type {\n",
              "        vertical-align: middle;\n",
              "    }\n",
              "\n",
              "    .dataframe tbody tr th {\n",
              "        vertical-align: top;\n",
              "    }\n",
              "\n",
              "    .dataframe thead th {\n",
              "        text-align: right;\n",
              "    }\n",
              "</style>\n",
              "<table border=\"1\" class=\"dataframe\">\n",
              "  <thead>\n",
              "    <tr style=\"text-align: right;\">\n",
              "      <th></th>\n",
              "      <th>word</th>\n",
              "      <th>pmi</th>\n",
              "    </tr>\n",
              "  </thead>\n",
              "  <tbody>\n",
              "    <tr>\n",
              "      <th>475</th>\n",
              "      <td>finally</td>\n",
              "      <td>1.175325</td>\n",
              "    </tr>\n",
              "    <tr>\n",
              "      <th>373</th>\n",
              "      <td>poor</td>\n",
              "      <td>1.158237</td>\n",
              "    </tr>\n",
              "    <tr>\n",
              "      <th>327</th>\n",
              "      <td>smell</td>\n",
              "      <td>1.057113</td>\n",
              "    </tr>\n",
              "    <tr>\n",
              "      <th>152</th>\n",
              "      <td>told</td>\n",
              "      <td>1.018110</td>\n",
              "    </tr>\n",
              "    <tr>\n",
              "      <th>385</th>\n",
              "      <td>loud</td>\n",
              "      <td>0.974421</td>\n",
              "    </tr>\n",
              "  </tbody>\n",
              "</table>\n",
              "</div>"
            ],
            "text/plain": [
              "        word       pmi\n",
              "475  finally  1.175325\n",
              "373     poor  1.158237\n",
              "327    smell  1.057113\n",
              "152     told  1.018110\n",
              "385     loud  0.974421"
            ]
          },
          "metadata": {
            "tags": []
          },
          "execution_count": 23
        }
      ]
    },
    {
      "cell_type": "code",
      "metadata": {
        "id": "GFctaqOH1hos",
        "colab_type": "code",
        "colab": {},
        "outputId": "053c155c-5bc5-4476-b124-8bf751a13706"
      },
      "source": [
        "#Complete pmi dataframe\n",
        "pmidf.head()"
      ],
      "execution_count": 0,
      "outputs": [
        {
          "output_type": "execute_result",
          "data": {
            "text/html": [
              "<div>\n",
              "<style scoped>\n",
              "    .dataframe tbody tr th:only-of-type {\n",
              "        vertical-align: middle;\n",
              "    }\n",
              "\n",
              "    .dataframe tbody tr th {\n",
              "        vertical-align: top;\n",
              "    }\n",
              "\n",
              "    .dataframe thead th {\n",
              "        text-align: right;\n",
              "    }\n",
              "</style>\n",
              "<table border=\"1\" class=\"dataframe\">\n",
              "  <thead>\n",
              "    <tr style=\"text-align: right;\">\n",
              "      <th></th>\n",
              "      <th>word</th>\n",
              "      <th>pmi</th>\n",
              "    </tr>\n",
              "  </thead>\n",
              "  <tbody>\n",
              "    <tr>\n",
              "      <th>0</th>\n",
              "      <td>room</td>\n",
              "      <td>x  y        px        py       pxy  ...</td>\n",
              "    </tr>\n",
              "    <tr>\n",
              "      <th>1</th>\n",
              "      <td>hotel</td>\n",
              "      <td>x  y        px        py       pxy  ...</td>\n",
              "    </tr>\n",
              "    <tr>\n",
              "      <th>2</th>\n",
              "      <td>staff</td>\n",
              "      <td>x  y        px        py       pxy  ...</td>\n",
              "    </tr>\n",
              "    <tr>\n",
              "      <th>3</th>\n",
              "      <td>stay</td>\n",
              "      <td>x  y        px        py       pxy  ...</td>\n",
              "    </tr>\n",
              "    <tr>\n",
              "      <th>4</th>\n",
              "      <td>breakfast</td>\n",
              "      <td>x  y        px        py       pxy  ...</td>\n",
              "    </tr>\n",
              "  </tbody>\n",
              "</table>\n",
              "</div>"
            ],
            "text/plain": [
              "        word                                                pmi\n",
              "0       room            x  y        px        py       pxy  ...\n",
              "1      hotel            x  y        px        py       pxy  ...\n",
              "2      staff            x  y        px        py       pxy  ...\n",
              "3       stay            x  y        px        py       pxy  ...\n",
              "4  breakfast            x  y        px        py       pxy  ..."
            ]
          },
          "metadata": {
            "tags": []
          },
          "execution_count": 24
        }
      ]
    },
    {
      "cell_type": "code",
      "metadata": {
        "id": "GtvRtjrQ1hov",
        "colab_type": "code",
        "colab": {},
        "outputId": "f0977365-7e92-4aeb-86ef-22527bcfd091"
      },
      "source": [
        "#To access pmi matrix for a specific word\n",
        "pmidf[pmidf['word']=='room']['pmi'][0]"
      ],
      "execution_count": 0,
      "outputs": [
        {
          "output_type": "execute_result",
          "data": {
            "text/html": [
              "<div>\n",
              "<style scoped>\n",
              "    .dataframe tbody tr th:only-of-type {\n",
              "        vertical-align: middle;\n",
              "    }\n",
              "\n",
              "    .dataframe tbody tr th {\n",
              "        vertical-align: top;\n",
              "    }\n",
              "\n",
              "    .dataframe thead th {\n",
              "        text-align: right;\n",
              "    }\n",
              "</style>\n",
              "<table border=\"1\" class=\"dataframe\">\n",
              "  <thead>\n",
              "    <tr style=\"text-align: right;\">\n",
              "      <th></th>\n",
              "      <th>x</th>\n",
              "      <th>y</th>\n",
              "      <th>px</th>\n",
              "      <th>py</th>\n",
              "      <th>pxy</th>\n",
              "      <th>pmi</th>\n",
              "    </tr>\n",
              "  </thead>\n",
              "  <tbody>\n",
              "    <tr>\n",
              "      <th>0</th>\n",
              "      <td>positive</td>\n",
              "      <td>0</td>\n",
              "      <td>0.778891</td>\n",
              "      <td>0.365177</td>\n",
              "      <td>0.306626</td>\n",
              "      <td>0.075129</td>\n",
              "    </tr>\n",
              "    <tr>\n",
              "      <th>1</th>\n",
              "      <td>positive</td>\n",
              "      <td>1</td>\n",
              "      <td>0.778891</td>\n",
              "      <td>0.634823</td>\n",
              "      <td>0.472265</td>\n",
              "      <td>-0.045921</td>\n",
              "    </tr>\n",
              "    <tr>\n",
              "      <th>2</th>\n",
              "      <td>negative</td>\n",
              "      <td>0</td>\n",
              "      <td>0.221109</td>\n",
              "      <td>0.365177</td>\n",
              "      <td>0.058552</td>\n",
              "      <td>-0.321376</td>\n",
              "    </tr>\n",
              "    <tr>\n",
              "      <th>3</th>\n",
              "      <td>negative</td>\n",
              "      <td>1</td>\n",
              "      <td>0.221109</td>\n",
              "      <td>0.634823</td>\n",
              "      <td>0.162558</td>\n",
              "      <td>0.146785</td>\n",
              "    </tr>\n",
              "  </tbody>\n",
              "</table>\n",
              "</div>"
            ],
            "text/plain": [
              "          x  y        px        py       pxy       pmi\n",
              "0  positive  0  0.778891  0.365177  0.306626  0.075129\n",
              "1  positive  1  0.778891  0.634823  0.472265 -0.045921\n",
              "2  negative  0  0.221109  0.365177  0.058552 -0.321376\n",
              "3  negative  1  0.221109  0.634823  0.162558  0.146785"
            ]
          },
          "metadata": {
            "tags": []
          },
          "execution_count": 25
        }
      ]
    },
    {
      "cell_type": "markdown",
      "metadata": {
        "id": "cVaBO-B51ho0",
        "colab_type": "text"
      },
      "source": [
        "## Analysis over all items"
      ]
    },
    {
      "cell_type": "code",
      "metadata": {
        "id": "pDv27wk_1ho2",
        "colab_type": "code",
        "colab": {}
      },
      "source": [
        "#We are only intereseted in this three column for overall analysis\n",
        "itemAnalysisDf = finaldf[['reviewCol','groundTruth','vader']]"
      ],
      "execution_count": 0,
      "outputs": []
    },
    {
      "cell_type": "markdown",
      "metadata": {
        "id": "GFa6QdjG1hpJ",
        "colab_type": "text"
      },
      "source": [
        "### Top K words comparison between ground truth reviews and vader predicted reviews"
      ]
    },
    {
      "cell_type": "code",
      "metadata": {
        "id": "RlhtLuqI1hpJ",
        "colab_type": "code",
        "colab": {}
      },
      "source": [
        "def getTopK(df, k, label_value, label_column='groundTruth', operation=operator.eq, value_column='reviewCol'):\n",
        "    stop = set(stopwords.words('english'))\n",
        "    #Add possible Stop Words for Hotel Reviews\n",
        "    stop.add('hotel')\n",
        "    stop.add('room')\n",
        "    stop.add('rooms')\n",
        "    stop.add('stay')\n",
        "    stop.add('staff')\n",
        "    counter = Counter()\n",
        "    for review in df.loc[operation(df[label_column],label_value)][value_column]:\n",
        "            counter.update([word.lower() \n",
        "                            for word \n",
        "                            in re.findall(r'\\w+', review) \n",
        "                            if word.lower() not in stop and len(word) > 2])\n",
        "    topk = counter.most_common(k)\n",
        "    return topk"
      ],
      "execution_count": 0,
      "outputs": []
    },
    {
      "cell_type": "code",
      "metadata": {
        "id": "7mcjQmMJ1hpU",
        "colab_type": "code",
        "colab": {}
      },
      "source": [
        "topkGroundPos = getTopK(df=itemAnalysisDf, k=10, label_value='positive')"
      ],
      "execution_count": 0,
      "outputs": []
    },
    {
      "cell_type": "code",
      "metadata": {
        "id": "FlLzFabE1hpn",
        "colab_type": "code",
        "colab": {},
        "outputId": "4305a496-60b9-4c5e-aa54-3dae02dbbe7f"
      },
      "source": [
        "topkGroundPos"
      ],
      "execution_count": 0,
      "outputs": [
        {
          "output_type": "execute_result",
          "data": {
            "text/plain": [
              "[('clean', 1823),\n",
              " ('breakfast', 1785),\n",
              " ('good', 1685),\n",
              " ('great', 1659),\n",
              " ('nice', 1367),\n",
              " ('would', 1135),\n",
              " ('stayed', 1085),\n",
              " ('area', 1078),\n",
              " ('friendly', 1032),\n",
              " ('well', 944)]"
            ]
          },
          "metadata": {
            "tags": []
          },
          "execution_count": 29
        }
      ]
    },
    {
      "cell_type": "code",
      "metadata": {
        "id": "buwm-5DN1hrV",
        "colab_type": "code",
        "colab": {}
      },
      "source": [
        "topkGroundNeg = getTopK(df=itemAnalysisDf, k=10, label_value='negative')"
      ],
      "execution_count": 0,
      "outputs": []
    },
    {
      "cell_type": "code",
      "metadata": {
        "id": "xi9UhUAI1hrY",
        "colab_type": "code",
        "colab": {},
        "outputId": "df35491c-87f5-4dd8-848b-38fe8cfebf0e"
      },
      "source": [
        "topkGroundNeg"
      ],
      "execution_count": 0,
      "outputs": [
        {
          "output_type": "execute_result",
          "data": {
            "text/plain": [
              "[('breakfast', 521),\n",
              " ('would', 503),\n",
              " ('one', 494),\n",
              " ('good', 476),\n",
              " ('night', 420),\n",
              " ('desk', 395),\n",
              " ('front', 361),\n",
              " ('area', 359),\n",
              " ('get', 342),\n",
              " ('stayed', 339)]"
            ]
          },
          "metadata": {
            "tags": []
          },
          "execution_count": 31
        }
      ]
    },
    {
      "cell_type": "code",
      "metadata": {
        "id": "lH1I3jOY1hrc",
        "colab_type": "code",
        "colab": {}
      },
      "source": [
        "topkVaderPos = getTopK(df=itemAnalysisDf, \n",
        "                       k=10, \n",
        "                       label_value=0, \n",
        "                       label_column='vader', \n",
        "                       operation=operator.gt)"
      ],
      "execution_count": 0,
      "outputs": []
    },
    {
      "cell_type": "code",
      "metadata": {
        "id": "2xLlFQkn1hre",
        "colab_type": "code",
        "colab": {},
        "outputId": "6228bb24-2fc2-4967-c0c1-7b4267d0af0e"
      },
      "source": [
        "topkVaderPos"
      ],
      "execution_count": 0,
      "outputs": [
        {
          "output_type": "execute_result",
          "data": {
            "text/plain": [
              "[('breakfast', 2156),\n",
              " ('clean', 2067),\n",
              " ('good', 2054),\n",
              " ('great', 1815),\n",
              " ('nice', 1607),\n",
              " ('would', 1455),\n",
              " ('area', 1329),\n",
              " ('stayed', 1297),\n",
              " ('one', 1253),\n",
              " ('friendly', 1156)]"
            ]
          },
          "metadata": {
            "tags": []
          },
          "execution_count": 33
        }
      ]
    },
    {
      "cell_type": "code",
      "metadata": {
        "id": "3gOSs3j61hrh",
        "colab_type": "code",
        "colab": {}
      },
      "source": [
        "topkVaderNeg = getTopK(df=itemAnalysisDf, \n",
        "                       k=10, \n",
        "                       label_value=0, \n",
        "                       label_column='vader', \n",
        "                       operation=operator.lt)"
      ],
      "execution_count": 0,
      "outputs": []
    },
    {
      "cell_type": "code",
      "metadata": {
        "id": "yUdWJg6d1hrr",
        "colab_type": "code",
        "colab": {},
        "outputId": "8f73d7e4-beff-405b-9a32-546d5fc69376"
      },
      "source": [
        "topkVaderNeg"
      ],
      "execution_count": 0,
      "outputs": [
        {
          "output_type": "execute_result",
          "data": {
            "text/plain": [
              "[('would', 180),\n",
              " ('night', 167),\n",
              " ('one', 164),\n",
              " ('desk', 164),\n",
              " ('front', 153),\n",
              " ('breakfast', 149),\n",
              " ('service', 132),\n",
              " ('stayed', 127),\n",
              " ('get', 126),\n",
              " ('bed', 123)]"
            ]
          },
          "metadata": {
            "tags": []
          },
          "execution_count": 35
        }
      ]
    },
    {
      "cell_type": "markdown",
      "metadata": {
        "id": "PmqrbV6b1hrt",
        "colab_type": "text"
      },
      "source": [
        "## Hotel Ranking"
      ]
    },
    {
      "cell_type": "code",
      "metadata": {
        "id": "NHyv7r4e1hru",
        "colab_type": "code",
        "colab": {},
        "outputId": "f36875e6-ba52-405b-91be-06cdd56e6ebf"
      },
      "source": [
        "#Extract a list of hotels\n",
        "hotelNames = finaldf['hotelName'].unique()\n",
        "hotelNames"
      ],
      "execution_count": 0,
      "outputs": [
        {
          "output_type": "execute_result",
          "data": {
            "text/plain": [
              "array(['Staybridge Suites Toronto', 'Comfort Inn Toronto Northeast',\n",
              "       'Hilton Toronto / Markham Suites Conference Centre &amp; Spa',\n",
              "       'Courtyard Toronto Northeast/Markham', 'Delta Markham',\n",
              "       'Park Inn By Radisson Toronto-Markham',\n",
              "       'Monte Carlo Inn &amp; Suites Downtown Markham',\n",
              "       'Residence Inn Toronto Markham', 'Courtyard Toronto Markham',\n",
              "       'Monte Carlo Inns Markham', 'Hilton Garden Inn Toronto/Markham',\n",
              "       'Hampton Inn &amp; Suites by Hilton Toronto Markham',\n",
              "       'Homewood Suites by Hilton Toronto-Markham',\n",
              "       'TownePlace Suites Toronto Northeast/Markham',\n",
              "       'Edward Village Markham'], dtype=object)"
            ]
          },
          "metadata": {
            "tags": []
          },
          "execution_count": 36
        }
      ]
    },
    {
      "cell_type": "code",
      "metadata": {
        "id": "8kEnenb21hr0",
        "colab_type": "code",
        "colab": {}
      },
      "source": [
        "def getHotelRank(df, measure='ratingScore'):\n",
        "    #Rank the hotel by ground truth rating score\n",
        "    hotelRating = []\n",
        "    for hotel in hotelNames:\n",
        "        itemDf = df.loc[df['hotelName']==hotel]\n",
        "        hotelRating.append([hotel,itemDf[measure].mean()])\n",
        "    hotelRatingDfGt = pandas.DataFrame(hotelRating)\n",
        "    hotelRatingDfGt.columns=['hotelName','avgRatingScore']\n",
        "    hotelRatingDfGt = hotelRatingDfGt.sort_values('avgRatingScore',ascending=0)\n",
        "    return hotelRatingDfGt"
      ],
      "execution_count": 0,
      "outputs": []
    },
    {
      "cell_type": "code",
      "metadata": {
        "id": "A1UDq0gN1hr4",
        "colab_type": "code",
        "colab": {}
      },
      "source": [
        "hotelRatingDfGt = getHotelRank(finaldf)"
      ],
      "execution_count": 0,
      "outputs": []
    },
    {
      "cell_type": "code",
      "metadata": {
        "id": "zaIKQWNc1hr-",
        "colab_type": "code",
        "colab": {},
        "outputId": "60c89276-c782-4a5f-c9aa-d128e781cc00"
      },
      "source": [
        "hotelRatingDfGt.head()"
      ],
      "execution_count": 0,
      "outputs": [
        {
          "output_type": "execute_result",
          "data": {
            "text/html": [
              "<div>\n",
              "<style scoped>\n",
              "    .dataframe tbody tr th:only-of-type {\n",
              "        vertical-align: middle;\n",
              "    }\n",
              "\n",
              "    .dataframe tbody tr th {\n",
              "        vertical-align: top;\n",
              "    }\n",
              "\n",
              "    .dataframe thead th {\n",
              "        text-align: right;\n",
              "    }\n",
              "</style>\n",
              "<table border=\"1\" class=\"dataframe\">\n",
              "  <thead>\n",
              "    <tr style=\"text-align: right;\">\n",
              "      <th></th>\n",
              "      <th>hotelName</th>\n",
              "      <th>avgRatingScore</th>\n",
              "    </tr>\n",
              "  </thead>\n",
              "  <tbody>\n",
              "    <tr>\n",
              "      <th>11</th>\n",
              "      <td>Hampton Inn &amp;amp; Suites by Hilton Toronto Mar...</td>\n",
              "      <td>4.447458</td>\n",
              "    </tr>\n",
              "    <tr>\n",
              "      <th>13</th>\n",
              "      <td>TownePlace Suites Toronto Northeast/Markham</td>\n",
              "      <td>4.351351</td>\n",
              "    </tr>\n",
              "    <tr>\n",
              "      <th>10</th>\n",
              "      <td>Hilton Garden Inn Toronto/Markham</td>\n",
              "      <td>4.305927</td>\n",
              "    </tr>\n",
              "    <tr>\n",
              "      <th>12</th>\n",
              "      <td>Homewood Suites by Hilton Toronto-Markham</td>\n",
              "      <td>4.303398</td>\n",
              "    </tr>\n",
              "    <tr>\n",
              "      <th>3</th>\n",
              "      <td>Courtyard Toronto Northeast/Markham</td>\n",
              "      <td>4.300813</td>\n",
              "    </tr>\n",
              "  </tbody>\n",
              "</table>\n",
              "</div>"
            ],
            "text/plain": [
              "                                            hotelName  avgRatingScore\n",
              "11  Hampton Inn &amp; Suites by Hilton Toronto Mar...        4.447458\n",
              "13        TownePlace Suites Toronto Northeast/Markham        4.351351\n",
              "10                  Hilton Garden Inn Toronto/Markham        4.305927\n",
              "12          Homewood Suites by Hilton Toronto-Markham        4.303398\n",
              "3                 Courtyard Toronto Northeast/Markham        4.300813"
            ]
          },
          "metadata": {
            "tags": []
          },
          "execution_count": 39
        }
      ]
    },
    {
      "cell_type": "code",
      "metadata": {
        "id": "YUnCyboT1hsD",
        "colab_type": "code",
        "colab": {}
      },
      "source": [
        "hotelRatingDfVd = getHotelRank(finaldf, measure='vader')"
      ],
      "execution_count": 0,
      "outputs": []
    },
    {
      "cell_type": "code",
      "metadata": {
        "id": "Knrekd3E1hsF",
        "colab_type": "code",
        "colab": {},
        "outputId": "32e11e82-2c9c-489c-ac8f-82c2de93f2c4"
      },
      "source": [
        "hotelRatingDfVd.head()"
      ],
      "execution_count": 0,
      "outputs": [
        {
          "output_type": "execute_result",
          "data": {
            "text/html": [
              "<div>\n",
              "<style scoped>\n",
              "    .dataframe tbody tr th:only-of-type {\n",
              "        vertical-align: middle;\n",
              "    }\n",
              "\n",
              "    .dataframe tbody tr th {\n",
              "        vertical-align: top;\n",
              "    }\n",
              "\n",
              "    .dataframe thead th {\n",
              "        text-align: right;\n",
              "    }\n",
              "</style>\n",
              "<table border=\"1\" class=\"dataframe\">\n",
              "  <thead>\n",
              "    <tr style=\"text-align: right;\">\n",
              "      <th></th>\n",
              "      <th>hotelName</th>\n",
              "      <th>avgRatingScore</th>\n",
              "    </tr>\n",
              "  </thead>\n",
              "  <tbody>\n",
              "    <tr>\n",
              "      <th>13</th>\n",
              "      <td>TownePlace Suites Toronto Northeast/Markham</td>\n",
              "      <td>0.835615</td>\n",
              "    </tr>\n",
              "    <tr>\n",
              "      <th>11</th>\n",
              "      <td>Hampton Inn &amp;amp; Suites by Hilton Toronto Mar...</td>\n",
              "      <td>0.835335</td>\n",
              "    </tr>\n",
              "    <tr>\n",
              "      <th>6</th>\n",
              "      <td>Monte Carlo Inn &amp;amp; Suites Downtown Markham</td>\n",
              "      <td>0.831920</td>\n",
              "    </tr>\n",
              "    <tr>\n",
              "      <th>3</th>\n",
              "      <td>Courtyard Toronto Northeast/Markham</td>\n",
              "      <td>0.807440</td>\n",
              "    </tr>\n",
              "    <tr>\n",
              "      <th>14</th>\n",
              "      <td>Edward Village Markham</td>\n",
              "      <td>0.803865</td>\n",
              "    </tr>\n",
              "  </tbody>\n",
              "</table>\n",
              "</div>"
            ],
            "text/plain": [
              "                                            hotelName  avgRatingScore\n",
              "13        TownePlace Suites Toronto Northeast/Markham        0.835615\n",
              "11  Hampton Inn &amp; Suites by Hilton Toronto Mar...        0.835335\n",
              "6       Monte Carlo Inn &amp; Suites Downtown Markham        0.831920\n",
              "3                 Courtyard Toronto Northeast/Markham        0.807440\n",
              "14                             Edward Village Markham        0.803865"
            ]
          },
          "metadata": {
            "tags": []
          },
          "execution_count": 41
        }
      ]
    },
    {
      "cell_type": "markdown",
      "metadata": {
        "id": "C-8uNXbt1hsQ",
        "colab_type": "text"
      },
      "source": [
        "# Results Display"
      ]
    },
    {
      "cell_type": "markdown",
      "metadata": {
        "id": "HuphF6iR1hsX",
        "colab_type": "text"
      },
      "source": [
        "## Histograms"
      ]
    },
    {
      "cell_type": "code",
      "metadata": {
        "id": "mArIbuwB1hsX",
        "colab_type": "code",
        "colab": {}
      },
      "source": [
        "def getHistogram(measure, title):\n",
        "    if measure=='both':\n",
        "        x = [finaldf['ratingScore'].values/5]\n",
        "        y = [finaldf['vader'].values]\n",
        "        bins = np.linspace(-1, 1, 100)\n",
        "        plt.title(title)\n",
        "        plt.hist(x, bins, label='x')\n",
        "        plt.hist(y, bins, label='y')\n",
        "        plt.legend(loc='upper right')\n",
        "        plt.show()\n",
        "    \n",
        "    else:\n",
        "        plt.hist(finaldf[measure].values)\n",
        "        plt.title(title)\n",
        "        plt.xlabel(\"Value\")\n",
        "        plt.ylabel(\"Frequency\")\n",
        "        fig = plt.gcf()"
      ],
      "execution_count": 0,
      "outputs": []
    },
    {
      "cell_type": "code",
      "metadata": {
        "id": "PH8HXBXh1hsa",
        "colab_type": "code",
        "colab": {},
        "outputId": "5edd8028-6132-421e-8e9e-95289b41e507"
      },
      "source": [
        "getHistogram('ratingScore', 'Ground Truth')"
      ],
      "execution_count": 0,
      "outputs": [
        {
          "output_type": "display_data",
          "data": {
            "image/png": "[encoded data removed]",
            "text/plain": [
              "<Figure size 432x288 with 1 Axes>"
            ]
          },
          "metadata": {
            "tags": [],
            "needs_background": "light"
          }
        }
      ]
    },
    {
      "cell_type": "code",
      "metadata": {
        "id": "BNw-WTpL1hse",
        "colab_type": "code",
        "colab": {},
        "outputId": "d7ac19ab-4f78-4881-d94b-68d8cd50a2af"
      },
      "source": [
        "getHistogram('vader', 'Vadar Sentiment Analysis')"
      ],
      "execution_count": 0,
      "outputs": [
        {
          "output_type": "display_data",
          "data": {
            "image/png": "[encoded data removed]",
            "text/plain": [
              "<Figure size 432x288 with 1 Axes>"
            ]
          },
          "metadata": {
            "tags": [],
            "needs_background": "light"
          }
        }
      ]
    },
    {
      "cell_type": "code",
      "metadata": {
        "id": "uHhiLE6v1hsg",
        "colab_type": "code",
        "colab": {},
        "outputId": "ea66044f-687a-43c8-a1e7-09ea44a3e618"
      },
      "source": [
        "getHistogram('both', 'Ground Truth v.s Vader')"
      ],
      "execution_count": 0,
      "outputs": [
        {
          "output_type": "display_data",
          "data": {
            "image/png": "[encoded data removed]",
            "text/plain": [
              "<Figure size 432x288 with 1 Axes>"
            ]
          },
          "metadata": {
            "tags": [],
            "needs_background": "light"
          }
        }
      ]
    },
    {
      "cell_type": "code",
      "metadata": {
        "id": "yXigTGyv1hsi",
        "colab_type": "code",
        "colab": {},
        "outputId": "42268d26-e09f-4a86-9899-9cd567d86cfa"
      },
      "source": [
        "tpdf = pandas.DataFrame(topkGroundPos)\n",
        "tndf = pandas.DataFrame(topkGroundNeg)\n",
        "tpdf.columns =['word','count']\n",
        "tndf.columns =['word','count']\n",
        "tpdf['type'] = 'Positive'\n",
        "tndf['type'] = 'Negative'\n",
        "overlayhist = pandas.concat([tpdf,tndf])\n",
        "overlayhist"
      ],
      "execution_count": 0,
      "outputs": [
        {
          "output_type": "execute_result",
          "data": {
            "text/html": [
              "<div>\n",
              "<style scoped>\n",
              "    .dataframe tbody tr th:only-of-type {\n",
              "        vertical-align: middle;\n",
              "    }\n",
              "\n",
              "    .dataframe tbody tr th {\n",
              "        vertical-align: top;\n",
              "    }\n",
              "\n",
              "    .dataframe thead th {\n",
              "        text-align: right;\n",
              "    }\n",
              "</style>\n",
              "<table border=\"1\" class=\"dataframe\">\n",
              "  <thead>\n",
              "    <tr style=\"text-align: right;\">\n",
              "      <th></th>\n",
              "      <th>word</th>\n",
              "      <th>count</th>\n",
              "      <th>type</th>\n",
              "    </tr>\n",
              "  </thead>\n",
              "  <tbody>\n",
              "    <tr>\n",
              "      <th>0</th>\n",
              "      <td>clean</td>\n",
              "      <td>1823</td>\n",
              "      <td>Positive</td>\n",
              "    </tr>\n",
              "    <tr>\n",
              "      <th>1</th>\n",
              "      <td>breakfast</td>\n",
              "      <td>1785</td>\n",
              "      <td>Positive</td>\n",
              "    </tr>\n",
              "    <tr>\n",
              "      <th>2</th>\n",
              "      <td>good</td>\n",
              "      <td>1685</td>\n",
              "      <td>Positive</td>\n",
              "    </tr>\n",
              "    <tr>\n",
              "      <th>3</th>\n",
              "      <td>great</td>\n",
              "      <td>1659</td>\n",
              "      <td>Positive</td>\n",
              "    </tr>\n",
              "    <tr>\n",
              "      <th>4</th>\n",
              "      <td>nice</td>\n",
              "      <td>1367</td>\n",
              "      <td>Positive</td>\n",
              "    </tr>\n",
              "    <tr>\n",
              "      <th>5</th>\n",
              "      <td>would</td>\n",
              "      <td>1135</td>\n",
              "      <td>Positive</td>\n",
              "    </tr>\n",
              "    <tr>\n",
              "      <th>6</th>\n",
              "      <td>stayed</td>\n",
              "      <td>1085</td>\n",
              "      <td>Positive</td>\n",
              "    </tr>\n",
              "    <tr>\n",
              "      <th>7</th>\n",
              "      <td>area</td>\n",
              "      <td>1078</td>\n",
              "      <td>Positive</td>\n",
              "    </tr>\n",
              "    <tr>\n",
              "      <th>8</th>\n",
              "      <td>friendly</td>\n",
              "      <td>1032</td>\n",
              "      <td>Positive</td>\n",
              "    </tr>\n",
              "    <tr>\n",
              "      <th>9</th>\n",
              "      <td>well</td>\n",
              "      <td>944</td>\n",
              "      <td>Positive</td>\n",
              "    </tr>\n",
              "    <tr>\n",
              "      <th>0</th>\n",
              "      <td>breakfast</td>\n",
              "      <td>521</td>\n",
              "      <td>Negative</td>\n",
              "    </tr>\n",
              "    <tr>\n",
              "      <th>1</th>\n",
              "      <td>would</td>\n",
              "      <td>503</td>\n",
              "      <td>Negative</td>\n",
              "    </tr>\n",
              "    <tr>\n",
              "      <th>2</th>\n",
              "      <td>one</td>\n",
              "      <td>494</td>\n",
              "      <td>Negative</td>\n",
              "    </tr>\n",
              "    <tr>\n",
              "      <th>3</th>\n",
              "      <td>good</td>\n",
              "      <td>476</td>\n",
              "      <td>Negative</td>\n",
              "    </tr>\n",
              "    <tr>\n",
              "      <th>4</th>\n",
              "      <td>night</td>\n",
              "      <td>420</td>\n",
              "      <td>Negative</td>\n",
              "    </tr>\n",
              "    <tr>\n",
              "      <th>5</th>\n",
              "      <td>desk</td>\n",
              "      <td>395</td>\n",
              "      <td>Negative</td>\n",
              "    </tr>\n",
              "    <tr>\n",
              "      <th>6</th>\n",
              "      <td>front</td>\n",
              "      <td>361</td>\n",
              "      <td>Negative</td>\n",
              "    </tr>\n",
              "    <tr>\n",
              "      <th>7</th>\n",
              "      <td>area</td>\n",
              "      <td>359</td>\n",
              "      <td>Negative</td>\n",
              "    </tr>\n",
              "    <tr>\n",
              "      <th>8</th>\n",
              "      <td>get</td>\n",
              "      <td>342</td>\n",
              "      <td>Negative</td>\n",
              "    </tr>\n",
              "    <tr>\n",
              "      <th>9</th>\n",
              "      <td>stayed</td>\n",
              "      <td>339</td>\n",
              "      <td>Negative</td>\n",
              "    </tr>\n",
              "  </tbody>\n",
              "</table>\n",
              "</div>"
            ],
            "text/plain": [
              "        word  count      type\n",
              "0      clean   1823  Positive\n",
              "1  breakfast   1785  Positive\n",
              "2       good   1685  Positive\n",
              "3      great   1659  Positive\n",
              "4       nice   1367  Positive\n",
              "5      would   1135  Positive\n",
              "6     stayed   1085  Positive\n",
              "7       area   1078  Positive\n",
              "8   friendly   1032  Positive\n",
              "9       well    944  Positive\n",
              "0  breakfast    521  Negative\n",
              "1      would    503  Negative\n",
              "2        one    494  Negative\n",
              "3       good    476  Negative\n",
              "4      night    420  Negative\n",
              "5       desk    395  Negative\n",
              "6      front    361  Negative\n",
              "7       area    359  Negative\n",
              "8        get    342  Negative\n",
              "9     stayed    339  Negative"
            ]
          },
          "metadata": {
            "tags": []
          },
          "execution_count": 46
        }
      ]
    },
    {
      "cell_type": "code",
      "metadata": {
        "id": "rpypnVNK1hsl",
        "colab_type": "code",
        "colab": {},
        "outputId": "9014e40a-ddd6-4d04-c254-11674dffc4ce"
      },
      "source": [
        "sns.barplot(x=\"count\", y='word', hue='type', data=overlayhist)"
      ],
      "execution_count": 0,
      "outputs": [
        {
          "output_type": "execute_result",
          "data": {
            "text/plain": [
              "<matplotlib.axes._subplots.AxesSubplot at 0x7f11f8fedba8>"
            ]
          },
          "metadata": {
            "tags": []
          },
          "execution_count": 47
        },
        {
          "output_type": "display_data",
          "data": {
            "image/png": "[encoded data removed]",
            "text/plain": [
              "<Figure size 432x288 with 1 Axes>"
            ]
          },
          "metadata": {
            "tags": [],
            "needs_background": "light"
          }
        }
      ]
    },
    {
      "cell_type": "markdown",
      "metadata": {
        "id": "kteSua-N1hsn",
        "colab_type": "text"
      },
      "source": [
        "## Box Plots"
      ]
    },
    {
      "cell_type": "code",
      "metadata": {
        "id": "RqV-PJk-1hso",
        "colab_type": "code",
        "colab": {},
        "outputId": "a5f91889-0765-469e-acf9-c46dc445929d"
      },
      "source": [
        "data = finaldf['ratingScore']\n",
        "sns.boxplot(data)"
      ],
      "execution_count": 0,
      "outputs": [
        {
          "output_type": "execute_result",
          "data": {
            "text/plain": [
              "<matplotlib.axes._subplots.AxesSubplot at 0x7f11f8b051d0>"
            ]
          },
          "metadata": {
            "tags": []
          },
          "execution_count": 48
        },
        {
          "output_type": "display_data",
          "data": {
            "image/png": "[encoded data removed]",
            "text/plain": [
              "<Figure size 432x288 with 1 Axes>"
            ]
          },
          "metadata": {
            "tags": [],
            "needs_background": "light"
          }
        }
      ]
    },
    {
      "cell_type": "code",
      "metadata": {
        "id": "8fcAI0yi1hsp",
        "colab_type": "code",
        "colab": {},
        "outputId": "ffd25cc7-b000-4652-c6f8-99e4b027149f"
      },
      "source": [
        "#Plot top 5 side-by-side boxplot for top 5 ground truth rated hotel\n",
        "tp5gthotel = hotelRatingDfGt.sort_values('avgRatingScore',ascending=0).head(5)\n",
        "tp5gthotel['hotelName'].values\n",
        "\n",
        "hampton = finaldf.loc[finaldf['hotelName'] == tp5gthotel['hotelName'].values[0]]['ratingScore']\n",
        "towneplace = finaldf.loc[finaldf['hotelName'] == tp5gthotel['hotelName'].values[1]]['ratingScore']\n",
        "hiltonGarden = finaldf.loc[finaldf['hotelName'] == tp5gthotel['hotelName'].values[2]]['ratingScore']\n",
        "homewood = finaldf.loc[finaldf['hotelName'] == tp5gthotel['hotelName'].values[3]]['ratingScore']\n",
        "courtyard = finaldf.loc[finaldf['hotelName'] == tp5gthotel['hotelName'].values[4]]['ratingScore']\n",
        "\n",
        "data = [hampton, towneplace, hiltonGarden, homewood, courtyard]\n",
        "# multiple box plots on one figure\n",
        "plt.figure()\n",
        "plt.boxplot(data)\n",
        "plt.show()"
      ],
      "execution_count": 0,
      "outputs": [
        {
          "output_type": "display_data",
          "data": {
            "image/png": "[encoded data removed]",
            "text/plain": [
              "<Figure size 432x288 with 1 Axes>"
            ]
          },
          "metadata": {
            "tags": [],
            "needs_background": "light"
          }
        }
      ]
    },
    {
      "cell_type": "markdown",
      "metadata": {
        "id": "EWIOT7bQ1hss",
        "colab_type": "text"
      },
      "source": [
        "## Scatter Plots"
      ]
    },
    {
      "cell_type": "code",
      "metadata": {
        "id": "7c91mxA01hss",
        "colab_type": "code",
        "colab": {},
        "outputId": "ad8521a5-338b-4bb5-a54e-1c24a97a2f5a"
      },
      "source": [
        "y = finaldf['ratingScore'].values\n",
        "x = finaldf['vader'].values\n",
        "plt.plot(x, y,\"o\")\n",
        "plt.ylabel('Rating')\n",
        "plt.xlabel('Vader Score')"
      ],
      "execution_count": 0,
      "outputs": [
        {
          "output_type": "execute_result",
          "data": {
            "text/plain": [
              "Text(0.5, 0, 'Vader Score')"
            ]
          },
          "metadata": {
            "tags": []
          },
          "execution_count": 50
        },
        {
          "output_type": "display_data",
          "data": {
            "image/png": "[encoded data removed]",
            "text/plain": [
              "<Figure size 432x288 with 1 Axes>"
            ]
          },
          "metadata": {
            "tags": [],
            "needs_background": "light"
          }
        }
      ]
    },
    {
      "cell_type": "code",
      "metadata": {
        "id": "fQaLW04Y1hs8",
        "colab_type": "code",
        "colab": {}
      },
      "source": [
        "from scipy.stats.kde import gaussian_kde\n",
        "\n",
        "k = gaussian_kde(np.vstack([x, y]))\n",
        "xi, yi = np.mgrid[x.min():x.max():x.size**0.5*1j,y.min():y.max():y.size**0.5*1j]\n",
        "zi = k(np.vstack([xi.flatten(), yi.flatten()]))"
      ],
      "execution_count": 0,
      "outputs": []
    },
    {
      "cell_type": "code",
      "metadata": {
        "id": "aZ-1ow5s1hs9",
        "colab_type": "code",
        "colab": {},
        "outputId": "4b7bc716-6d10-46af-cf88-853c1a8e993d"
      },
      "source": [
        "cmap = sns.cubehelix_palette(light=1, as_cmap=True)\n",
        "fig = plt.figure(figsize=(6,8))\n",
        "ax1 = fig.add_subplot(211)\n",
        "ax2 = fig.add_subplot(212)\n",
        "\n",
        "ax1.pcolormesh(xi, yi, np.log10(zi.reshape(xi.shape)), cmap=cmap)\n",
        "ax2.contourf(xi, yi, np.log10(zi.reshape(xi.shape)), cmap=cmap)\n",
        "\n",
        "ax1.set_xlim(x.min(), x.max())\n",
        "ax1.set_ylim(y.min(), y.max())\n",
        "ax2.set_xlim(x.min(), x.max())\n",
        "ax2.set_ylim(y.min(), y.max())\n",
        "\n",
        "ax1.set_xlabel('Vader Score')\n",
        "ax1.set_ylabel('Rating')\n",
        "\n",
        "ax2.set_xlabel('Vader Score')\n",
        "ax2.set_ylabel('Rating')"
      ],
      "execution_count": 0,
      "outputs": [
        {
          "output_type": "execute_result",
          "data": {
            "text/plain": [
              "Text(0, 0.5, 'Rating')"
            ]
          },
          "metadata": {
            "tags": []
          },
          "execution_count": 52
        },
        {
          "output_type": "display_data",
          "data": {
            "image/png": "[encoded data removed]",
            "text/plain": [
              "<Figure size 432x576 with 2 Axes>"
            ]
          },
          "metadata": {
            "tags": [],
            "needs_background": "light"
          }
        }
      ]
    },
    {
      "cell_type": "markdown",
      "metadata": {
        "id": "Tnu2p2RA1htA",
        "colab_type": "text"
      },
      "source": [
        "# Norn Phrase Example"
      ]
    },
    {
      "cell_type": "code",
      "metadata": {
        "id": "mqSm9eeB1htA",
        "colab_type": "code",
        "colab": {}
      },
      "source": [
        "# Sample text\n",
        "text = \"\"\"The Buddha, the Godhead, resides quite as comfortably in the circuits of a digital\n",
        "computer or the gears of a cycle transmission as he does at the top of a mountain\n",
        "or in the petals of a flower. To think otherwise is to demean the Buddha...which is\n",
        "to demean oneself.\"\"\""
      ],
      "execution_count": 0,
      "outputs": []
    },
    {
      "cell_type": "code",
      "metadata": {
        "id": "BSdKifcV1htC",
        "colab_type": "code",
        "colab": {}
      },
      "source": [
        "tagger = PerceptronTagger()"
      ],
      "execution_count": 0,
      "outputs": []
    },
    {
      "cell_type": "code",
      "metadata": {
        "id": "8zZiSkfB1htD",
        "colab_type": "code",
        "colab": {},
        "outputId": "bb49d1f9-2202-42df-8a2f-d34c6a6e78bb"
      },
      "source": [
        "# Part of Speech Tagging\n",
        "# Google: https://en.wikipedia.org/wiki/Part-of-speech_tagging\n",
        "pos_tag = tagger.tag\n",
        "taggedToks = pos_tag(re.findall(r'\\w+', text))\n",
        "taggedToks"
      ],
      "execution_count": 0,
      "outputs": [
        {
          "output_type": "execute_result",
          "data": {
            "text/plain": [
              "[('The', 'DT'),\n",
              " ('Buddha', 'NNP'),\n",
              " ('the', 'DT'),\n",
              " ('Godhead', 'NNP'),\n",
              " ('resides', 'VBZ'),\n",
              " ('quite', 'RB'),\n",
              " ('as', 'IN'),\n",
              " ('comfortably', 'RB'),\n",
              " ('in', 'IN'),\n",
              " ('the', 'DT'),\n",
              " ('circuits', 'NNS'),\n",
              " ('of', 'IN'),\n",
              " ('a', 'DT'),\n",
              " ('digital', 'JJ'),\n",
              " ('computer', 'NN'),\n",
              " ('or', 'CC'),\n",
              " ('the', 'DT'),\n",
              " ('gears', 'NNS'),\n",
              " ('of', 'IN'),\n",
              " ('a', 'DT'),\n",
              " ('cycle', 'NN'),\n",
              " ('transmission', 'NN'),\n",
              " ('as', 'IN'),\n",
              " ('he', 'PRP'),\n",
              " ('does', 'VBZ'),\n",
              " ('at', 'IN'),\n",
              " ('the', 'DT'),\n",
              " ('top', 'NN'),\n",
              " ('of', 'IN'),\n",
              " ('a', 'DT'),\n",
              " ('mountain', 'NN'),\n",
              " ('or', 'CC'),\n",
              " ('in', 'IN'),\n",
              " ('the', 'DT'),\n",
              " ('petals', 'NNS'),\n",
              " ('of', 'IN'),\n",
              " ('a', 'DT'),\n",
              " ('flower', 'NN'),\n",
              " ('To', 'TO'),\n",
              " ('think', 'VB'),\n",
              " ('otherwise', 'RB'),\n",
              " ('is', 'VBZ'),\n",
              " ('to', 'TO'),\n",
              " ('demean', 'VB'),\n",
              " ('the', 'DT'),\n",
              " ('Buddha', 'NNP'),\n",
              " ('which', 'WDT'),\n",
              " ('is', 'VBZ'),\n",
              " ('to', 'TO'),\n",
              " ('demean', 'VB'),\n",
              " ('oneself', 'PRP')]"
            ]
          },
          "metadata": {
            "tags": []
          },
          "execution_count": 55
        }
      ]
    },
    {
      "cell_type": "code",
      "metadata": {
        "id": "Dg0ZwF351htO",
        "colab_type": "code",
        "colab": {}
      },
      "source": [
        "# This grammar is described in the paper by S. N. Kim,\n",
        "# T. Baldwin, and M.-Y. Kan.\n",
        "# Evaluating n-gram based evaluation metrics for automatic\n",
        "# keyphrase extraction.\n",
        "# Technical report, University of Melbourne, Melbourne 2010.\n",
        "grammar = r\"\"\"\n",
        "    NBAR:\n",
        "        {<NN.*|JJ>*<NN.*>}  # Nouns and Adjectives, terminated with Nouns\n",
        "        \n",
        "    NP:\n",
        "        {<NBAR>}\n",
        "        {<NBAR><IN><NBAR>}  # Above, connected with in/of/etc...\n",
        "\"\"\""
      ],
      "execution_count": 0,
      "outputs": []
    },
    {
      "cell_type": "markdown",
      "metadata": {
        "id": "ni2NzWf01htQ",
        "colab_type": "text"
      },
      "source": [
        "### Google: https://www.researchgate.net/figure/282542411_fig2_Figure-4-Parse-tree-enrichment-examples-a-Unmodified-SPT-The-non-terminal-node\n"
      ]
    },
    {
      "cell_type": "code",
      "metadata": {
        "id": "6APaIwct1htR",
        "colab_type": "code",
        "colab": {}
      },
      "source": [
        "# Create phrase tree\n",
        "chunker = nltk.RegexpParser(grammar)\n",
        "tree= chunker.parse(taggedToks)"
      ],
      "execution_count": 0,
      "outputs": []
    },
    {
      "cell_type": "code",
      "metadata": {
        "id": "z1Z5B1pd1htV",
        "colab_type": "code",
        "colab": {}
      },
      "source": [
        "# Noun Phrase Extraction Support Functions\n",
        "from nltk.corpus import stopwords\n",
        "stopwords = stopwords.words('english')\n",
        "lemmatizer = nltk.WordNetLemmatizer()\n",
        "stemmer = nltk.stem.porter.PorterStemmer()\n",
        "\n",
        "# generator, generate leaves one by one\n",
        "def leaves(tree):\n",
        "    \"\"\"Finds NP (nounphrase) leaf nodes of a chunk tree.\"\"\"\n",
        "    for subtree in tree.subtrees(filter = lambda t: t.label()=='NP' or t.label()=='JJ' or t.label()=='RB'):\n",
        "        yield subtree.leaves()\n",
        "\n",
        "# stemming, lematizing, lower case... \n",
        "def normalise(word):\n",
        "    \"\"\"Normalises words to lowercase and stems and lemmatizes it.\"\"\"\n",
        "    word = word.lower()\n",
        "    word = stemmer.stem(word)\n",
        "    word = lemmatizer.lemmatize(word)\n",
        "    return word\n",
        "\n",
        "# stop-words and length control\n",
        "def acceptable_word(word):\n",
        "    \"\"\"Checks conditions for acceptable word: length, stopword.\"\"\"\n",
        "    accepted = bool(2 <= len(word) <= 40\n",
        "        and word.lower() not in stopwords)\n",
        "    return accepted\n",
        "\n",
        "# generator, create item once a time\n",
        "def get_terms(tree):\n",
        "    for leaf in leaves(tree):\n",
        "        term = [normalise(w) for w,t in leaf if acceptable_word(w) ]\n",
        "        # Phrase only\n",
        "        if len(term)>1:\n",
        "            yield term"
      ],
      "execution_count": 0,
      "outputs": []
    },
    {
      "cell_type": "code",
      "metadata": {
        "id": "7_HNWmCR1htu",
        "colab_type": "code",
        "colab": {},
        "outputId": "2519596c-6a8a-4cb4-eaae-b23c912997c0"
      },
      "source": [
        "# Traverse tree and get noun phrases\n",
        "npTokenList = [word for word in get_terms(tree)]\n",
        "\n",
        "npTokenList"
      ],
      "execution_count": 0,
      "outputs": [
        {
          "output_type": "execute_result",
          "data": {
            "text/plain": [
              "[['digit', 'comput'], ['cycl', 'transmiss']]"
            ]
          },
          "metadata": {
            "tags": []
          },
          "execution_count": 59
        }
      ]
    },
    {
      "cell_type": "code",
      "metadata": {
        "id": "N6gaamV_1htv",
        "colab_type": "code",
        "colab": {}
      },
      "source": [
        "# Flatten phrase lists to get tokens for analysis\n",
        "def flatten(npTokenList):\n",
        "    finalList =[]\n",
        "    for phrase in npTokenList:\n",
        "        token = ''\n",
        "        for word in phrase:\n",
        "            token += word + ' '\n",
        "        finalList.append(token.rstrip())\n",
        "    return finalList"
      ],
      "execution_count": 0,
      "outputs": []
    },
    {
      "cell_type": "code",
      "metadata": {
        "id": "-8aHRARZ1hty",
        "colab_type": "code",
        "colab": {}
      },
      "source": [
        "finalList = flatten(npTokenList)"
      ],
      "execution_count": 0,
      "outputs": []
    },
    {
      "cell_type": "code",
      "metadata": {
        "id": "0l_PRruQ1htz",
        "colab_type": "code",
        "colab": {}
      },
      "source": [
        "# Revise the previous dataframe transform function...\n",
        "def newDataFrameTransformation(hotelDf, reviewDF, k=50):\n",
        "    reviews = reviewDF['reviewCol'].values\n",
        "    \n",
        "    # Top-k frequent terms\n",
        "    counter = Counter()\n",
        "    for review in reviews:\n",
        "            counter.update(flatten([word\n",
        "                            for word \n",
        "                            in get_terms(chunker.parse(pos_tag(re.findall(r'\\w+', review)))) \n",
        "                            ]))\n",
        "    topk = counter.most_common(k)        \n",
        "    \n",
        "    #Find out if a particular review has the word from topk list\n",
        "    freqReview = []\n",
        "    for i in range(len(reviews)):\n",
        "        tempCounter = Counter(flatten([word \n",
        "                                       for word \n",
        "                                       in get_terms(chunker.parse(pos_tag(re.findall(r'\\w+',reviews[i]))))]))\n",
        "        topkinReview = [1 if tempCounter[word] > 0 else 0 for (word,wordCount) in topk]\n",
        "        freqReview.append(topkinReview)\n",
        "        \n",
        "        \n",
        "    #Prepare freqReviewDf\n",
        "    freqReviewDf = pandas.DataFrame(freqReview)\n",
        "    dfName = []\n",
        "    for c in topk:\n",
        "        dfName.append(c[0])\n",
        "    freqReviewDf.columns = dfName\n",
        "    finalreviewDf = reviewDF.join(freqReviewDf)\n",
        "    finaldf = hotelDf[['hotelName','ratingScore','groundTruth']].join(finalreviewDf)\n",
        "    return topk, finaldf"
      ],
      "execution_count": 0,
      "outputs": []
    },
    {
      "cell_type": "code",
      "metadata": {
        "id": "KwzISJhb1huF",
        "colab_type": "code",
        "colab": {}
      },
      "source": [
        "topk_phrase, finaldf_phrase = newDataFrameTransformation(hotelDf, reviewDF)"
      ],
      "execution_count": 0,
      "outputs": []
    },
    {
      "cell_type": "code",
      "metadata": {
        "id": "MswObwQI1huH",
        "colab_type": "code",
        "colab": {},
        "outputId": "386985bb-9e44-430e-9d73-a7f47c280f8d"
      },
      "source": [
        "finaldf_phrase.head()"
      ],
      "execution_count": 0,
      "outputs": [
        {
          "output_type": "execute_result",
          "data": {
            "text/html": [
              "<div>\n",
              "<style scoped>\n",
              "    .dataframe tbody tr th:only-of-type {\n",
              "        vertical-align: middle;\n",
              "    }\n",
              "\n",
              "    .dataframe tbody tr th {\n",
              "        vertical-align: top;\n",
              "    }\n",
              "\n",
              "    .dataframe thead th {\n",
              "        text-align: right;\n",
              "    }\n",
              "</style>\n",
              "<table border=\"1\" class=\"dataframe\">\n",
              "  <thead>\n",
              "    <tr style=\"text-align: right;\">\n",
              "      <th></th>\n",
              "      <th>hotelName</th>\n",
              "      <th>ratingScore</th>\n",
              "      <th>groundTruth</th>\n",
              "      <th>reviewCol</th>\n",
              "      <th>vader</th>\n",
              "      <th>room tip</th>\n",
              "      <th>front desk</th>\n",
              "      <th>front desk staff</th>\n",
              "      <th>free breakfast</th>\n",
              "      <th>bedroom suit</th>\n",
              "      <th>...</th>\n",
              "      <th>night stay</th>\n",
              "      <th>breakfast area</th>\n",
              "      <th>comfort inn</th>\n",
              "      <th>downtown toronto</th>\n",
              "      <th>free wifi</th>\n",
              "      <th>hampton inn</th>\n",
              "      <th>full kitchen</th>\n",
              "      <th>great stay</th>\n",
              "      <th>great locat</th>\n",
              "      <th>mont carlo inn</th>\n",
              "    </tr>\n",
              "  </thead>\n",
              "  <tbody>\n",
              "    <tr>\n",
              "      <th>0</th>\n",
              "      <td>Staybridge Suites Toronto</td>\n",
              "      <td>4</td>\n",
              "      <td>positive</td>\n",
              "      <td>my husband and i stayed there for 9 nights as ...</td>\n",
              "      <td>0.9731</td>\n",
              "      <td>0</td>\n",
              "      <td>0</td>\n",
              "      <td>0</td>\n",
              "      <td>0</td>\n",
              "      <td>1</td>\n",
              "      <td>...</td>\n",
              "      <td>0</td>\n",
              "      <td>0</td>\n",
              "      <td>0</td>\n",
              "      <td>0</td>\n",
              "      <td>0</td>\n",
              "      <td>0</td>\n",
              "      <td>0</td>\n",
              "      <td>0</td>\n",
              "      <td>0</td>\n",
              "      <td>0</td>\n",
              "    </tr>\n",
              "    <tr>\n",
              "      <th>1</th>\n",
              "      <td>Staybridge Suites Toronto</td>\n",
              "      <td>3</td>\n",
              "      <td>negative</td>\n",
              "      <td>Our stay was not the worst I've ever stayed in...</td>\n",
              "      <td>-0.2973</td>\n",
              "      <td>0</td>\n",
              "      <td>0</td>\n",
              "      <td>0</td>\n",
              "      <td>0</td>\n",
              "      <td>0</td>\n",
              "      <td>...</td>\n",
              "      <td>0</td>\n",
              "      <td>0</td>\n",
              "      <td>0</td>\n",
              "      <td>0</td>\n",
              "      <td>0</td>\n",
              "      <td>0</td>\n",
              "      <td>0</td>\n",
              "      <td>0</td>\n",
              "      <td>0</td>\n",
              "      <td>0</td>\n",
              "    </tr>\n",
              "    <tr>\n",
              "      <th>2</th>\n",
              "      <td>Staybridge Suites Toronto</td>\n",
              "      <td>3</td>\n",
              "      <td>negative</td>\n",
              "      <td>I stayed here during a weeknight in July with ...</td>\n",
              "      <td>-0.6042</td>\n",
              "      <td>0</td>\n",
              "      <td>1</td>\n",
              "      <td>0</td>\n",
              "      <td>0</td>\n",
              "      <td>0</td>\n",
              "      <td>...</td>\n",
              "      <td>0</td>\n",
              "      <td>0</td>\n",
              "      <td>0</td>\n",
              "      <td>0</td>\n",
              "      <td>0</td>\n",
              "      <td>0</td>\n",
              "      <td>0</td>\n",
              "      <td>0</td>\n",
              "      <td>0</td>\n",
              "      <td>0</td>\n",
              "    </tr>\n",
              "    <tr>\n",
              "      <th>3</th>\n",
              "      <td>Staybridge Suites Toronto</td>\n",
              "      <td>5</td>\n",
              "      <td>positive</td>\n",
              "      <td>Spent 5 weeks here while my home was prepped -...</td>\n",
              "      <td>0.9537</td>\n",
              "      <td>0</td>\n",
              "      <td>0</td>\n",
              "      <td>0</td>\n",
              "      <td>0</td>\n",
              "      <td>0</td>\n",
              "      <td>...</td>\n",
              "      <td>0</td>\n",
              "      <td>0</td>\n",
              "      <td>0</td>\n",
              "      <td>0</td>\n",
              "      <td>0</td>\n",
              "      <td>0</td>\n",
              "      <td>0</td>\n",
              "      <td>0</td>\n",
              "      <td>0</td>\n",
              "      <td>0</td>\n",
              "    </tr>\n",
              "    <tr>\n",
              "      <th>4</th>\n",
              "      <td>Staybridge Suites Toronto</td>\n",
              "      <td>5</td>\n",
              "      <td>positive</td>\n",
              "      <td>My family booked this hotel and at first we we...</td>\n",
              "      <td>0.9985</td>\n",
              "      <td>0</td>\n",
              "      <td>0</td>\n",
              "      <td>0</td>\n",
              "      <td>0</td>\n",
              "      <td>1</td>\n",
              "      <td>...</td>\n",
              "      <td>0</td>\n",
              "      <td>0</td>\n",
              "      <td>0</td>\n",
              "      <td>0</td>\n",
              "      <td>0</td>\n",
              "      <td>0</td>\n",
              "      <td>0</td>\n",
              "      <td>0</td>\n",
              "      <td>0</td>\n",
              "      <td>0</td>\n",
              "    </tr>\n",
              "  </tbody>\n",
              "</table>\n",
              "<p>5 rows × 55 columns</p>\n",
              "</div>"
            ],
            "text/plain": [
              "                   hotelName  ratingScore groundTruth  \\\n",
              "0  Staybridge Suites Toronto            4    positive   \n",
              "1  Staybridge Suites Toronto            3    negative   \n",
              "2  Staybridge Suites Toronto            3    negative   \n",
              "3  Staybridge Suites Toronto            5    positive   \n",
              "4  Staybridge Suites Toronto            5    positive   \n",
              "\n",
              "                                           reviewCol   vader  room tip  \\\n",
              "0  my husband and i stayed there for 9 nights as ...  0.9731         0   \n",
              "1  Our stay was not the worst I've ever stayed in... -0.2973         0   \n",
              "2  I stayed here during a weeknight in July with ... -0.6042         0   \n",
              "3  Spent 5 weeks here while my home was prepped -...  0.9537         0   \n",
              "4  My family booked this hotel and at first we we...  0.9985         0   \n",
              "\n",
              "   front desk  front desk staff  free breakfast  bedroom suit       ...        \\\n",
              "0           0                 0               0             1       ...         \n",
              "1           0                 0               0             0       ...         \n",
              "2           1                 0               0             0       ...         \n",
              "3           0                 0               0             0       ...         \n",
              "4           0                 0               0             1       ...         \n",
              "\n",
              "   night stay  breakfast area  comfort inn  downtown toronto  free wifi  \\\n",
              "0           0               0            0                 0          0   \n",
              "1           0               0            0                 0          0   \n",
              "2           0               0            0                 0          0   \n",
              "3           0               0            0                 0          0   \n",
              "4           0               0            0                 0          0   \n",
              "\n",
              "   hampton inn  full kitchen  great stay  great locat  mont carlo inn  \n",
              "0            0             0           0            0               0  \n",
              "1            0             0           0            0               0  \n",
              "2            0             0           0            0               0  \n",
              "3            0             0           0            0               0  \n",
              "4            0             0           0            0               0  \n",
              "\n",
              "[5 rows x 55 columns]"
            ]
          },
          "metadata": {
            "tags": []
          },
          "execution_count": 64
        }
      ]
    },
    {
      "cell_type": "code",
      "metadata": {
        "id": "ln_d75Jp1huK",
        "colab_type": "code",
        "colab": {},
        "outputId": "5ce8347e-368f-42f4-c48f-eedf608de0cf"
      },
      "source": [
        "pmiposlist, pmineglist, pmidf = pmiForAllCal(finaldf_phrase, topk=topk_phrase)"
      ],
      "execution_count": 0,
      "outputs": [
        {
          "output_type": "stream",
          "text": [
            "100%|██████████| 50/50 [00:00<00:00, 71.95it/s]\n"
          ],
          "name": "stderr"
        }
      ]
    },
    {
      "cell_type": "code",
      "metadata": {
        "scrolled": true,
        "id": "4dXYgojS1huN",
        "colab_type": "code",
        "colab": {},
        "outputId": "655e1a57-d619-4fe5-e09e-de61b6d40b6f"
      },
      "source": [
        "pmiposlist.sort_values('pmi',ascending=0).head(5)"
      ],
      "execution_count": 0,
      "outputs": [
        {
          "output_type": "execute_result",
          "data": {
            "text/html": [
              "<div>\n",
              "<style scoped>\n",
              "    .dataframe tbody tr th:only-of-type {\n",
              "        vertical-align: middle;\n",
              "    }\n",
              "\n",
              "    .dataframe tbody tr th {\n",
              "        vertical-align: top;\n",
              "    }\n",
              "\n",
              "    .dataframe thead th {\n",
              "        text-align: right;\n",
              "    }\n",
              "</style>\n",
              "<table border=\"1\" class=\"dataframe\">\n",
              "  <thead>\n",
              "    <tr style=\"text-align: right;\">\n",
              "      <th></th>\n",
              "      <th>word</th>\n",
              "      <th>pmi</th>\n",
              "    </tr>\n",
              "  </thead>\n",
              "  <tbody>\n",
              "    <tr>\n",
              "      <th>12</th>\n",
              "      <td>easi access</td>\n",
              "      <td>0.234617</td>\n",
              "    </tr>\n",
              "    <tr>\n",
              "      <th>47</th>\n",
              "      <td>great stay</td>\n",
              "      <td>0.225192</td>\n",
              "    </tr>\n",
              "    <tr>\n",
              "      <th>46</th>\n",
              "      <td>full kitchen</td>\n",
              "      <td>0.201095</td>\n",
              "    </tr>\n",
              "    <tr>\n",
              "      <th>29</th>\n",
              "      <td>great hotel</td>\n",
              "      <td>0.189260</td>\n",
              "    </tr>\n",
              "    <tr>\n",
              "      <th>37</th>\n",
              "      <td>major highway</td>\n",
              "      <td>0.164727</td>\n",
              "    </tr>\n",
              "  </tbody>\n",
              "</table>\n",
              "</div>"
            ],
            "text/plain": [
              "             word       pmi\n",
              "12    easi access  0.234617\n",
              "47     great stay  0.225192\n",
              "46   full kitchen  0.201095\n",
              "29    great hotel  0.189260\n",
              "37  major highway  0.164727"
            ]
          },
          "metadata": {
            "tags": []
          },
          "execution_count": 66
        }
      ]
    },
    {
      "cell_type": "code",
      "metadata": {
        "scrolled": false,
        "id": "5WqoNHuA1huP",
        "colab_type": "code",
        "colab": {},
        "outputId": "5562933f-6b23-491a-97ba-fed13cda864f"
      },
      "source": [
        "pmineglist.sort_values('pmi',ascending=0).head(5)"
      ],
      "execution_count": 0,
      "outputs": [
        {
          "output_type": "execute_result",
          "data": {
            "text/html": [
              "<div>\n",
              "<style scoped>\n",
              "    .dataframe tbody tr th:only-of-type {\n",
              "        vertical-align: middle;\n",
              "    }\n",
              "\n",
              "    .dataframe tbody tr th {\n",
              "        vertical-align: top;\n",
              "    }\n",
              "\n",
              "    .dataframe thead th {\n",
              "        text-align: right;\n",
              "    }\n",
              "</style>\n",
              "<table border=\"1\" class=\"dataframe\">\n",
              "  <thead>\n",
              "    <tr style=\"text-align: right;\">\n",
              "      <th></th>\n",
              "      <th>word</th>\n",
              "      <th>pmi</th>\n",
              "    </tr>\n",
              "  </thead>\n",
              "  <tbody>\n",
              "    <tr>\n",
              "      <th>16</th>\n",
              "      <td>next day</td>\n",
              "      <td>0.998272</td>\n",
              "    </tr>\n",
              "    <tr>\n",
              "      <th>14</th>\n",
              "      <td>next morn</td>\n",
              "      <td>0.815951</td>\n",
              "    </tr>\n",
              "    <tr>\n",
              "      <th>42</th>\n",
              "      <td>comfort inn</td>\n",
              "      <td>0.815951</td>\n",
              "    </tr>\n",
              "    <tr>\n",
              "      <th>25</th>\n",
              "      <td>custom servic</td>\n",
              "      <td>0.778210</td>\n",
              "    </tr>\n",
              "    <tr>\n",
              "      <th>1</th>\n",
              "      <td>front desk</td>\n",
              "      <td>0.554148</td>\n",
              "    </tr>\n",
              "  </tbody>\n",
              "</table>\n",
              "</div>"
            ],
            "text/plain": [
              "             word       pmi\n",
              "16       next day  0.998272\n",
              "14      next morn  0.815951\n",
              "42    comfort inn  0.815951\n",
              "25  custom servic  0.778210\n",
              "1      front desk  0.554148"
            ]
          },
          "metadata": {
            "tags": []
          },
          "execution_count": 67
        }
      ]
    },
    {
      "cell_type": "code",
      "metadata": {
        "id": "Iwb-vQDr1huR",
        "colab_type": "code",
        "colab": {}
      },
      "source": [
        ""
      ],
      "execution_count": 0,
      "outputs": []
    }
  ]
}