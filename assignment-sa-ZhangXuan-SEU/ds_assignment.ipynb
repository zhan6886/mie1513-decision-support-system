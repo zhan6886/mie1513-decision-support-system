{
 "cells": [
  {
   "cell_type": "markdown",
   "metadata": {
    "colab_type": "text",
    "id": "sKfecEhIAD_a"
   },
   "source": [
    "### Imports"
   ]
  },
  {
   "cell_type": "code",
   "execution_count": 3,
   "metadata": {
    "colab": {
     "base_uri": "https://localhost:8080/",
     "height": 195
    },
    "colab_type": "code",
    "id": "HLnnzUIY667K",
    "outputId": "e7d378fc-a77d-4eba-e10a-cb28f56dee96"
   },
   "outputs": [
    {
     "name": "stdout",
     "output_type": "stream",
     "text": [
      "[nltk_data] Downloading package vader_lexicon to /root/nltk_data...\n",
      "[nltk_data]   Package vader_lexicon is already up-to-date!\n",
      "[nltk_data] Downloading package stopwords to /root/nltk_data...\n",
      "[nltk_data]   Package stopwords is already up-to-date!\n",
      "[nltk_data] Downloading package averaged_perceptron_tagger to\n",
      "[nltk_data]     /root/nltk_data...\n",
      "[nltk_data]   Package averaged_perceptron_tagger is already up-to-\n",
      "[nltk_data]       date!\n",
      "[nltk_data] Downloading package wordnet to /root/nltk_data...\n",
      "[nltk_data]   Package wordnet is already up-to-date!\n"
     ]
    }
   ],
   "source": [
    "#Plot\n",
    "import matplotlib.pyplot as plt\n",
    "import seaborn as sns\n",
    "%matplotlib inline\n",
    "\n",
    "#Data Packages\n",
    "import math\n",
    "import pandas as pd\n",
    "import numpy as np\n",
    "\n",
    "#Progress bar\n",
    "from tqdm import tqdm\n",
    "\n",
    "#Counter\n",
    "from collections import Counter\n",
    "\n",
    "#Operation\n",
    "import operator\n",
    "\n",
    "#Natural Language Processing Packages\n",
    "import re\n",
    "import nltk\n",
    "\n",
    "## Download Resources\n",
    "nltk.download(\"vader_lexicon\")\n",
    "nltk.download(\"stopwords\")\n",
    "nltk.download(\"averaged_perceptron_tagger\")\n",
    "nltk.download(\"wordnet\")\n",
    "\n",
    "from nltk.sentiment import SentimentAnalyzer\n",
    "from nltk.sentiment.vader import SentimentIntensityAnalyzer\n",
    "from nltk.sentiment.util import *\n",
    "from nltk import tokenize\n",
    "from nltk.tokenize import RegexpTokenizer\n",
    "from nltk.stem import WordNetLemmatizer\n",
    "from nltk.stem.snowball import SnowballStemmer\n",
    "from nltk.corpus import stopwords\n",
    "from nltk.tag import PerceptronTagger\n",
    "from nltk.data import find\n",
    "\n",
    "## Machine Learning\n",
    "import sklearn\n",
    "import sklearn.metrics as metrics"
   ]
  },
  {
   "cell_type": "markdown",
   "metadata": {
    "colab_type": "text",
    "id": "aCQDDpr7AJRY"
   },
   "source": [
    "### Load Data"
   ]
  },
  {
   "cell_type": "code",
   "execution_count": 4,
   "metadata": {
    "colab": {
     "base_uri": "https://localhost:8080/",
     "height": 139
    },
    "colab_type": "code",
    "id": "60LEjiZCWfl4",
    "outputId": "f9152e40-e997-4fd4-819b-61cb005ae044"
   },
   "outputs": [
    {
     "data": {
      "text/html": [
       "<div>\n",
       "<style scoped>\n",
       "    .dataframe tbody tr th:only-of-type {\n",
       "        vertical-align: middle;\n",
       "    }\n",
       "\n",
       "    .dataframe tbody tr th {\n",
       "        vertical-align: top;\n",
       "    }\n",
       "\n",
       "    .dataframe thead th {\n",
       "        text-align: right;\n",
       "    }\n",
       "</style>\n",
       "<table border=\"1\" class=\"dataframe\">\n",
       "  <thead>\n",
       "    <tr style=\"text-align: right;\">\n",
       "      <th></th>\n",
       "      <th>hotelName</th>\n",
       "      <th>reviewColumn</th>\n",
       "      <th>ratingScore</th>\n",
       "      <th>groundTruth</th>\n",
       "    </tr>\n",
       "  </thead>\n",
       "  <tbody>\n",
       "    <tr>\n",
       "      <th>0</th>\n",
       "      <td>Holiday Inn Express Hotel &amp;amp; Suites Kingston</td>\n",
       "      <td>\"We stayed here just passing through on our wa...</td>\n",
       "      <td>5</td>\n",
       "      <td>positive</td>\n",
       "    </tr>\n",
       "    <tr>\n",
       "      <th>1</th>\n",
       "      <td>Holiday Inn Express Hotel &amp;amp; Suites Kingston</td>\n",
       "      <td>\"I travel frequently for business and Kingston...</td>\n",
       "      <td>4</td>\n",
       "      <td>positive</td>\n",
       "    </tr>\n",
       "    <tr>\n",
       "      <th>2</th>\n",
       "      <td>Holiday Inn Express Hotel &amp;amp; Suites Kingston</td>\n",
       "      <td>\"We were in town for a sporting event, so we o...</td>\n",
       "      <td>4</td>\n",
       "      <td>positive</td>\n",
       "    </tr>\n",
       "  </tbody>\n",
       "</table>\n",
       "</div>"
      ],
      "text/plain": [
       "                                         hotelName  ... groundTruth\n",
       "0  Holiday Inn Express Hotel &amp; Suites Kingston  ...    positive\n",
       "1  Holiday Inn Express Hotel &amp; Suites Kingston  ...    positive\n",
       "2  Holiday Inn Express Hotel &amp; Suites Kingston  ...    positive\n",
       "\n",
       "[3 rows x 4 columns]"
      ]
     },
     "execution_count": 4,
     "metadata": {
      "tags": []
     },
     "output_type": "execute_result"
    }
   ],
   "source": [
    "hotelDf = pd.read_csv('reviews.csv')\n",
    "hotelDf.columns=['filePath','hotelName','reviewColumn','ratingScore','groundTruth']\n",
    "hotelDf['reviewColumn'] = hotelDf['reviewColumn'].fillna(\"no\")\n",
    "hotelDf.drop(['filePath'],axis=1,inplace=True)\n",
    "hotelDf.head(3)"
   ]
  },
  {
   "cell_type": "markdown",
   "metadata": {
    "colab_type": "text",
    "id": "VrpyXz32Ym15"
   },
   "source": [
    "### Q1"
   ]
  },
  {
   "cell_type": "code",
   "execution_count": 0,
   "metadata": {
    "colab": {},
    "colab_type": "code",
    "id": "_tR1XQocYj5U"
   },
   "outputs": [],
   "source": [
    " def sentiment_scores(sentence): \n",
    "  \n",
    "    # Create a SentimentIntensityAnalyzer object. \n",
    "    sid_obj = SentimentIntensityAnalyzer() \n",
    "  \n",
    "    # polarity_scores method of SentimentIntensityAnalyzer \n",
    "    # oject gives a sentiment dictionary. \n",
    "    # which contains pos, neg, neu, and compound scores. \n",
    "    sentiment_vader = sid_obj.polarity_scores(sentence)['compound']\n",
    "    return sentiment_vader\n",
    "      "
   ]
  },
  {
   "cell_type": "code",
   "execution_count": 6,
   "metadata": {
    "colab": {
     "base_uri": "https://localhost:8080/",
     "height": 285
    },
    "colab_type": "code",
    "id": "RB8EjyOAZaGw",
    "outputId": "04286e6b-ced9-4934-a9ec-83fbb3873a67"
   },
   "outputs": [
    {
     "data": {
      "text/html": [
       "<div>\n",
       "<style scoped>\n",
       "    .dataframe tbody tr th:only-of-type {\n",
       "        vertical-align: middle;\n",
       "    }\n",
       "\n",
       "    .dataframe tbody tr th {\n",
       "        vertical-align: top;\n",
       "    }\n",
       "\n",
       "    .dataframe thead th {\n",
       "        text-align: right;\n",
       "    }\n",
       "</style>\n",
       "<table border=\"1\" class=\"dataframe\">\n",
       "  <thead>\n",
       "    <tr style=\"text-align: right;\">\n",
       "      <th></th>\n",
       "      <th>hotelName</th>\n",
       "      <th>reviewColumn</th>\n",
       "      <th>ratingScore</th>\n",
       "      <th>groundTruth</th>\n",
       "      <th>vader</th>\n",
       "    </tr>\n",
       "  </thead>\n",
       "  <tbody>\n",
       "    <tr>\n",
       "      <th>0</th>\n",
       "      <td>Holiday Inn Express Hotel &amp;amp; Suites Kingston</td>\n",
       "      <td>\"We stayed here just passing through on our wa...</td>\n",
       "      <td>5</td>\n",
       "      <td>positive</td>\n",
       "      <td>0.9931</td>\n",
       "    </tr>\n",
       "    <tr>\n",
       "      <th>1</th>\n",
       "      <td>Holiday Inn Express Hotel &amp;amp; Suites Kingston</td>\n",
       "      <td>\"I travel frequently for business and Kingston...</td>\n",
       "      <td>4</td>\n",
       "      <td>positive</td>\n",
       "      <td>0.9910</td>\n",
       "    </tr>\n",
       "    <tr>\n",
       "      <th>2</th>\n",
       "      <td>Holiday Inn Express Hotel &amp;amp; Suites Kingston</td>\n",
       "      <td>\"We were in town for a sporting event, so we o...</td>\n",
       "      <td>4</td>\n",
       "      <td>positive</td>\n",
       "      <td>0.8581</td>\n",
       "    </tr>\n",
       "    <tr>\n",
       "      <th>3</th>\n",
       "      <td>Holiday Inn Express Hotel &amp;amp; Suites Kingston</td>\n",
       "      <td>\"My parents had a car accident this weekend ne...</td>\n",
       "      <td>5</td>\n",
       "      <td>positive</td>\n",
       "      <td>-0.5538</td>\n",
       "    </tr>\n",
       "    <tr>\n",
       "      <th>4</th>\n",
       "      <td>Holiday Inn Express Hotel &amp;amp; Suites Kingston</td>\n",
       "      <td>\"The room was very nice.  Place is clean and m...</td>\n",
       "      <td>5</td>\n",
       "      <td>positive</td>\n",
       "      <td>0.9440</td>\n",
       "    </tr>\n",
       "  </tbody>\n",
       "</table>\n",
       "</div>"
      ],
      "text/plain": [
       "                                         hotelName  ...   vader\n",
       "0  Holiday Inn Express Hotel &amp; Suites Kingston  ...  0.9931\n",
       "1  Holiday Inn Express Hotel &amp; Suites Kingston  ...  0.9910\n",
       "2  Holiday Inn Express Hotel &amp; Suites Kingston  ...  0.8581\n",
       "3  Holiday Inn Express Hotel &amp; Suites Kingston  ... -0.5538\n",
       "4  Holiday Inn Express Hotel &amp; Suites Kingston  ...  0.9440\n",
       "\n",
       "[5 rows x 5 columns]"
      ]
     },
     "execution_count": 6,
     "metadata": {
      "tags": []
     },
     "output_type": "execute_result"
    }
   ],
   "source": [
    "hotelDf['vader'] = hotelDf['reviewColumn'].apply(sentiment_scores)\n",
    "hotelDf.head()"
   ]
  },
  {
   "cell_type": "markdown",
   "metadata": {
    "colab_type": "text",
    "id": "P06RhN4qaw24"
   },
   "source": [
    "#### (a) Compute average Vader sentiment and average ground truth rating per hotel."
   ]
  },
  {
   "cell_type": "code",
   "execution_count": 7,
   "metadata": {
    "colab": {
     "base_uri": "https://localhost:8080/",
     "height": 200
    },
    "colab_type": "code",
    "id": "XdZL90cfa0Yp",
    "outputId": "ad33315a-4c48-42a6-cee0-916e0dc64f3c"
   },
   "outputs": [
    {
     "data": {
      "text/html": [
       "<div>\n",
       "<style scoped>\n",
       "    .dataframe tbody tr th:only-of-type {\n",
       "        vertical-align: middle;\n",
       "    }\n",
       "\n",
       "    .dataframe tbody tr th {\n",
       "        vertical-align: top;\n",
       "    }\n",
       "\n",
       "    .dataframe thead th {\n",
       "        text-align: right;\n",
       "    }\n",
       "</style>\n",
       "<table border=\"1\" class=\"dataframe\">\n",
       "  <thead>\n",
       "    <tr style=\"text-align: right;\">\n",
       "      <th></th>\n",
       "      <th>hotelName</th>\n",
       "      <th>ratingScore</th>\n",
       "      <th>vader</th>\n",
       "    </tr>\n",
       "  </thead>\n",
       "  <tbody>\n",
       "    <tr>\n",
       "      <th>0</th>\n",
       "      <td>A Cherry Place Bed and Breakfast</td>\n",
       "      <td>4.950000</td>\n",
       "      <td>0.960145</td>\n",
       "    </tr>\n",
       "    <tr>\n",
       "      <th>1</th>\n",
       "      <td>All Suites Whitney Manor</td>\n",
       "      <td>4.858824</td>\n",
       "      <td>0.881452</td>\n",
       "    </tr>\n",
       "    <tr>\n",
       "      <th>2</th>\n",
       "      <td>Ambassador Hotel &amp;amp; Conference Centre</td>\n",
       "      <td>3.380000</td>\n",
       "      <td>0.433337</td>\n",
       "    </tr>\n",
       "    <tr>\n",
       "      <th>3</th>\n",
       "      <td>Bayside Inn &amp;amp; Waterfront Suites</td>\n",
       "      <td>2.700000</td>\n",
       "      <td>0.249661</td>\n",
       "    </tr>\n",
       "    <tr>\n",
       "      <th>4</th>\n",
       "      <td>Best Western Fireside Inn</td>\n",
       "      <td>4.550000</td>\n",
       "      <td>0.849882</td>\n",
       "    </tr>\n",
       "  </tbody>\n",
       "</table>\n",
       "</div>"
      ],
      "text/plain": [
       "                                  hotelName  ratingScore     vader\n",
       "0          A Cherry Place Bed and Breakfast     4.950000  0.960145\n",
       "1                  All Suites Whitney Manor     4.858824  0.881452\n",
       "2  Ambassador Hotel &amp; Conference Centre     3.380000  0.433337\n",
       "3       Bayside Inn &amp; Waterfront Suites     2.700000  0.249661\n",
       "4                 Best Western Fireside Inn     4.550000  0.849882"
      ]
     },
     "execution_count": 7,
     "metadata": {
      "tags": []
     },
     "output_type": "execute_result"
    }
   ],
   "source": [
    "hotel_avgDF = hotelDf.groupby('hotelName')['ratingScore','vader'].mean().reset_index()\n",
    "hotel_avgDF.head()"
   ]
  },
  {
   "cell_type": "markdown",
   "metadata": {
    "colab_type": "text",
    "id": "ERQRG8wMbVc2"
   },
   "source": [
    "#### (b) List ranked hotels"
   ]
  },
  {
   "cell_type": "code",
   "execution_count": 0,
   "metadata": {
    "colab": {},
    "colab_type": "code",
    "id": "N1bCApMn5tBW"
   },
   "outputs": [],
   "source": [
    "hotelNames = hotel_avgDF['hotelName'].unique()"
   ]
  },
  {
   "cell_type": "code",
   "execution_count": 0,
   "metadata": {
    "colab": {},
    "colab_type": "code",
    "id": "0Yp7BqnW5U4-"
   },
   "outputs": [],
   "source": [
    "def getHotelRank(df, measure='ratingScore'):\n",
    "    #Rank the hotel by ground truth rating score\n",
    "    hotelRating = []\n",
    "    for hotel in hotelNames:\n",
    "        itemDf = df.loc[df['hotelName']==hotel]\n",
    "        hotelRating.append([hotel,itemDf[measure].mean()])\n",
    "    hotelRatingDfGt = pd.DataFrame(hotelRating)\n",
    "    hotelRatingDfGt.columns=['hotelName','avgRatingScore']\n",
    "    hotelRatingDfGt = hotelRatingDfGt.sort_values('avgRatingScore',ascending=0)\n",
    "    return hotelRatingDfGt"
   ]
  },
  {
   "cell_type": "code",
   "execution_count": 0,
   "metadata": {
    "colab": {},
    "colab_type": "code",
    "id": "c3WmfSVR5Y6Y"
   },
   "outputs": [],
   "source": [
    "hotelRatingDfGt = getHotelRank(hotel_avgDF)\n",
    "hotelRatingDfVd = getHotelRank(hotel_avgDF, measure='vader')"
   ]
  },
  {
   "cell_type": "code",
   "execution_count": 11,
   "metadata": {
    "colab": {
     "base_uri": "https://localhost:8080/",
     "height": 200
    },
    "colab_type": "code",
    "id": "1jix1jAM5yga",
    "outputId": "9fa60d13-94fa-4618-bc11-68054d62f899"
   },
   "outputs": [
    {
     "data": {
      "text/html": [
       "<div>\n",
       "<style scoped>\n",
       "    .dataframe tbody tr th:only-of-type {\n",
       "        vertical-align: middle;\n",
       "    }\n",
       "\n",
       "    .dataframe tbody tr th {\n",
       "        vertical-align: top;\n",
       "    }\n",
       "\n",
       "    .dataframe thead th {\n",
       "        text-align: right;\n",
       "    }\n",
       "</style>\n",
       "<table border=\"1\" class=\"dataframe\">\n",
       "  <thead>\n",
       "    <tr style=\"text-align: right;\">\n",
       "      <th></th>\n",
       "      <th>hotelName</th>\n",
       "      <th>avgRatingScore</th>\n",
       "    </tr>\n",
       "  </thead>\n",
       "  <tbody>\n",
       "    <tr>\n",
       "      <th>0</th>\n",
       "      <td>A Cherry Place Bed and Breakfast</td>\n",
       "      <td>0.960145</td>\n",
       "    </tr>\n",
       "    <tr>\n",
       "      <th>18</th>\n",
       "      <td>Green Woods Inn</td>\n",
       "      <td>0.959917</td>\n",
       "    </tr>\n",
       "    <tr>\n",
       "      <th>34</th>\n",
       "      <td>Secret Garden Bed &amp;amp; Breakfast Inn</td>\n",
       "      <td>0.954265</td>\n",
       "    </tr>\n",
       "    <tr>\n",
       "      <th>17</th>\n",
       "      <td>Green Acres Inn</td>\n",
       "      <td>0.926452</td>\n",
       "    </tr>\n",
       "    <tr>\n",
       "      <th>40</th>\n",
       "      <td>The Rosemount Inn</td>\n",
       "      <td>0.898553</td>\n",
       "    </tr>\n",
       "  </tbody>\n",
       "</table>\n",
       "</div>"
      ],
      "text/plain": [
       "                                hotelName  avgRatingScore\n",
       "0        A Cherry Place Bed and Breakfast        0.960145\n",
       "18                        Green Woods Inn        0.959917\n",
       "34  Secret Garden Bed &amp; Breakfast Inn        0.954265\n",
       "17                        Green Acres Inn        0.926452\n",
       "40                      The Rosemount Inn        0.898553"
      ]
     },
     "execution_count": 11,
     "metadata": {
      "tags": []
     },
     "output_type": "execute_result"
    }
   ],
   "source": [
    "hotelRatingDfVd.head(5)"
   ]
  },
  {
   "cell_type": "code",
   "execution_count": 13,
   "metadata": {
    "colab": {
     "base_uri": "https://localhost:8080/",
     "height": 200
    },
    "colab_type": "code",
    "id": "M-mmNa-H6F6K",
    "outputId": "1110778b-3623-4b06-d07c-086637cc7296"
   },
   "outputs": [
    {
     "data": {
      "text/html": [
       "<div>\n",
       "<style scoped>\n",
       "    .dataframe tbody tr th:only-of-type {\n",
       "        vertical-align: middle;\n",
       "    }\n",
       "\n",
       "    .dataframe tbody tr th {\n",
       "        vertical-align: top;\n",
       "    }\n",
       "\n",
       "    .dataframe thead th {\n",
       "        text-align: right;\n",
       "    }\n",
       "</style>\n",
       "<table border=\"1\" class=\"dataframe\">\n",
       "  <thead>\n",
       "    <tr style=\"text-align: right;\">\n",
       "      <th></th>\n",
       "      <th>hotelName</th>\n",
       "      <th>avgRatingScore</th>\n",
       "    </tr>\n",
       "  </thead>\n",
       "  <tbody>\n",
       "    <tr>\n",
       "      <th>18</th>\n",
       "      <td>Green Woods Inn</td>\n",
       "      <td>4.962963</td>\n",
       "    </tr>\n",
       "    <tr>\n",
       "      <th>0</th>\n",
       "      <td>A Cherry Place Bed and Breakfast</td>\n",
       "      <td>4.950000</td>\n",
       "    </tr>\n",
       "    <tr>\n",
       "      <th>1</th>\n",
       "      <td>All Suites Whitney Manor</td>\n",
       "      <td>4.858824</td>\n",
       "    </tr>\n",
       "    <tr>\n",
       "      <th>34</th>\n",
       "      <td>Secret Garden Bed &amp;amp; Breakfast Inn</td>\n",
       "      <td>4.762500</td>\n",
       "    </tr>\n",
       "    <tr>\n",
       "      <th>17</th>\n",
       "      <td>Green Acres Inn</td>\n",
       "      <td>4.620000</td>\n",
       "    </tr>\n",
       "  </tbody>\n",
       "</table>\n",
       "</div>"
      ],
      "text/plain": [
       "                                hotelName  avgRatingScore\n",
       "18                        Green Woods Inn        4.962963\n",
       "0        A Cherry Place Bed and Breakfast        4.950000\n",
       "1                All Suites Whitney Manor        4.858824\n",
       "34  Secret Garden Bed &amp; Breakfast Inn        4.762500\n",
       "17                        Green Acres Inn        4.620000"
      ]
     },
     "execution_count": 13,
     "metadata": {
      "tags": []
     },
     "output_type": "execute_result"
    }
   ],
   "source": [
    "hotelRatingDfGt.head(5)"
   ]
  },
  {
   "cell_type": "code",
   "execution_count": 12,
   "metadata": {
    "colab": {
     "base_uri": "https://localhost:8080/",
     "height": 200
    },
    "colab_type": "code",
    "id": "eeag14pz6AtK",
    "outputId": "878450aa-2e9a-4cc3-e358-173d8120a2cc"
   },
   "outputs": [
    {
     "data": {
      "text/html": [
       "<div>\n",
       "<style scoped>\n",
       "    .dataframe tbody tr th:only-of-type {\n",
       "        vertical-align: middle;\n",
       "    }\n",
       "\n",
       "    .dataframe tbody tr th {\n",
       "        vertical-align: top;\n",
       "    }\n",
       "\n",
       "    .dataframe thead th {\n",
       "        text-align: right;\n",
       "    }\n",
       "</style>\n",
       "<table border=\"1\" class=\"dataframe\">\n",
       "  <thead>\n",
       "    <tr style=\"text-align: right;\">\n",
       "      <th></th>\n",
       "      <th>hotelName</th>\n",
       "      <th>avgRatingScore</th>\n",
       "    </tr>\n",
       "  </thead>\n",
       "  <tbody>\n",
       "    <tr>\n",
       "      <th>32</th>\n",
       "      <td>Ramada by Wyndham Kingston Hotel and Conferenc...</td>\n",
       "      <td>0.280141</td>\n",
       "    </tr>\n",
       "    <tr>\n",
       "      <th>26</th>\n",
       "      <td>Knights Inn Kingston</td>\n",
       "      <td>0.273062</td>\n",
       "    </tr>\n",
       "    <tr>\n",
       "      <th>3</th>\n",
       "      <td>Bayside Inn &amp;amp; Waterfront Suites</td>\n",
       "      <td>0.249661</td>\n",
       "    </tr>\n",
       "    <tr>\n",
       "      <th>14</th>\n",
       "      <td>Fort Henry Motel</td>\n",
       "      <td>0.239760</td>\n",
       "    </tr>\n",
       "    <tr>\n",
       "      <th>43</th>\n",
       "      <td>Welcome Traveller Motel</td>\n",
       "      <td>0.183920</td>\n",
       "    </tr>\n",
       "  </tbody>\n",
       "</table>\n",
       "</div>"
      ],
      "text/plain": [
       "                                            hotelName  avgRatingScore\n",
       "32  Ramada by Wyndham Kingston Hotel and Conferenc...        0.280141\n",
       "26                               Knights Inn Kingston        0.273062\n",
       "3                 Bayside Inn &amp; Waterfront Suites        0.249661\n",
       "14                                   Fort Henry Motel        0.239760\n",
       "43                            Welcome Traveller Motel        0.183920"
      ]
     },
     "execution_count": 12,
     "metadata": {
      "tags": []
     },
     "output_type": "execute_result"
    }
   ],
   "source": [
    "hotelRatingDfVd.tail(5)"
   ]
  },
  {
   "cell_type": "code",
   "execution_count": 14,
   "metadata": {
    "colab": {
     "base_uri": "https://localhost:8080/",
     "height": 200
    },
    "colab_type": "code",
    "id": "93h9AinP6HYT",
    "outputId": "21364a6e-7ba6-4320-e25b-7bf303603b3b"
   },
   "outputs": [
    {
     "data": {
      "text/html": [
       "<div>\n",
       "<style scoped>\n",
       "    .dataframe tbody tr th:only-of-type {\n",
       "        vertical-align: middle;\n",
       "    }\n",
       "\n",
       "    .dataframe tbody tr th {\n",
       "        vertical-align: top;\n",
       "    }\n",
       "\n",
       "    .dataframe thead th {\n",
       "        text-align: right;\n",
       "    }\n",
       "</style>\n",
       "<table border=\"1\" class=\"dataframe\">\n",
       "  <thead>\n",
       "    <tr style=\"text-align: right;\">\n",
       "      <th></th>\n",
       "      <th>hotelName</th>\n",
       "      <th>avgRatingScore</th>\n",
       "    </tr>\n",
       "  </thead>\n",
       "  <tbody>\n",
       "    <tr>\n",
       "      <th>26</th>\n",
       "      <td>Knights Inn Kingston</td>\n",
       "      <td>2.886792</td>\n",
       "    </tr>\n",
       "    <tr>\n",
       "      <th>3</th>\n",
       "      <td>Bayside Inn &amp;amp; Waterfront Suites</td>\n",
       "      <td>2.700000</td>\n",
       "    </tr>\n",
       "    <tr>\n",
       "      <th>43</th>\n",
       "      <td>Welcome Traveller Motel</td>\n",
       "      <td>2.500000</td>\n",
       "    </tr>\n",
       "    <tr>\n",
       "      <th>16</th>\n",
       "      <td>General Wolfe Hotel</td>\n",
       "      <td>2.333333</td>\n",
       "    </tr>\n",
       "    <tr>\n",
       "      <th>27</th>\n",
       "      <td>Kozy Inn</td>\n",
       "      <td>2.133333</td>\n",
       "    </tr>\n",
       "  </tbody>\n",
       "</table>\n",
       "</div>"
      ],
      "text/plain": [
       "                              hotelName  avgRatingScore\n",
       "26                 Knights Inn Kingston        2.886792\n",
       "3   Bayside Inn &amp; Waterfront Suites        2.700000\n",
       "43              Welcome Traveller Motel        2.500000\n",
       "16                  General Wolfe Hotel        2.333333\n",
       "27                             Kozy Inn        2.133333"
      ]
     },
     "execution_count": 14,
     "metadata": {
      "tags": []
     },
     "output_type": "execute_result"
    }
   ],
   "source": [
    "hotelRatingDfGt.tail(5)"
   ]
  },
  {
   "cell_type": "markdown",
   "metadata": {
    "colab_type": "text",
    "id": "vN69VrZ4iH8s"
   },
   "source": [
    "The top 5 and bottom 5 for both ranking methods agree well. Top 5 have 4 same hotels with a little different ranking order. As for the bottom 5 hotels, 3 of them are in both ranking metrics with the same ranking order. "
   ]
  },
  {
   "cell_type": "markdown",
   "metadata": {
    "colab_type": "text",
    "id": "iKS6YxpgjQ3e"
   },
   "source": [
    "### Q2. Frequency Analysis"
   ]
  },
  {
   "cell_type": "markdown",
   "metadata": {
    "colab_type": "text",
    "id": "3256SQgazjqO"
   },
   "source": [
    "#### (a) term frequency for non-stopwords"
   ]
  },
  {
   "cell_type": "code",
   "execution_count": 0,
   "metadata": {
    "colab": {},
    "colab_type": "code",
    "id": "-lQ0j6R6myVQ"
   },
   "outputs": [],
   "source": [
    "def non_stopword(df, label='all',k=50):\n",
    "  if label=='all':\n",
    "    reviews = df['reviewColumn'].values\n",
    "  else:\n",
    "    reviews = df[df['groundTruth']==label]['reviewColumn'].values\n",
    "  stop = set(stopwords.words('english'))\n",
    "  stop.add('hotel')\n",
    "  stop.add('room')\n",
    "  stop.add('rooms')\n",
    "  stop.add('stay')\n",
    "  stop.add('staff')\n",
    "  stop.add('kingston')\n",
    "  # Top-k frequent terms\n",
    "  counter = Counter()\n",
    "  tokenizer = RegexpTokenizer(r'\\w+')\n",
    "  lemmatizer = WordNetLemmatizer() \n",
    "  stemer=nltk.stem.porter.PorterStemmer()\n",
    "  for review in reviews:\n",
    "      words = [i  for i in tokenizer.tokenize(review.lower()) if i not in stop and len(i)>2]\n",
    "      counter.update(words)\n",
    "  topk = counter.most_common(k)\n",
    "  return topk"
   ]
  },
  {
   "cell_type": "code",
   "execution_count": 0,
   "metadata": {
    "colab": {},
    "colab_type": "code",
    "id": "ZotvNh8dpp3z"
   },
   "outputs": [],
   "source": [
    "top50_pos_word=non_stopword(hotelDf,label='positive')\n",
    "top50_neg_word=non_stopword(hotelDf,label='negative')"
   ]
  },
  {
   "cell_type": "code",
   "execution_count": 17,
   "metadata": {
    "colab": {
     "base_uri": "https://localhost:8080/",
     "height": 108
    },
    "colab_type": "code",
    "id": "aHw_-gbS8ft6",
    "outputId": "7dd27116-7134-409c-aee0-ca157b7c3e98"
   },
   "outputs": [
    {
     "name": "stdout",
     "output_type": "stream",
     "text": [
      "Top50 frequent words in positive reviews:\n",
      "['clean', 'breakfast', 'great', 'good', 'nice', 'comfortable', 'friendly', 'would', 'stayed', 'well', 'place', 'one', 'bed', 'inn', 'night', 'area', 'location', 'downtown', 'helpful', 'nthe', 'time', 'parking', 'coffee', 'also', 'back', 'close', 'like', 'quiet', 'motel', 'recommend', 'beds', 'restaurants', 'front', 'service', 'really', 'bathroom', 'everything', 'right', 'lovely', 'little', 'two', 'get', 'could', 'check', 'definitely', 'next', 'excellent', 'pool', 'desk', 'small']\n",
      "Top50 frequent words in negative reviews:\n",
      "['would', 'breakfast', 'night', 'one', 'clean', 'good', 'bed', 'could', 'place', 'desk', 'nthe', 'stayed', 'like', 'get', 'front', 'bathroom', 'parking', 'location', 'door', 'back', 'time', 'nice', 'inn', 'two', 'also', 'check', 'small', 'told', 'floor', 'well', 'even', 'coffee', 'friendly', 'great', 'motel', 'old', 'first', 'dirty', 'price', 'comfortable', 'booked', 'beds', 'morning', 'day', 'next', 'water', 'really', 'little', 'people', 'service']\n"
     ]
    }
   ],
   "source": [
    "print(\"Top50 frequent words in positive reviews:\")\n",
    "print([word[0] for word in top50_pos_word])\n",
    "print(\"Top50 frequent words in negative reviews:\")\n",
    "print([word[0] for word in top50_neg_word])"
   ]
  },
  {
   "cell_type": "markdown",
   "metadata": {
    "colab_type": "text",
    "id": "5nPSrqArjTjb"
   },
   "source": [
    "Both top50 words in positive and negative reviews contain some same nouns such as breakfast, bed, location, etc.\n",
    "\n",
    "In positive reviews, most adjectives  are positive such as clean, great,comfortable,friendly. Interestingly, some of the frequent adjectives in negative reviews are also positive. It's maybe because these words are negated (e.g.\"not clean\",\"not good\")."
   ]
  },
  {
   "cell_type": "markdown",
   "metadata": {
    "colab_type": "text",
    "id": "5HX3FnC9zm3n"
   },
   "source": [
    "#### (b) term frequency for noun phrases"
   ]
  },
  {
   "cell_type": "code",
   "execution_count": 0,
   "metadata": {
    "colab": {},
    "colab_type": "code",
    "id": "_PwdrK0NzpB5"
   },
   "outputs": [],
   "source": [
    "# Noun Phrase Extraction Support Functions\n",
    "# generator, generate leaves one by one\n",
    "def leaves(tree):\n",
    "    \"\"\"Finds NP (nounphrase) leaf nodes of a chunk tree.\"\"\"\n",
    "    for subtree in tree.subtrees(filter = lambda t: t.label()=='NP' or t.label()=='JJ' or t.label()=='RB'):\n",
    "        yield subtree.leaves()\n",
    "\n",
    "# stemming, lematizing, lower case... \n",
    "def normalise(word):\n",
    "    \"\"\"Normalises words to lowercase and stems and lemmatizes it.\"\"\"\n",
    "    word = word.lower()\n",
    "    word = nltk.stem.porter.PorterStemmer().stem(word)\n",
    "    word = nltk.WordNetLemmatizer().lemmatize(word)\n",
    "    return word\n",
    "# stop-words and length control\n",
    "def acceptable_word(word):\n",
    "    \"\"\"Checks conditions for acceptable word: length, stopword.\"\"\"\n",
    "    accepted = bool(2 <= len(word) <= 40\n",
    "        and word.lower() not in stopwords.words('english'))\n",
    "    return accepted\n",
    "# generator, create item once a time\n",
    "def get_terms(tree):\n",
    "    for leaf in leaves(tree):\n",
    "        term = [normalise(w) for w,t in leaf if acceptable_word(w)]\n",
    "        # Phrase only\n",
    "        if len(term)>1:\n",
    "            yield term\n",
    "# Flatten phrase lists to get tokens for analysis\n",
    "def flatten(npTokenList):\n",
    "    finalList =[]\n",
    "    for phrase in npTokenList:\n",
    "        token = ''\n",
    "        for word in phrase:\n",
    "            token += word + ' '\n",
    "        finalList.append(token.rstrip())\n",
    "    return finalList"
   ]
  },
  {
   "cell_type": "code",
   "execution_count": 0,
   "metadata": {
    "colab": {},
    "colab_type": "code",
    "id": "daWuc1XM3FOZ"
   },
   "outputs": [],
   "source": [
    "def NP_topk(df, label='all',k=50):\n",
    "  if label=='all':  \n",
    "    reviews = df['reviewColumn'].values\n",
    "  else:\n",
    "    reviews = df[df['groundTruth']==label]['reviewColumn'].values\n",
    "  grammar = r\"\"\"\n",
    "    NBAR:\n",
    "        {<NN.*|JJ>*<NN.*>}  # Nouns and Adjectives, terminated with Nouns\n",
    "        \n",
    "    NP:\n",
    "        {<NBAR>}\n",
    "        {<NBAR><IN><NBAR>}  # Above, connected with in/of/etc...\n",
    "    \"\"\"\n",
    "    # Create phrase tree\n",
    "  chunker = nltk.RegexpParser(grammar)\n",
    "  tagger = PerceptronTagger()\n",
    "  pos_tag = tagger.tag\n",
    "  tokenizer = RegexpTokenizer(r'\\w+')\n",
    "  # Top-k frequent terms\n",
    "  counter = Counter()\n",
    "  for review in reviews:\n",
    "          counter.update(flatten([word\n",
    "                          for word \n",
    "                          in get_terms(chunker.parse(pos_tag(tokenizer.tokenize(review)))) \n",
    "                          ]))\n",
    "  topk = counter.most_common(k) \n",
    "  return topk"
   ]
  },
  {
   "cell_type": "code",
   "execution_count": 0,
   "metadata": {
    "colab": {},
    "colab_type": "code",
    "id": "2vYEOug26a_v"
   },
   "outputs": [],
   "source": [
    "top50_pos_NP = NP_topk(hotelDf,label='positive')\n",
    "top50_neg_NP = NP_topk(hotelDf,label='negative')"
   ]
  },
  {
   "cell_type": "code",
   "execution_count": 21,
   "metadata": {
    "colab": {
     "base_uri": "https://localhost:8080/",
     "height": 126
    },
    "colab_type": "code",
    "id": "FXdvRjJT7Fgr",
    "outputId": "1d6482eb-07ad-469f-c9e2-d80b75ea4ecb"
   },
   "outputs": [
    {
     "name": "stdout",
     "output_type": "stream",
     "text": [
      "Top50 frequent noun phrases in positive reviews:\n",
      "['front desk', 'downtown kingston', 'comfort bed', 'great place', 'night stay', 'friendli staff', 'front desk staff', 'kingston area', 'minut drive', 'nthe room', 'great locat', 'good valu', 'next time', 'hot tub', 'clean room', 'secret garden', 'hotel room', 'great stay', 'coffe maker', 'nice touch', 'tim horton', 'free breakfast', 'whitney manor', 'nice place', 'short walk', 'park lot', 'good night', 'first time', 'queen univers', 'comfort inn', 'good locat', 'next door', 'next morn', 'nice hotel', 'queen bed', 'nthe staff', 'short drive', 'continent breakfast', 'minut walk', 'great restaur', 'small fridg', 'lake ontario', 'hochelaga inn', 'easi access', 'comfort room', 'downtown area', 'great valu', 'great view', 'green acr inn', 'great hotel']\n",
      "\n",
      "Top50 frequent noun phrases in negative reviews:\n",
      "['front desk', 'comfort inn', 'credit card', 'park lot', 'holiday inn', 'first night', 'queen bed', 'great locat', 'front desk staff', 'hot tub', 'nthe room', 'continent breakfast', 'air condition', 'next time', 'good thing', 'next morn', 'free breakfast', 'next day', 'bathroom door', 'ground floor', 'night stay', 'mini fridg', 'doubl bed', 'breakfast room', 'hot water', 'hotel staff', 'king room', 'second night', 'tim horton', 'hotel room', 'non smoke room', 'long time', 'second floor', 'custom servic', 'good locat', 'first room', 'toilet paper', 'clean staff', 'nthe bed', 'free wifi', 'pool area', 'mani hotel', 'first time', 'princess street', 'best western', 'next door', 'nice place', 'last time', 'good clean', 'nthe breakfast']\n"
     ]
    }
   ],
   "source": [
    "print(\"Top50 frequent noun phrases in positive reviews:\")\n",
    "print([word[0] for word in top50_pos_NP])\n",
    "print(\"\\nTop50 frequent noun phrases in negative reviews:\")\n",
    "print([word[0] for word in top50_neg_NP])"
   ]
  },
  {
   "cell_type": "markdown",
   "metadata": {
    "colab_type": "text",
    "id": "FcBfPnHAa-s0"
   },
   "source": [
    "Similarly, frequent noun phrase in positive reviews includes most of postive words, like comfort bed, friendli staff, and locate-specific phrase like short walk, great locat, downtown kingston.\n",
    "\n",
    "From the negative reives, some complaints can be concluded since it contains most of facility phrases such as air condition, bathroom door, mini fridg..."
   ]
  },
  {
   "cell_type": "markdown",
   "metadata": {
    "colab_type": "text",
    "id": "z_V1T9m_7at_"
   },
   "source": [
    "### Q3. Mutual Information"
   ]
  },
  {
   "cell_type": "code",
   "execution_count": 0,
   "metadata": {
    "colab": {},
    "colab_type": "code",
    "id": "61YOAtj1D4r6"
   },
   "outputs": [],
   "source": [
    "def comprehensiveDf(df, topK,mode):\n",
    "    reviews = df['reviewColumn'].values\n",
    "    tokenizer = RegexpTokenizer(r'\\w+')\n",
    "    freqReview = []\n",
    "    if mode == 'word':\n",
    "        for review in reviews:\n",
    "            tempCounter = Counter([word.lower() for word in tokenizer.tokenize(review)])\n",
    "            topkinReview = [1 if tempCounter[word] > 0 else 0 for (word,wordCount) in topK]\n",
    "            freqReview.append(topkinReview)\n",
    "    elif mode=='phrase':\n",
    "        grammar = r\"\"\"\n",
    "            NBAR:\n",
    "                {<NN.*|JJ>*<NN.*>}  # Nouns and Adjectives, terminated with Nouns\n",
    "            NP:\n",
    "                {<NBAR>}\n",
    "                {<NBAR><IN><NBAR>}  # Above, connected with in/of/etc...\n",
    "        \"\"\"\n",
    "        chunker = nltk.RegexpParser(grammar)\n",
    "        tagger = PerceptronTagger()\n",
    "        pos_tag = tagger.tag\n",
    "        for review in reviews:\n",
    "            tempCounter = Counter(flatten([word \n",
    "                                           for word \n",
    "                                           in get_terms(chunker.parse(pos_tag(tokenizer.tokenize(review))))]))\n",
    "            topkinReview = [1 if tempCounter[word] > 0 else 0 for (word,wordCount) in topK]\n",
    "            freqReview.append(topkinReview)\n",
    "            \n",
    "    #Find out if a particular review has the word from topk list\n",
    "    for review in reviews:\n",
    "        tempCounter = Counter([word for word in tokenizer.tokenize(review.lower())])\n",
    "        topkinReview = [1 if tempCounter[word] > 0 else 0 for (word,wordCount) in topK]\n",
    "        freqReview.append(topkinReview)\n",
    "\n",
    "    #Prepare freqReviewDf\n",
    "    freqReviewDf = pd.DataFrame(freqReview)\n",
    "    dfName = []\n",
    "\n",
    "    freqReviewDf.columns = [c[0] for c in topK]\n",
    "    finalreviewDf = df.join(freqReviewDf)\n",
    "    return finalreviewDf"
   ]
  },
  {
   "cell_type": "code",
   "execution_count": 0,
   "metadata": {
    "colab": {},
    "colab_type": "code",
    "id": "LIo64j8_DRH_"
   },
   "outputs": [],
   "source": [
    "# get Top K mutual information terms from the dataframe\n",
    "def getMI(topk, df, label_column='groundTruth'):\n",
    "    miScore = []\n",
    "    for word in topk:\n",
    "        miScore.append([word[0]]+[metrics.mutual_info_score(df[label_column], df[word[0]])])\n",
    "    miScoredf = pd.DataFrame(miScore).sort_values(1,ascending=0)\n",
    "    miScoredf.columns = ['Word','MI Score']\n",
    "    return miScoredf"
   ]
  },
  {
   "cell_type": "markdown",
   "metadata": {
    "colab_type": "text",
    "id": "61HhJpTVLgDA"
   },
   "source": [
    "#### (a) Mutual Information(Word)"
   ]
  },
  {
   "cell_type": "code",
   "execution_count": 0,
   "metadata": {
    "colab": {},
    "colab_type": "code",
    "id": "jSOXz2qWEsud"
   },
   "outputs": [],
   "source": [
    "topk_word=non_stopword(hotelDf,label='all')\n",
    "finaldf = comprehensiveDf(hotelDf,topk_word,mode='word')\n",
    "miScoredf = getMI(topk_word, finaldf)"
   ]
  },
  {
   "cell_type": "code",
   "execution_count": 55,
   "metadata": {
    "colab": {
     "base_uri": "https://localhost:8080/",
     "height": 1000
    },
    "colab_type": "code",
    "id": "KQ4XOVTEc4vx",
    "outputId": "c63f3e99-c2a8-4df4-bbd7-98a8353b028b"
   },
   "outputs": [
    {
     "data": {
      "text/html": [
       "<div>\n",
       "<style scoped>\n",
       "    .dataframe tbody tr th:only-of-type {\n",
       "        vertical-align: middle;\n",
       "    }\n",
       "\n",
       "    .dataframe tbody tr th {\n",
       "        vertical-align: top;\n",
       "    }\n",
       "\n",
       "    .dataframe thead th {\n",
       "        text-align: right;\n",
       "    }\n",
       "</style>\n",
       "<table border=\"1\" class=\"dataframe\">\n",
       "  <thead>\n",
       "    <tr style=\"text-align: right;\">\n",
       "      <th></th>\n",
       "      <th>Word</th>\n",
       "      <th>MI Score</th>\n",
       "    </tr>\n",
       "  </thead>\n",
       "  <tbody>\n",
       "    <tr>\n",
       "      <th>4</th>\n",
       "      <td>great</td>\n",
       "      <td>0.022961</td>\n",
       "    </tr>\n",
       "    <tr>\n",
       "      <th>7</th>\n",
       "      <td>comfortable</td>\n",
       "      <td>0.019327</td>\n",
       "    </tr>\n",
       "    <tr>\n",
       "      <th>0</th>\n",
       "      <td>clean</td>\n",
       "      <td>0.015937</td>\n",
       "    </tr>\n",
       "    <tr>\n",
       "      <th>48</th>\n",
       "      <td>door</td>\n",
       "      <td>0.014776</td>\n",
       "    </tr>\n",
       "    <tr>\n",
       "      <th>29</th>\n",
       "      <td>downtown</td>\n",
       "      <td>0.013517</td>\n",
       "    </tr>\n",
       "    <tr>\n",
       "      <th>10</th>\n",
       "      <td>friendly</td>\n",
       "      <td>0.012464</td>\n",
       "    </tr>\n",
       "    <tr>\n",
       "      <th>21</th>\n",
       "      <td>could</td>\n",
       "      <td>0.011975</td>\n",
       "    </tr>\n",
       "    <tr>\n",
       "      <th>32</th>\n",
       "      <td>helpful</td>\n",
       "      <td>0.010858</td>\n",
       "    </tr>\n",
       "    <tr>\n",
       "      <th>47</th>\n",
       "      <td>quiet</td>\n",
       "      <td>0.009458</td>\n",
       "    </tr>\n",
       "    <tr>\n",
       "      <th>9</th>\n",
       "      <td>night</td>\n",
       "      <td>0.009065</td>\n",
       "    </tr>\n",
       "    <tr>\n",
       "      <th>49</th>\n",
       "      <td>restaurants</td>\n",
       "      <td>0.009035</td>\n",
       "    </tr>\n",
       "    <tr>\n",
       "      <th>25</th>\n",
       "      <td>get</td>\n",
       "      <td>0.007871</td>\n",
       "    </tr>\n",
       "    <tr>\n",
       "      <th>6</th>\n",
       "      <td>one</td>\n",
       "      <td>0.007719</td>\n",
       "    </tr>\n",
       "    <tr>\n",
       "      <th>26</th>\n",
       "      <td>desk</td>\n",
       "      <td>0.007608</td>\n",
       "    </tr>\n",
       "    <tr>\n",
       "      <th>5</th>\n",
       "      <td>nice</td>\n",
       "      <td>0.006018</td>\n",
       "    </tr>\n",
       "    <tr>\n",
       "      <th>27</th>\n",
       "      <td>bathroom</td>\n",
       "      <td>0.005254</td>\n",
       "    </tr>\n",
       "    <tr>\n",
       "      <th>19</th>\n",
       "      <td>like</td>\n",
       "      <td>0.005082</td>\n",
       "    </tr>\n",
       "    <tr>\n",
       "      <th>13</th>\n",
       "      <td>well</td>\n",
       "      <td>0.004808</td>\n",
       "    </tr>\n",
       "    <tr>\n",
       "      <th>18</th>\n",
       "      <td>area</td>\n",
       "      <td>0.004603</td>\n",
       "    </tr>\n",
       "    <tr>\n",
       "      <th>46</th>\n",
       "      <td>even</td>\n",
       "      <td>0.004239</td>\n",
       "    </tr>\n",
       "    <tr>\n",
       "      <th>45</th>\n",
       "      <td>recommend</td>\n",
       "      <td>0.003909</td>\n",
       "    </tr>\n",
       "    <tr>\n",
       "      <th>22</th>\n",
       "      <td>front</td>\n",
       "      <td>0.003372</td>\n",
       "    </tr>\n",
       "    <tr>\n",
       "      <th>41</th>\n",
       "      <td>price</td>\n",
       "      <td>0.002514</td>\n",
       "    </tr>\n",
       "    <tr>\n",
       "      <th>2</th>\n",
       "      <td>would</td>\n",
       "      <td>0.002305</td>\n",
       "    </tr>\n",
       "    <tr>\n",
       "      <th>16</th>\n",
       "      <td>nthe</td>\n",
       "      <td>0.002150</td>\n",
       "    </tr>\n",
       "    <tr>\n",
       "      <th>35</th>\n",
       "      <td>small</td>\n",
       "      <td>0.002139</td>\n",
       "    </tr>\n",
       "    <tr>\n",
       "      <th>34</th>\n",
       "      <td>check</td>\n",
       "      <td>0.002068</td>\n",
       "    </tr>\n",
       "    <tr>\n",
       "      <th>1</th>\n",
       "      <td>breakfast</td>\n",
       "      <td>0.001540</td>\n",
       "    </tr>\n",
       "    <tr>\n",
       "      <th>36</th>\n",
       "      <td>close</td>\n",
       "      <td>0.001508</td>\n",
       "    </tr>\n",
       "    <tr>\n",
       "      <th>23</th>\n",
       "      <td>back</td>\n",
       "      <td>0.001165</td>\n",
       "    </tr>\n",
       "    <tr>\n",
       "      <th>31</th>\n",
       "      <td>two</td>\n",
       "      <td>0.000831</td>\n",
       "    </tr>\n",
       "    <tr>\n",
       "      <th>8</th>\n",
       "      <td>stayed</td>\n",
       "      <td>0.000766</td>\n",
       "    </tr>\n",
       "    <tr>\n",
       "      <th>17</th>\n",
       "      <td>parking</td>\n",
       "      <td>0.000749</td>\n",
       "    </tr>\n",
       "    <tr>\n",
       "      <th>44</th>\n",
       "      <td>right</td>\n",
       "      <td>0.000659</td>\n",
       "    </tr>\n",
       "    <tr>\n",
       "      <th>24</th>\n",
       "      <td>also</td>\n",
       "      <td>0.000482</td>\n",
       "    </tr>\n",
       "    <tr>\n",
       "      <th>20</th>\n",
       "      <td>time</td>\n",
       "      <td>0.000444</td>\n",
       "    </tr>\n",
       "    <tr>\n",
       "      <th>40</th>\n",
       "      <td>next</td>\n",
       "      <td>0.000325</td>\n",
       "    </tr>\n",
       "    <tr>\n",
       "      <th>12</th>\n",
       "      <td>bed</td>\n",
       "      <td>0.000261</td>\n",
       "    </tr>\n",
       "    <tr>\n",
       "      <th>3</th>\n",
       "      <td>good</td>\n",
       "      <td>0.000238</td>\n",
       "    </tr>\n",
       "    <tr>\n",
       "      <th>42</th>\n",
       "      <td>day</td>\n",
       "      <td>0.000175</td>\n",
       "    </tr>\n",
       "    <tr>\n",
       "      <th>15</th>\n",
       "      <td>location</td>\n",
       "      <td>0.000112</td>\n",
       "    </tr>\n",
       "    <tr>\n",
       "      <th>39</th>\n",
       "      <td>little</td>\n",
       "      <td>0.000109</td>\n",
       "    </tr>\n",
       "    <tr>\n",
       "      <th>14</th>\n",
       "      <td>inn</td>\n",
       "      <td>0.000105</td>\n",
       "    </tr>\n",
       "    <tr>\n",
       "      <th>37</th>\n",
       "      <td>really</td>\n",
       "      <td>0.000101</td>\n",
       "    </tr>\n",
       "    <tr>\n",
       "      <th>30</th>\n",
       "      <td>motel</td>\n",
       "      <td>0.000083</td>\n",
       "    </tr>\n",
       "    <tr>\n",
       "      <th>11</th>\n",
       "      <td>place</td>\n",
       "      <td>0.000029</td>\n",
       "    </tr>\n",
       "    <tr>\n",
       "      <th>33</th>\n",
       "      <td>beds</td>\n",
       "      <td>0.000017</td>\n",
       "    </tr>\n",
       "    <tr>\n",
       "      <th>43</th>\n",
       "      <td>pool</td>\n",
       "      <td>0.000015</td>\n",
       "    </tr>\n",
       "    <tr>\n",
       "      <th>28</th>\n",
       "      <td>coffee</td>\n",
       "      <td>0.000007</td>\n",
       "    </tr>\n",
       "    <tr>\n",
       "      <th>38</th>\n",
       "      <td>service</td>\n",
       "      <td>0.000003</td>\n",
       "    </tr>\n",
       "  </tbody>\n",
       "</table>\n",
       "</div>"
      ],
      "text/plain": [
       "           Word  MI Score\n",
       "4         great  0.022961\n",
       "7   comfortable  0.019327\n",
       "0         clean  0.015937\n",
       "48         door  0.014776\n",
       "29     downtown  0.013517\n",
       "10     friendly  0.012464\n",
       "21        could  0.011975\n",
       "32      helpful  0.010858\n",
       "47        quiet  0.009458\n",
       "9         night  0.009065\n",
       "49  restaurants  0.009035\n",
       "25          get  0.007871\n",
       "6           one  0.007719\n",
       "26         desk  0.007608\n",
       "5          nice  0.006018\n",
       "27     bathroom  0.005254\n",
       "19         like  0.005082\n",
       "13         well  0.004808\n",
       "18         area  0.004603\n",
       "46         even  0.004239\n",
       "45    recommend  0.003909\n",
       "22        front  0.003372\n",
       "41        price  0.002514\n",
       "2         would  0.002305\n",
       "16         nthe  0.002150\n",
       "35        small  0.002139\n",
       "34        check  0.002068\n",
       "1     breakfast  0.001540\n",
       "36        close  0.001508\n",
       "23         back  0.001165\n",
       "31          two  0.000831\n",
       "8        stayed  0.000766\n",
       "17      parking  0.000749\n",
       "44        right  0.000659\n",
       "24         also  0.000482\n",
       "20         time  0.000444\n",
       "40         next  0.000325\n",
       "12          bed  0.000261\n",
       "3          good  0.000238\n",
       "42          day  0.000175\n",
       "15     location  0.000112\n",
       "39       little  0.000109\n",
       "14          inn  0.000105\n",
       "37       really  0.000101\n",
       "30        motel  0.000083\n",
       "11        place  0.000029\n",
       "33         beds  0.000017\n",
       "43         pool  0.000015\n",
       "28       coffee  0.000007\n",
       "38      service  0.000003"
      ]
     },
     "execution_count": 55,
     "metadata": {
      "tags": []
     },
     "output_type": "execute_result"
    }
   ],
   "source": [
    "miScoredf.head(50)"
   ]
  },
  {
   "cell_type": "markdown",
   "metadata": {
    "colab_type": "text",
    "id": "hDzbyjwHchMS"
   },
   "source": [
    "The list contains both postive and negative reviews, so it is hard to determine the noun is a complaint or a praise. The adjectives are mostly postive."
   ]
  },
  {
   "cell_type": "markdown",
   "metadata": {
    "colab_type": "text",
    "id": "m4K_C2yQHZmU"
   },
   "source": [
    "#### (b) Mutual Information(Noun Phrase)"
   ]
  },
  {
   "cell_type": "code",
   "execution_count": 57,
   "metadata": {
    "colab": {
     "base_uri": "https://localhost:8080/",
     "height": 1000
    },
    "colab_type": "code",
    "id": "POP4L84-Ha-U",
    "outputId": "67bdb52a-44b4-403b-ecd3-dc8690921cbf"
   },
   "outputs": [
    {
     "data": {
      "text/html": [
       "<div>\n",
       "<style scoped>\n",
       "    .dataframe tbody tr th:only-of-type {\n",
       "        vertical-align: middle;\n",
       "    }\n",
       "\n",
       "    .dataframe tbody tr th {\n",
       "        vertical-align: top;\n",
       "    }\n",
       "\n",
       "    .dataframe thead th {\n",
       "        text-align: right;\n",
       "    }\n",
       "</style>\n",
       "<table border=\"1\" class=\"dataframe\">\n",
       "  <thead>\n",
       "    <tr style=\"text-align: right;\">\n",
       "      <th></th>\n",
       "      <th>Word</th>\n",
       "      <th>MI Score</th>\n",
       "    </tr>\n",
       "  </thead>\n",
       "  <tbody>\n",
       "    <tr>\n",
       "      <th>0</th>\n",
       "      <td>front desk</td>\n",
       "      <td>0.007252</td>\n",
       "    </tr>\n",
       "    <tr>\n",
       "      <th>23</th>\n",
       "      <td>credit card</td>\n",
       "      <td>0.005241</td>\n",
       "    </tr>\n",
       "    <tr>\n",
       "      <th>29</th>\n",
       "      <td>first night</td>\n",
       "      <td>0.003853</td>\n",
       "    </tr>\n",
       "    <tr>\n",
       "      <th>17</th>\n",
       "      <td>holiday inn</td>\n",
       "      <td>0.002498</td>\n",
       "    </tr>\n",
       "    <tr>\n",
       "      <th>2</th>\n",
       "      <td>downtown kingston</td>\n",
       "      <td>0.002176</td>\n",
       "    </tr>\n",
       "    <tr>\n",
       "      <th>14</th>\n",
       "      <td>friendli staff</td>\n",
       "      <td>0.002154</td>\n",
       "    </tr>\n",
       "    <tr>\n",
       "      <th>1</th>\n",
       "      <td>comfort inn</td>\n",
       "      <td>0.002137</td>\n",
       "    </tr>\n",
       "    <tr>\n",
       "      <th>6</th>\n",
       "      <td>park lot</td>\n",
       "      <td>0.001988</td>\n",
       "    </tr>\n",
       "    <tr>\n",
       "      <th>38</th>\n",
       "      <td>great stay</td>\n",
       "      <td>0.001982</td>\n",
       "    </tr>\n",
       "    <tr>\n",
       "      <th>11</th>\n",
       "      <td>great place</td>\n",
       "      <td>0.001922</td>\n",
       "    </tr>\n",
       "    <tr>\n",
       "      <th>4</th>\n",
       "      <td>comfort bed</td>\n",
       "      <td>0.001832</td>\n",
       "    </tr>\n",
       "    <tr>\n",
       "      <th>21</th>\n",
       "      <td>kingston area</td>\n",
       "      <td>0.001765</td>\n",
       "    </tr>\n",
       "    <tr>\n",
       "      <th>43</th>\n",
       "      <td>whitney manor</td>\n",
       "      <td>0.001761</td>\n",
       "    </tr>\n",
       "    <tr>\n",
       "      <th>22</th>\n",
       "      <td>minut drive</td>\n",
       "      <td>0.001671</td>\n",
       "    </tr>\n",
       "    <tr>\n",
       "      <th>35</th>\n",
       "      <td>secret garden</td>\n",
       "      <td>0.001543</td>\n",
       "    </tr>\n",
       "    <tr>\n",
       "      <th>41</th>\n",
       "      <td>air condition</td>\n",
       "      <td>0.001542</td>\n",
       "    </tr>\n",
       "    <tr>\n",
       "      <th>46</th>\n",
       "      <td>next day</td>\n",
       "      <td>0.001517</td>\n",
       "    </tr>\n",
       "    <tr>\n",
       "      <th>34</th>\n",
       "      <td>nice touch</td>\n",
       "      <td>0.001431</td>\n",
       "    </tr>\n",
       "    <tr>\n",
       "      <th>48</th>\n",
       "      <td>breakfast room</td>\n",
       "      <td>0.001297</td>\n",
       "    </tr>\n",
       "    <tr>\n",
       "      <th>42</th>\n",
       "      <td>ground floor</td>\n",
       "      <td>0.001157</td>\n",
       "    </tr>\n",
       "    <tr>\n",
       "      <th>45</th>\n",
       "      <td>mini fridg</td>\n",
       "      <td>0.001157</td>\n",
       "    </tr>\n",
       "    <tr>\n",
       "      <th>49</th>\n",
       "      <td>nthe staff</td>\n",
       "      <td>0.000706</td>\n",
       "    </tr>\n",
       "    <tr>\n",
       "      <th>44</th>\n",
       "      <td>hot water</td>\n",
       "      <td>0.000661</td>\n",
       "    </tr>\n",
       "    <tr>\n",
       "      <th>18</th>\n",
       "      <td>continent breakfast</td>\n",
       "      <td>0.000603</td>\n",
       "    </tr>\n",
       "    <tr>\n",
       "      <th>31</th>\n",
       "      <td>short walk</td>\n",
       "      <td>0.000595</td>\n",
       "    </tr>\n",
       "    <tr>\n",
       "      <th>39</th>\n",
       "      <td>hotel staff</td>\n",
       "      <td>0.000459</td>\n",
       "    </tr>\n",
       "    <tr>\n",
       "      <th>20</th>\n",
       "      <td>next morn</td>\n",
       "      <td>0.000435</td>\n",
       "    </tr>\n",
       "    <tr>\n",
       "      <th>28</th>\n",
       "      <td>coffe maker</td>\n",
       "      <td>0.000392</td>\n",
       "    </tr>\n",
       "    <tr>\n",
       "      <th>32</th>\n",
       "      <td>good night</td>\n",
       "      <td>0.000392</td>\n",
       "    </tr>\n",
       "    <tr>\n",
       "      <th>33</th>\n",
       "      <td>queen univers</td>\n",
       "      <td>0.000392</td>\n",
       "    </tr>\n",
       "    <tr>\n",
       "      <th>47</th>\n",
       "      <td>minut walk</td>\n",
       "      <td>0.000336</td>\n",
       "    </tr>\n",
       "    <tr>\n",
       "      <th>15</th>\n",
       "      <td>good valu</td>\n",
       "      <td>0.000308</td>\n",
       "    </tr>\n",
       "    <tr>\n",
       "      <th>12</th>\n",
       "      <td>queen bed</td>\n",
       "      <td>0.000306</td>\n",
       "    </tr>\n",
       "    <tr>\n",
       "      <th>24</th>\n",
       "      <td>clean room</td>\n",
       "      <td>0.000297</td>\n",
       "    </tr>\n",
       "    <tr>\n",
       "      <th>7</th>\n",
       "      <td>great locat</td>\n",
       "      <td>0.000204</td>\n",
       "    </tr>\n",
       "    <tr>\n",
       "      <th>9</th>\n",
       "      <td>hot tub</td>\n",
       "      <td>0.000122</td>\n",
       "    </tr>\n",
       "    <tr>\n",
       "      <th>8</th>\n",
       "      <td>nthe room</td>\n",
       "      <td>0.000115</td>\n",
       "    </tr>\n",
       "    <tr>\n",
       "      <th>13</th>\n",
       "      <td>free breakfast</td>\n",
       "      <td>0.000099</td>\n",
       "    </tr>\n",
       "    <tr>\n",
       "      <th>37</th>\n",
       "      <td>short drive</td>\n",
       "      <td>0.000047</td>\n",
       "    </tr>\n",
       "    <tr>\n",
       "      <th>25</th>\n",
       "      <td>nice place</td>\n",
       "      <td>0.000033</td>\n",
       "    </tr>\n",
       "    <tr>\n",
       "      <th>36</th>\n",
       "      <td>pool area</td>\n",
       "      <td>0.000032</td>\n",
       "    </tr>\n",
       "    <tr>\n",
       "      <th>10</th>\n",
       "      <td>next time</td>\n",
       "      <td>0.000030</td>\n",
       "    </tr>\n",
       "    <tr>\n",
       "      <th>5</th>\n",
       "      <td>night stay</td>\n",
       "      <td>0.000022</td>\n",
       "    </tr>\n",
       "    <tr>\n",
       "      <th>27</th>\n",
       "      <td>first time</td>\n",
       "      <td>0.000018</td>\n",
       "    </tr>\n",
       "    <tr>\n",
       "      <th>26</th>\n",
       "      <td>good locat</td>\n",
       "      <td>0.000016</td>\n",
       "    </tr>\n",
       "    <tr>\n",
       "      <th>3</th>\n",
       "      <td>front desk staff</td>\n",
       "      <td>0.000009</td>\n",
       "    </tr>\n",
       "    <tr>\n",
       "      <th>19</th>\n",
       "      <td>tim horton</td>\n",
       "      <td>0.000006</td>\n",
       "    </tr>\n",
       "    <tr>\n",
       "      <th>40</th>\n",
       "      <td>princess street</td>\n",
       "      <td>0.000004</td>\n",
       "    </tr>\n",
       "    <tr>\n",
       "      <th>30</th>\n",
       "      <td>next door</td>\n",
       "      <td>0.000001</td>\n",
       "    </tr>\n",
       "    <tr>\n",
       "      <th>16</th>\n",
       "      <td>hotel room</td>\n",
       "      <td>0.000001</td>\n",
       "    </tr>\n",
       "  </tbody>\n",
       "</table>\n",
       "</div>"
      ],
      "text/plain": [
       "                   Word  MI Score\n",
       "0            front desk  0.007252\n",
       "23          credit card  0.005241\n",
       "29          first night  0.003853\n",
       "17          holiday inn  0.002498\n",
       "2     downtown kingston  0.002176\n",
       "14       friendli staff  0.002154\n",
       "1           comfort inn  0.002137\n",
       "6              park lot  0.001988\n",
       "38           great stay  0.001982\n",
       "11          great place  0.001922\n",
       "4           comfort bed  0.001832\n",
       "21        kingston area  0.001765\n",
       "43        whitney manor  0.001761\n",
       "22          minut drive  0.001671\n",
       "35        secret garden  0.001543\n",
       "41        air condition  0.001542\n",
       "46             next day  0.001517\n",
       "34           nice touch  0.001431\n",
       "48       breakfast room  0.001297\n",
       "42         ground floor  0.001157\n",
       "45           mini fridg  0.001157\n",
       "49           nthe staff  0.000706\n",
       "44            hot water  0.000661\n",
       "18  continent breakfast  0.000603\n",
       "31           short walk  0.000595\n",
       "39          hotel staff  0.000459\n",
       "20            next morn  0.000435\n",
       "28          coffe maker  0.000392\n",
       "32           good night  0.000392\n",
       "33        queen univers  0.000392\n",
       "47           minut walk  0.000336\n",
       "15            good valu  0.000308\n",
       "12            queen bed  0.000306\n",
       "24           clean room  0.000297\n",
       "7           great locat  0.000204\n",
       "9               hot tub  0.000122\n",
       "8             nthe room  0.000115\n",
       "13       free breakfast  0.000099\n",
       "37          short drive  0.000047\n",
       "25           nice place  0.000033\n",
       "36            pool area  0.000032\n",
       "10            next time  0.000030\n",
       "5            night stay  0.000022\n",
       "27           first time  0.000018\n",
       "26           good locat  0.000016\n",
       "3      front desk staff  0.000009\n",
       "19           tim horton  0.000006\n",
       "40      princess street  0.000004\n",
       "30            next door  0.000001\n",
       "16           hotel room  0.000001"
      ]
     },
     "execution_count": 57,
     "metadata": {
      "tags": []
     },
     "output_type": "execute_result"
    }
   ],
   "source": [
    "topk_np=NP_topk(hotelDf,label='all')\n",
    "finaldf_np = comprehensiveDf(hotelDf,topk_np,mode='phrase')\n",
    "miScoredf_np = getMI(topk_np, finaldf_np)\n",
    "miScoredf_np.head(50)"
   ]
  },
  {
   "cell_type": "markdown",
   "metadata": {
    "colab_type": "text",
    "id": "YvxqF74PeeB7"
   },
   "source": [
    "We can see that no matter the review is positive or negative , most tourists care about the front desk service most."
   ]
  },
  {
   "cell_type": "markdown",
   "metadata": {
    "colab_type": "text",
    "id": "P3pX_CifLqVK"
   },
   "source": [
    "### Q4. Pointwise Mutual Information"
   ]
  },
  {
   "cell_type": "code",
   "execution_count": 0,
   "metadata": {
    "colab": {},
    "colab_type": "code",
    "id": "C1DEvzZnLrrX"
   },
   "outputs": [],
   "source": [
    "def pmiCal(df, x):\n",
    "    pmilist=[]\n",
    "    for i in ['positive','negative']:\n",
    "        for j in [0,1]:\n",
    "            px = (sum(df['groundTruth']==i))/(len(df))\n",
    "            py = (sum(df[x]==j))/(len(df))\n",
    "            pxy = len(df[(df['groundTruth']==i) & (df[x]==j)])/len(df)\n",
    "            if pxy==0: # Log 0 cannot happen\n",
    "                if px*py==0:\n",
    "                    pmi = math.log((pxy+0.0001)/(px*py+0.00001))\n",
    "                else:\n",
    "                    pmi = math.log((pxy+0.0001)/(px*py))\n",
    "            else:\n",
    "                pmi = math.log(pxy/(px*py))\n",
    "            pmilist.append([i]+[j]+[px]+[py]+[pxy]+[pmi])\n",
    "    pmidf = pd.DataFrame(pmilist)\n",
    "    pmidf.columns = ['x','y','px','py','pxy','pmi']\n",
    "    return pmidf\n",
    "\n",
    "def pmiIndivCal(df, x, gt, label_column='groundTruth'):\n",
    "    px = (sum(df[label_column]==gt))/(len(df))\n",
    "    py = (sum(df[x]==1))/(len(df))\n",
    "    pxy = len(df[(df[label_column]==gt) & (df[x]==1)])/len(df)\n",
    "\n",
    "    if pxy==0: #Log 0 cannot happen\n",
    "        if px*py==0:\n",
    "            pmi = math.log((pxy+0.0001)/(px*py+0.00001))\n",
    "        else:\n",
    "            pmi = math.log((pxy+0.0001)/(px*py))\n",
    "    else:\n",
    "        pmi = math.log(pxy/(px*py))\n",
    "    return pmi\n",
    "  \n",
    "# Compute PMI for all terms and all possible labels\n",
    "def pmiForAllCal(df, topk, label_column='groundTruth'):\n",
    "    #Try calculate all the pmi for top k and store them into one pmidf dataframe\n",
    "    pmilist = []\n",
    "    pmiposlist = []\n",
    "    pmineglist = []\n",
    "    for word in tqdm(topk):\n",
    "        pmilist.append([word[0]]+[pmiCal(df,word[0])])\n",
    "        pmiposlist.append([word[0]]+[pmiIndivCal(df,word[0],'positive',label_column)])\n",
    "        pmineglist.append([word[0]]+[pmiIndivCal(df,word[0],'negative',label_column)])\n",
    "    pmidf = pd.DataFrame(pmilist)\n",
    "    pmiposlist = pd.DataFrame(pmiposlist)\n",
    "    pmineglist = pd.DataFrame(pmineglist)\n",
    "    pmiposlist.columns = ['word','pmi']\n",
    "    pmineglist.columns = ['word','pmi']\n",
    "    pmidf.columns = ['word','pmi']\n",
    "    return pmiposlist, pmineglist, pmidf"
   ]
  },
  {
   "cell_type": "markdown",
   "metadata": {
    "colab_type": "text",
    "id": "N3DrPK8CNo-r"
   },
   "source": [
    "#### (a) Pointwise Mutual Information (Word)"
   ]
  },
  {
   "cell_type": "code",
   "execution_count": 162,
   "metadata": {
    "colab": {
     "base_uri": "https://localhost:8080/",
     "height": 35
    },
    "colab_type": "code",
    "id": "n32o5KszMNiI",
    "outputId": "e1522448-3002-4586-d7d8-7dc0eab201d8"
   },
   "outputs": [
    {
     "name": "stderr",
     "output_type": "stream",
     "text": [
      "100%|██████████| 50/50 [00:00<00:00, 60.02it/s]\n"
     ]
    }
   ],
   "source": [
    "pmiposlist, pmineglist, pmidf = pmiForAllCal(finaldf,topk_word)"
   ]
  },
  {
   "cell_type": "code",
   "execution_count": 163,
   "metadata": {
    "colab": {
     "base_uri": "https://localhost:8080/",
     "height": 200
    },
    "colab_type": "code",
    "id": "ADACt6NKNaXa",
    "outputId": "8cd4f022-be58-4608-8bee-7aed97054d3d"
   },
   "outputs": [
    {
     "data": {
      "text/html": [
       "<div>\n",
       "<style scoped>\n",
       "    .dataframe tbody tr th:only-of-type {\n",
       "        vertical-align: middle;\n",
       "    }\n",
       "\n",
       "    .dataframe tbody tr th {\n",
       "        vertical-align: top;\n",
       "    }\n",
       "\n",
       "    .dataframe thead th {\n",
       "        text-align: right;\n",
       "    }\n",
       "</style>\n",
       "<table border=\"1\" class=\"dataframe\">\n",
       "  <thead>\n",
       "    <tr style=\"text-align: right;\">\n",
       "      <th></th>\n",
       "      <th>word</th>\n",
       "      <th>pmi</th>\n",
       "    </tr>\n",
       "  </thead>\n",
       "  <tbody>\n",
       "    <tr>\n",
       "      <th>29</th>\n",
       "      <td>downtown</td>\n",
       "      <td>0.224852</td>\n",
       "    </tr>\n",
       "    <tr>\n",
       "      <th>47</th>\n",
       "      <td>quiet</td>\n",
       "      <td>0.221746</td>\n",
       "    </tr>\n",
       "    <tr>\n",
       "      <th>49</th>\n",
       "      <td>restaurants</td>\n",
       "      <td>0.217873</td>\n",
       "    </tr>\n",
       "    <tr>\n",
       "      <th>32</th>\n",
       "      <td>helpful</td>\n",
       "      <td>0.205863</td>\n",
       "    </tr>\n",
       "    <tr>\n",
       "      <th>4</th>\n",
       "      <td>great</td>\n",
       "      <td>0.202775</td>\n",
       "    </tr>\n",
       "  </tbody>\n",
       "</table>\n",
       "</div>"
      ],
      "text/plain": [
       "           word       pmi\n",
       "29     downtown  0.224852\n",
       "47        quiet  0.221746\n",
       "49  restaurants  0.217873\n",
       "32      helpful  0.205863\n",
       "4         great  0.202775"
      ]
     },
     "execution_count": 163,
     "metadata": {
      "tags": []
     },
     "output_type": "execute_result"
    }
   ],
   "source": [
    "#Sorted top pmi words for positive reviews\n",
    "pmiposlist.sort_values('pmi',ascending=0).head(5)"
   ]
  },
  {
   "cell_type": "code",
   "execution_count": 164,
   "metadata": {
    "colab": {
     "base_uri": "https://localhost:8080/",
     "height": 200
    },
    "colab_type": "code",
    "id": "pB8j9OzXNfW0",
    "outputId": "7a1acc8e-c25d-49ee-b612-a4b6c06b0c6e"
   },
   "outputs": [
    {
     "data": {
      "text/html": [
       "<div>\n",
       "<style scoped>\n",
       "    .dataframe tbody tr th:only-of-type {\n",
       "        vertical-align: middle;\n",
       "    }\n",
       "\n",
       "    .dataframe tbody tr th {\n",
       "        vertical-align: top;\n",
       "    }\n",
       "\n",
       "    .dataframe thead th {\n",
       "        text-align: right;\n",
       "    }\n",
       "</style>\n",
       "<table border=\"1\" class=\"dataframe\">\n",
       "  <thead>\n",
       "    <tr style=\"text-align: right;\">\n",
       "      <th></th>\n",
       "      <th>word</th>\n",
       "      <th>pmi</th>\n",
       "    </tr>\n",
       "  </thead>\n",
       "  <tbody>\n",
       "    <tr>\n",
       "      <th>48</th>\n",
       "      <td>door</td>\n",
       "      <td>0.603965</td>\n",
       "    </tr>\n",
       "    <tr>\n",
       "      <th>21</th>\n",
       "      <td>could</td>\n",
       "      <td>0.440010</td>\n",
       "    </tr>\n",
       "    <tr>\n",
       "      <th>25</th>\n",
       "      <td>get</td>\n",
       "      <td>0.376872</td>\n",
       "    </tr>\n",
       "    <tr>\n",
       "      <th>26</th>\n",
       "      <td>desk</td>\n",
       "      <td>0.373562</td>\n",
       "    </tr>\n",
       "    <tr>\n",
       "      <th>46</th>\n",
       "      <td>even</td>\n",
       "      <td>0.337345</td>\n",
       "    </tr>\n",
       "  </tbody>\n",
       "</table>\n",
       "</div>"
      ],
      "text/plain": [
       "     word       pmi\n",
       "48   door  0.603965\n",
       "21  could  0.440010\n",
       "25    get  0.376872\n",
       "26   desk  0.373562\n",
       "46   even  0.337345"
      ]
     },
     "execution_count": 164,
     "metadata": {
      "tags": []
     },
     "output_type": "execute_result"
    }
   ],
   "source": [
    "#Sorted top pmi words for negative reviews\n",
    "pmineglist.sort_values('pmi',ascending=0).head(5)"
   ]
  },
  {
   "cell_type": "markdown",
   "metadata": {
    "colab_type": "text",
    "id": "GqY2WT2Qf6HY"
   },
   "source": [
    "Top positive rankings tell us the location is very important. Tourists like downtown hotels, and with quiet environment, good restaurants.\n",
    "\n",
    "From top negative rankings we can see that most complaints are \n",
    "about facilities like door."
   ]
  },
  {
   "cell_type": "markdown",
   "metadata": {
    "colab_type": "text",
    "id": "IZM0g5r5NqO7"
   },
   "source": [
    "#### (b) Pointwise Mutual Information (Phrase)"
   ]
  },
  {
   "cell_type": "code",
   "execution_count": 165,
   "metadata": {
    "colab": {
     "base_uri": "https://localhost:8080/",
     "height": 35
    },
    "colab_type": "code",
    "id": "-8MfIDHXNsQF",
    "outputId": "26cb6596-cef1-42c4-ede6-bbaae726dda5"
   },
   "outputs": [
    {
     "name": "stderr",
     "output_type": "stream",
     "text": [
      "100%|██████████| 50/50 [00:00<00:00, 63.95it/s]\n"
     ]
    }
   ],
   "source": [
    "pmiposlist_np, pmineglist_np, pmidf_np = pmiForAllCal(finaldf_np,topk_np)"
   ]
  },
  {
   "cell_type": "code",
   "execution_count": 166,
   "metadata": {
    "colab": {
     "base_uri": "https://localhost:8080/",
     "height": 352
    },
    "colab_type": "code",
    "id": "IYMfHhw1PGnW",
    "outputId": "188ccc43-ef5a-4468-d429-8624ae711b43"
   },
   "outputs": [
    {
     "data": {
      "text/html": [
       "<div>\n",
       "<style scoped>\n",
       "    .dataframe tbody tr th:only-of-type {\n",
       "        vertical-align: middle;\n",
       "    }\n",
       "\n",
       "    .dataframe tbody tr th {\n",
       "        vertical-align: top;\n",
       "    }\n",
       "\n",
       "    .dataframe thead th {\n",
       "        text-align: right;\n",
       "    }\n",
       "</style>\n",
       "<table border=\"1\" class=\"dataframe\">\n",
       "  <thead>\n",
       "    <tr style=\"text-align: right;\">\n",
       "      <th></th>\n",
       "      <th>word</th>\n",
       "      <th>pmi</th>\n",
       "    </tr>\n",
       "  </thead>\n",
       "  <tbody>\n",
       "    <tr>\n",
       "      <th>38</th>\n",
       "      <td>great stay</td>\n",
       "      <td>0.341763</td>\n",
       "    </tr>\n",
       "    <tr>\n",
       "      <th>43</th>\n",
       "      <td>whitney manor</td>\n",
       "      <td>0.338133</td>\n",
       "    </tr>\n",
       "    <tr>\n",
       "      <th>35</th>\n",
       "      <td>secret garden</td>\n",
       "      <td>0.333795</td>\n",
       "    </tr>\n",
       "    <tr>\n",
       "      <th>34</th>\n",
       "      <td>nice touch</td>\n",
       "      <td>0.302542</td>\n",
       "    </tr>\n",
       "    <tr>\n",
       "      <th>14</th>\n",
       "      <td>friendli staff</td>\n",
       "      <td>0.302542</td>\n",
       "    </tr>\n",
       "    <tr>\n",
       "      <th>21</th>\n",
       "      <td>kingston area</td>\n",
       "      <td>0.292973</td>\n",
       "    </tr>\n",
       "    <tr>\n",
       "      <th>22</th>\n",
       "      <td>minut drive</td>\n",
       "      <td>0.290212</td>\n",
       "    </tr>\n",
       "    <tr>\n",
       "      <th>11</th>\n",
       "      <td>great place</td>\n",
       "      <td>0.282502</td>\n",
       "    </tr>\n",
       "    <tr>\n",
       "      <th>2</th>\n",
       "      <td>downtown kingston</td>\n",
       "      <td>0.267072</td>\n",
       "    </tr>\n",
       "    <tr>\n",
       "      <th>4</th>\n",
       "      <td>comfort bed</td>\n",
       "      <td>0.257422</td>\n",
       "    </tr>\n",
       "  </tbody>\n",
       "</table>\n",
       "</div>"
      ],
      "text/plain": [
       "                 word       pmi\n",
       "38         great stay  0.341763\n",
       "43      whitney manor  0.338133\n",
       "35      secret garden  0.333795\n",
       "34         nice touch  0.302542\n",
       "14     friendli staff  0.302542\n",
       "21      kingston area  0.292973\n",
       "22        minut drive  0.290212\n",
       "11        great place  0.282502\n",
       "2   downtown kingston  0.267072\n",
       "4         comfort bed  0.257422"
      ]
     },
     "execution_count": 166,
     "metadata": {
      "tags": []
     },
     "output_type": "execute_result"
    }
   ],
   "source": [
    "pmiposlist_np.sort_values('pmi',ascending=0).head(10)"
   ]
  },
  {
   "cell_type": "code",
   "execution_count": 167,
   "metadata": {
    "colab": {
     "base_uri": "https://localhost:8080/",
     "height": 352
    },
    "colab_type": "code",
    "id": "KGNUllt1PIQI",
    "outputId": "7905a901-a020-4334-b983-d7ba960f7beb"
   },
   "outputs": [
    {
     "data": {
      "text/html": [
       "<div>\n",
       "<style scoped>\n",
       "    .dataframe tbody tr th:only-of-type {\n",
       "        vertical-align: middle;\n",
       "    }\n",
       "\n",
       "    .dataframe tbody tr th {\n",
       "        vertical-align: top;\n",
       "    }\n",
       "\n",
       "    .dataframe thead th {\n",
       "        text-align: right;\n",
       "    }\n",
       "</style>\n",
       "<table border=\"1\" class=\"dataframe\">\n",
       "  <thead>\n",
       "    <tr style=\"text-align: right;\">\n",
       "      <th></th>\n",
       "      <th>word</th>\n",
       "      <th>pmi</th>\n",
       "    </tr>\n",
       "  </thead>\n",
       "  <tbody>\n",
       "    <tr>\n",
       "      <th>23</th>\n",
       "      <td>credit card</td>\n",
       "      <td>1.012474</td>\n",
       "    </tr>\n",
       "    <tr>\n",
       "      <th>29</th>\n",
       "      <td>first night</td>\n",
       "      <td>0.869752</td>\n",
       "    </tr>\n",
       "    <tr>\n",
       "      <th>17</th>\n",
       "      <td>holiday inn</td>\n",
       "      <td>0.724792</td>\n",
       "    </tr>\n",
       "    <tr>\n",
       "      <th>46</th>\n",
       "      <td>next day</td>\n",
       "      <td>0.694020</td>\n",
       "    </tr>\n",
       "    <tr>\n",
       "      <th>41</th>\n",
       "      <td>air condition</td>\n",
       "      <td>0.676002</td>\n",
       "    </tr>\n",
       "    <tr>\n",
       "      <th>48</th>\n",
       "      <td>breakfast room</td>\n",
       "      <td>0.666432</td>\n",
       "    </tr>\n",
       "    <tr>\n",
       "      <th>45</th>\n",
       "      <td>mini fridg</td>\n",
       "      <td>0.607009</td>\n",
       "    </tr>\n",
       "    <tr>\n",
       "      <th>42</th>\n",
       "      <td>ground floor</td>\n",
       "      <td>0.607009</td>\n",
       "    </tr>\n",
       "    <tr>\n",
       "      <th>1</th>\n",
       "      <td>comfort inn</td>\n",
       "      <td>0.591694</td>\n",
       "    </tr>\n",
       "    <tr>\n",
       "      <th>6</th>\n",
       "      <td>park lot</td>\n",
       "      <td>0.570641</td>\n",
       "    </tr>\n",
       "  </tbody>\n",
       "</table>\n",
       "</div>"
      ],
      "text/plain": [
       "              word       pmi\n",
       "23     credit card  1.012474\n",
       "29     first night  0.869752\n",
       "17     holiday inn  0.724792\n",
       "46        next day  0.694020\n",
       "41   air condition  0.676002\n",
       "48  breakfast room  0.666432\n",
       "45      mini fridg  0.607009\n",
       "42    ground floor  0.607009\n",
       "1      comfort inn  0.591694\n",
       "6         park lot  0.570641"
      ]
     },
     "execution_count": 167,
     "metadata": {
      "tags": []
     },
     "output_type": "execute_result"
    }
   ],
   "source": [
    "pmineglist_np.sort_values('pmi',ascending=0).head(10)"
   ]
  },
  {
   "cell_type": "markdown",
   "metadata": {
    "colab_type": "text",
    "id": "LigvogETimBl"
   },
   "source": [
    "Top positive rankings tell us that people like hotels that located in downtown and have friendly staff.\n",
    "\n",
    "The top negative noun phrase is credit card. People may complain about the hotel when they have issue paying with credit card. And hotels with negative reivews often have facility problems(e.g. air condition not working). "
   ]
  },
  {
   "cell_type": "markdown",
   "metadata": {
    "colab_type": "text",
    "id": "x_I16vkQPi-H"
   },
   "source": [
    "#### (c) Repeat this analysis for the single top and single bottom hotel (according to the ground truth rating)."
   ]
  },
  {
   "cell_type": "code",
   "execution_count": 0,
   "metadata": {
    "colab": {},
    "colab_type": "code",
    "id": "lpqgsNErPj50"
   },
   "outputs": [],
   "source": [
    "top_hotel = hotelRatingDfGt['hotelName'][:10].values\n",
    "bot_hotel = hotelRatingDfGt['hotelName'][-5:].values"
   ]
  },
  {
   "cell_type": "code",
   "execution_count": 191,
   "metadata": {
    "colab": {
     "base_uri": "https://localhost:8080/",
     "height": 52
    },
    "colab_type": "code",
    "id": "eOnwwzhQlEY7",
    "outputId": "46efb9b5-7706-4062-c073-7fee1cb931c3"
   },
   "outputs": [
    {
     "name": "stdout",
     "output_type": "stream",
     "text": [
      "top hotel: Best Western Fireside Inn\n",
      "bottom hotel: Bayside Inn &amp; Waterfront Suites\n"
     ]
    }
   ],
   "source": [
    "print('top hotel:',top_hotel[6])\n",
    "print('bottom hotel:', bot_hotel[1])"
   ]
  },
  {
   "cell_type": "code",
   "execution_count": 0,
   "metadata": {
    "colab": {},
    "colab_type": "code",
    "id": "GhfRbe23nWwu"
   },
   "outputs": [],
   "source": [
    "hotel_topdf=hotelDf[hotelDf['hotelName']==top_hotel[6]].reset_index()\n",
    "hotel_botdf=hotelDf[hotelDf['hotelName']==bot_hotel[1]].reset_index()\n",
    "\n",
    "topk_word_top=non_stopword(hotel_topdf,label='all')\n",
    "finaldf_top= comprehensiveDf(hotel_topdf,topk_word_top,mode='word')\n",
    "topk_word_topNP=NP_topk(hotel_topdf,label='all')\n",
    "finaldf_topNP= comprehensiveDf(hotel_topdf,topk_word_topNP,mode='phrase')\n",
    "\n",
    "topk_word_bot=non_stopword(hotel_botdf,label='all')\n",
    "finaldf_bot= comprehensiveDf(hotel_botdf,topk_word_bot,mode='word')\n",
    "topk_word_botNP=NP_topk(hotel_botdf,label='all')\n",
    "finaldf_botNP= comprehensiveDf(hotel_botdf,topk_word_botNP,mode='phrase')"
   ]
  },
  {
   "cell_type": "code",
   "execution_count": 192,
   "metadata": {
    "colab": {
     "base_uri": "https://localhost:8080/",
     "height": 88
    },
    "colab_type": "code",
    "id": "S6zLAXcuQoLw",
    "outputId": "aa40696f-b7a9-428d-bf6d-a06dfb09d8f6"
   },
   "outputs": [
    {
     "name": "stderr",
     "output_type": "stream",
     "text": [
      "100%|██████████| 50/50 [00:00<00:00, 96.33it/s]\n",
      "100%|██████████| 50/50 [00:00<00:00, 97.86it/s]\n",
      "100%|██████████| 50/50 [00:00<00:00, 96.27it/s]\n",
      "100%|██████████| 50/50 [00:00<00:00, 92.62it/s]\n"
     ]
    }
   ],
   "source": [
    "pmiposlist_top, pmineglist_top, pmidf_top = pmiForAllCal(finaldf_top,topk_word_top)\n",
    "pmiposlist_bot, pmineglist_bot, pmidf_bot = pmiForAllCal(finaldf_bot,topk_word_bot)\n",
    "\n",
    "pmiposlist_topPhrase, pmineglist_topPhrase, pmidf_topPhrase = pmiForAllCal(finaldf_topNP,topk_word_topNP)\n",
    "pmiposlist_botPhrase, pmineglist_botPhrase, pmidf_botPhrase = pmiForAllCal(finaldf_botNP,topk_word_botNP)"
   ]
  },
  {
   "cell_type": "code",
   "execution_count": 193,
   "metadata": {
    "colab": {
     "base_uri": "https://localhost:8080/",
     "height": 200
    },
    "colab_type": "code",
    "id": "YskWcrNyZlRl",
    "outputId": "4a0686fd-7bd6-44ae-f7f2-6e9944cfdf82"
   },
   "outputs": [
    {
     "data": {
      "text/html": [
       "<div>\n",
       "<style scoped>\n",
       "    .dataframe tbody tr th:only-of-type {\n",
       "        vertical-align: middle;\n",
       "    }\n",
       "\n",
       "    .dataframe tbody tr th {\n",
       "        vertical-align: top;\n",
       "    }\n",
       "\n",
       "    .dataframe thead th {\n",
       "        text-align: right;\n",
       "    }\n",
       "</style>\n",
       "<table border=\"1\" class=\"dataframe\">\n",
       "  <thead>\n",
       "    <tr style=\"text-align: right;\">\n",
       "      <th></th>\n",
       "      <th>word</th>\n",
       "      <th>pmi</th>\n",
       "    </tr>\n",
       "  </thead>\n",
       "  <tbody>\n",
       "    <tr>\n",
       "      <th>0</th>\n",
       "      <td>best western firesid inn</td>\n",
       "      <td>0.072571</td>\n",
       "    </tr>\n",
       "    <tr>\n",
       "      <th>22</th>\n",
       "      <td>fire place</td>\n",
       "      <td>0.072571</td>\n",
       "    </tr>\n",
       "    <tr>\n",
       "      <th>24</th>\n",
       "      <td>stuf anim</td>\n",
       "      <td>0.072571</td>\n",
       "    </tr>\n",
       "    <tr>\n",
       "      <th>26</th>\n",
       "      <td>night stay</td>\n",
       "      <td>0.072571</td>\n",
       "    </tr>\n",
       "    <tr>\n",
       "      <th>27</th>\n",
       "      <td>stori hotel</td>\n",
       "      <td>0.072571</td>\n",
       "    </tr>\n",
       "  </tbody>\n",
       "</table>\n",
       "</div>"
      ],
      "text/plain": [
       "                        word       pmi\n",
       "0   best western firesid inn  0.072571\n",
       "22                fire place  0.072571\n",
       "24                 stuf anim  0.072571\n",
       "26                night stay  0.072571\n",
       "27               stori hotel  0.072571"
      ]
     },
     "execution_count": 193,
     "metadata": {
      "tags": []
     },
     "output_type": "execute_result"
    }
   ],
   "source": [
    "pmiposlist_topPhrase.sort_values('pmi',ascending=0).head(5)"
   ]
  },
  {
   "cell_type": "code",
   "execution_count": 194,
   "metadata": {
    "colab": {
     "base_uri": "https://localhost:8080/",
     "height": 200
    },
    "colab_type": "code",
    "id": "U6yTPIa3sb9x",
    "outputId": "b6d1967d-63fe-4c97-fd36-82bc942280eb"
   },
   "outputs": [
    {
     "data": {
      "text/html": [
       "<div>\n",
       "<style scoped>\n",
       "    .dataframe tbody tr th:only-of-type {\n",
       "        vertical-align: middle;\n",
       "    }\n",
       "\n",
       "    .dataframe tbody tr th {\n",
       "        vertical-align: top;\n",
       "    }\n",
       "\n",
       "    .dataframe thead th {\n",
       "        text-align: right;\n",
       "    }\n",
       "</style>\n",
       "<table border=\"1\" class=\"dataframe\">\n",
       "  <thead>\n",
       "    <tr style=\"text-align: right;\">\n",
       "      <th></th>\n",
       "      <th>word</th>\n",
       "      <th>pmi</th>\n",
       "    </tr>\n",
       "  </thead>\n",
       "  <tbody>\n",
       "    <tr>\n",
       "      <th>29</th>\n",
       "      <td>unpleas experi femal worker</td>\n",
       "      <td>2.659260</td>\n",
       "    </tr>\n",
       "    <tr>\n",
       "      <th>44</th>\n",
       "      <td>nice experi</td>\n",
       "      <td>2.659260</td>\n",
       "    </tr>\n",
       "    <tr>\n",
       "      <th>5</th>\n",
       "      <td>breakfast room</td>\n",
       "      <td>2.253795</td>\n",
       "    </tr>\n",
       "    <tr>\n",
       "      <th>33</th>\n",
       "      <td>great breakfast</td>\n",
       "      <td>1.966113</td>\n",
       "    </tr>\n",
       "    <tr>\n",
       "      <th>34</th>\n",
       "      <td>hotel staff</td>\n",
       "      <td>1.966113</td>\n",
       "    </tr>\n",
       "  </tbody>\n",
       "</table>\n",
       "</div>"
      ],
      "text/plain": [
       "                           word       pmi\n",
       "29  unpleas experi femal worker  2.659260\n",
       "44                  nice experi  2.659260\n",
       "5                breakfast room  2.253795\n",
       "33              great breakfast  1.966113\n",
       "34                  hotel staff  1.966113"
      ]
     },
     "execution_count": 194,
     "metadata": {
      "tags": []
     },
     "output_type": "execute_result"
    }
   ],
   "source": [
    "pmineglist_topPhrase.sort_values('pmi',ascending=0).head(5)"
   ]
  },
  {
   "cell_type": "code",
   "execution_count": 195,
   "metadata": {
    "colab": {
     "base_uri": "https://localhost:8080/",
     "height": 200
    },
    "colab_type": "code",
    "id": "0ufaG3etZy1P",
    "outputId": "d840b542-ba2d-419b-94d8-b2b3bf269f0f"
   },
   "outputs": [
    {
     "data": {
      "text/html": [
       "<div>\n",
       "<style scoped>\n",
       "    .dataframe tbody tr th:only-of-type {\n",
       "        vertical-align: middle;\n",
       "    }\n",
       "\n",
       "    .dataframe tbody tr th {\n",
       "        vertical-align: top;\n",
       "    }\n",
       "\n",
       "    .dataframe thead th {\n",
       "        text-align: right;\n",
       "    }\n",
       "</style>\n",
       "<table border=\"1\" class=\"dataframe\">\n",
       "  <thead>\n",
       "    <tr style=\"text-align: right;\">\n",
       "      <th></th>\n",
       "      <th>word</th>\n",
       "      <th>pmi</th>\n",
       "    </tr>\n",
       "  </thead>\n",
       "  <tbody>\n",
       "    <tr>\n",
       "      <th>41</th>\n",
       "      <td>conveni locat</td>\n",
       "      <td>1.014731</td>\n",
       "    </tr>\n",
       "    <tr>\n",
       "      <th>20</th>\n",
       "      <td>good stay</td>\n",
       "      <td>1.014731</td>\n",
       "    </tr>\n",
       "    <tr>\n",
       "      <th>18</th>\n",
       "      <td>standard room</td>\n",
       "      <td>1.014731</td>\n",
       "    </tr>\n",
       "    <tr>\n",
       "      <th>21</th>\n",
       "      <td>nice ladi</td>\n",
       "      <td>1.014731</td>\n",
       "    </tr>\n",
       "    <tr>\n",
       "      <th>16</th>\n",
       "      <td>friendli staff</td>\n",
       "      <td>1.014731</td>\n",
       "    </tr>\n",
       "  </tbody>\n",
       "</table>\n",
       "</div>"
      ],
      "text/plain": [
       "              word       pmi\n",
       "41   conveni locat  1.014731\n",
       "20       good stay  1.014731\n",
       "18   standard room  1.014731\n",
       "21       nice ladi  1.014731\n",
       "16  friendli staff  1.014731"
      ]
     },
     "execution_count": 195,
     "metadata": {
      "tags": []
     },
     "output_type": "execute_result"
    }
   ],
   "source": [
    "pmiposlist_botPhrase.sort_values('pmi',ascending=0).head(5)"
   ]
  },
  {
   "cell_type": "code",
   "execution_count": 196,
   "metadata": {
    "colab": {
     "base_uri": "https://localhost:8080/",
     "height": 200
    },
    "colab_type": "code",
    "id": "t-EPrVKpmjNk",
    "outputId": "0a21621c-31ff-4017-901c-ef1e7e20045f"
   },
   "outputs": [
    {
     "data": {
      "text/html": [
       "<div>\n",
       "<style scoped>\n",
       "    .dataframe tbody tr th:only-of-type {\n",
       "        vertical-align: middle;\n",
       "    }\n",
       "\n",
       "    .dataframe tbody tr th {\n",
       "        vertical-align: top;\n",
       "    }\n",
       "\n",
       "    .dataframe thead th {\n",
       "        text-align: right;\n",
       "    }\n",
       "</style>\n",
       "<table border=\"1\" class=\"dataframe\">\n",
       "  <thead>\n",
       "    <tr style=\"text-align: right;\">\n",
       "      <th></th>\n",
       "      <th>word</th>\n",
       "      <th>pmi</th>\n",
       "    </tr>\n",
       "  </thead>\n",
       "  <tbody>\n",
       "    <tr>\n",
       "      <th>0</th>\n",
       "      <td>doubl bed</td>\n",
       "      <td>0.450201</td>\n",
       "    </tr>\n",
       "    <tr>\n",
       "      <th>24</th>\n",
       "      <td>mani hotel</td>\n",
       "      <td>0.450201</td>\n",
       "    </tr>\n",
       "    <tr>\n",
       "      <th>48</th>\n",
       "      <td>guy cur</td>\n",
       "      <td>0.450201</td>\n",
       "    </tr>\n",
       "    <tr>\n",
       "      <th>40</th>\n",
       "      <td>extra child</td>\n",
       "      <td>0.450201</td>\n",
       "    </tr>\n",
       "    <tr>\n",
       "      <th>39</th>\n",
       "      <td>previou guest</td>\n",
       "      <td>0.450201</td>\n",
       "    </tr>\n",
       "  </tbody>\n",
       "</table>\n",
       "</div>"
      ],
      "text/plain": [
       "             word       pmi\n",
       "0       doubl bed  0.450201\n",
       "24     mani hotel  0.450201\n",
       "48        guy cur  0.450201\n",
       "40    extra child  0.450201\n",
       "39  previou guest  0.450201"
      ]
     },
     "execution_count": 196,
     "metadata": {
      "tags": []
     },
     "output_type": "execute_result"
    }
   ],
   "source": [
    "pmineglist_botPhrase.sort_values('pmi',ascending=0).head(5)"
   ]
  },
  {
   "cell_type": "markdown",
   "metadata": {
    "colab_type": "text",
    "id": "QMSZ8sXE8Es1"
   },
   "source": [
    "From reviews of the top hotel Best Western Fireside Inn, we can see that people like its fire place and complain about the unpleasant hotel workers. \n",
    "\n",
    "For the bottom hotel Bayside Inn & Waterfront Suites, people like its convenient location and friendly staff but complain about its facility like double bed, and maybe the bed is not tidy after previous guest leaving. "
   ]
  },
  {
   "cell_type": "markdown",
   "metadata": {
    "colab_type": "text",
    "id": "xBpT_8_iBp81"
   },
   "source": [
    "### Q5. General Plots"
   ]
  },
  {
   "cell_type": "markdown",
   "metadata": {
    "colab_type": "text",
    "id": "ga3JOsD0Bu8u"
   },
   "source": [
    "#### (a) Histogram"
   ]
  },
  {
   "cell_type": "code",
   "execution_count": 0,
   "metadata": {
    "colab": {},
    "colab_type": "code",
    "id": "rMJHYKZuBt69"
   },
   "outputs": [],
   "source": [
    "def getHistogram(compdf, measure, title):\n",
    "    if measure=='both':\n",
    "        x = [compdf['ratingScore'].values/5]\n",
    "        y = [compdf['vader'].values]\n",
    "        bins = np.linspace(-1, 1, 100)\n",
    "        plt.title(title)\n",
    "        plt.hist(x, bins, label='x')\n",
    "        plt.hist(y, bins, label='y')\n",
    "        plt.legend(loc='upper right')\n",
    "        plt.show()\n",
    "    \n",
    "    else:\n",
    "        plt.hist(compdf[measure].values)\n",
    "        plt.title(title)\n",
    "        plt.xlabel(\"Value\")\n",
    "        plt.ylabel(\"Frequency\")\n",
    "        fig = plt.gcf()"
   ]
  },
  {
   "cell_type": "markdown",
   "metadata": {
    "colab_type": "text",
    "id": "hTf0inlZSjcY"
   },
   "source": [
    "##### (a) Show separate histograms of ground truth and Vader sentiment scores (ignore hotel ID)."
   ]
  },
  {
   "cell_type": "code",
   "execution_count": 40,
   "metadata": {
    "colab": {
     "base_uri": "https://localhost:8080/",
     "height": 295
    },
    "colab_type": "code",
    "id": "Nns9TsAFBrV1",
    "outputId": "21de359d-f2a8-4c1a-c3f2-55d4320b8f66"
   },
   "outputs": [
    {
     "data": {
      "image/png": "[encoded data removed]",
      "text/plain": [
       "<Figure size 432x288 with 1 Axes>"
      ]
     },
     "metadata": {
      "tags": []
     },
     "output_type": "display_data"
    }
   ],
   "source": [
    "# (a) Show separate histograms of ground truth and Vader sentiment scores (ignore hotel ID).\n",
    "getHistogram(hotelDf,'ratingScore', 'Histogram of Ground Truth')"
   ]
  },
  {
   "cell_type": "code",
   "execution_count": 41,
   "metadata": {
    "colab": {
     "base_uri": "https://localhost:8080/",
     "height": 295
    },
    "colab_type": "code",
    "id": "VsFD622vDPGa",
    "outputId": "4e195228-e037-4ea3-c5c7-52a2f1de6c15"
   },
   "outputs": [
    {
     "data": {
      "image/png": "[encoded data removed]",
      "text/plain": [
       "<Figure size 432x288 with 1 Axes>"
      ]
     },
     "metadata": {
      "tags": []
     },
     "output_type": "display_data"
    }
   ],
   "source": [
    "getHistogram(hotelDf, 'vader', 'Histogram of Vadar Sentiment Score')"
   ]
  },
  {
   "cell_type": "markdown",
   "metadata": {
    "colab_type": "text",
    "id": "YIKlwpI1v_UM"
   },
   "source": [
    "Both hisograms have more reviews on positive ratings. People are more likely to write a review about the hotel when they like this hotel."
   ]
  },
  {
   "cell_type": "markdown",
   "metadata": {
    "colab_type": "text",
    "id": "3LFZAUYCDyfh"
   },
   "source": [
    "##### (b) Show a histogram of the number of reviews per hotel"
   ]
  },
  {
   "cell_type": "code",
   "execution_count": 42,
   "metadata": {
    "colab": {
     "base_uri": "https://localhost:8080/",
     "height": 644
    },
    "colab_type": "code",
    "id": "IFM1dZj5PI5T",
    "outputId": "4651d925-72eb-4e69-c867-3d61a6c17e47"
   },
   "outputs": [
    {
     "data": {
      "text/plain": [
       "Text(0.5, 1.0, 'Distribution of the Reviews over All Hotels')"
      ]
     },
     "execution_count": 42,
     "metadata": {
      "tags": []
     },
     "output_type": "execute_result"
    },
    {
     "data": {
      "image/png": "[encoded data removed]",
      "text/plain": [
       "<Figure size 1440x288 with 1 Axes>"
      ]
     },
     "metadata": {
      "tags": []
     },
     "output_type": "display_data"
    }
   ],
   "source": [
    "review_hotel=hotelDf.groupby(['hotelName', 'groundTruth']).size().unstack('groundTruth').fillna(0)\n",
    "review_hotel.plot(kind='bar', stacked=True,figsize=(20,4))\n",
    "\n",
    "plt.ylabel('# of Reviews')\n",
    "plt.title('Distribution of the Reviews over All Hotels')"
   ]
  },
  {
   "cell_type": "markdown",
   "metadata": {
    "colab_type": "text",
    "id": "MFoISN1gxMEI"
   },
   "source": [
    "Most hotels that have more than 60 reviews have more positive reviews than negative reviews."
   ]
  },
  {
   "cell_type": "markdown",
   "metadata": {
    "colab_type": "text",
    "id": "XTodfT34SfYR"
   },
   "source": [
    "#### (b) Boxplots"
   ]
  },
  {
   "cell_type": "markdown",
   "metadata": {
    "colab_type": "text",
    "id": "drFYL45tW-p4"
   },
   "source": [
    "##### (a) 5 side-by-side boxplots for top-5 hotels"
   ]
  },
  {
   "cell_type": "code",
   "execution_count": 0,
   "metadata": {
    "colab": {},
    "colab_type": "code",
    "id": "7vAZ_e9HySJ5"
   },
   "outputs": [],
   "source": [
    "# review_num=hotelDf.groupby(['hotelName'])['vader'].count().rename('count').reset_index()\n",
    "# review_num.sort_values('count',ascending=0)"
   ]
  },
  {
   "cell_type": "code",
   "execution_count": 159,
   "metadata": {
    "colab": {
     "base_uri": "https://localhost:8080/",
     "height": 88
    },
    "colab_type": "code",
    "id": "AzXH42RzStbv",
    "outputId": "d4596388-2097-48cb-8e35-740f66fcb300"
   },
   "outputs": [
    {
     "data": {
      "text/plain": [
       "array(['Green Woods Inn', 'A Cherry Place Bed and Breakfast',\n",
       "       'All Suites Whitney Manor',\n",
       "       'Secret Garden Bed &amp; Breakfast Inn', 'Green Acres Inn'],\n",
       "      dtype=object)"
      ]
     },
     "execution_count": 159,
     "metadata": {
      "tags": []
     },
     "output_type": "execute_result"
    }
   ],
   "source": [
    "tp5gthotel = hotelRatingDfGt['hotelName'][:5].values\n",
    "tp5gthotel"
   ]
  },
  {
   "cell_type": "code",
   "execution_count": 44,
   "metadata": {
    "colab": {
     "base_uri": "https://localhost:8080/",
     "height": 265
    },
    "colab_type": "code",
    "id": "r2nJkPzQSmF-",
    "outputId": "4b262e82-b0a1-41d5-c6ee-8c1a862488c6"
   },
   "outputs": [
    {
     "data": {
      "image/png": "[encoded data removed]",
      "text/plain": [
       "<Figure size 432x288 with 1 Axes>"
      ]
     },
     "metadata": {
      "tags": []
     },
     "output_type": "display_data"
    }
   ],
   "source": [
    "#Plot top 5 side-by-side boxplot for top 5 ground truth rated hotel\n",
    "\n",
    "\n",
    "greeenwood = hotelDf.loc[hotelDf['hotelName'] == tp5gthotel[0]]['ratingScore']\n",
    "cherryplace = hotelDf.loc[hotelDf['hotelName'] == tp5gthotel[1]]['ratingScore']\n",
    "whitneymanor = hotelDf.loc[hotelDf['hotelName'] == tp5gthotel[2]]['ratingScore']\n",
    "secretgarden = hotelDf.loc[hotelDf['hotelName'] == tp5gthotel[3]]['ratingScore']\n",
    "greenacres = hotelDf.loc[hotelDf['hotelName'] == tp5gthotel[4]]['ratingScore']\n",
    "\n",
    "data = [greeenwood, cherryplace, whitneymanor, secretgarden, greenacres]\n",
    "# multiple box plots on one figure\n",
    "plt.figure()\n",
    "plt.boxplot(data)\n",
    "plt.show()"
   ]
  },
  {
   "cell_type": "code",
   "execution_count": 45,
   "metadata": {
    "colab": {
     "base_uri": "https://localhost:8080/",
     "height": 70
    },
    "colab_type": "code",
    "id": "Xgth5RpuVdgf",
    "outputId": "d6732354-58ea-4e18-f51c-324d502c76f1"
   },
   "outputs": [
    {
     "data": {
      "text/plain": [
       "array(['A Cherry Place Bed and Breakfast', 'Green Woods Inn',\n",
       "       'Secret Garden Bed &amp; Breakfast Inn', 'Green Acres Inn',\n",
       "       'The Rosemount Inn'], dtype=object)"
      ]
     },
     "execution_count": 45,
     "metadata": {
      "tags": []
     },
     "output_type": "execute_result"
    }
   ],
   "source": [
    "tp5gthotel_vd = hotelRatingDfVd['hotelName'][:5].values\n",
    "tp5gthotel_vd"
   ]
  },
  {
   "cell_type": "code",
   "execution_count": 46,
   "metadata": {
    "colab": {
     "base_uri": "https://localhost:8080/",
     "height": 281
    },
    "colab_type": "code",
    "id": "F5z-G1o5U-ZY",
    "outputId": "ee013e0c-c6ad-4c6c-ca4c-dc9066149137"
   },
   "outputs": [
    {
     "data": {
      "image/png": "[encoded data removed]",
      "text/plain": [
       "<Figure size 432x288 with 1 Axes>"
      ]
     },
     "metadata": {
      "tags": []
     },
     "output_type": "display_data"
    }
   ],
   "source": [
    "#Plot top 5 side-by-side boxplot for top 5 ground truth rated hotel\n",
    "\n",
    "\n",
    "cherryplace = hotelDf.loc[hotelDf['hotelName'] == tp5gthotel_vd[0]]['vader']\n",
    "greeenwood = hotelDf.loc[hotelDf['hotelName'] == tp5gthotel_vd[1]]['vader']\n",
    "secretgarden = hotelDf.loc[hotelDf['hotelName'] == tp5gthotel_vd[2]]['vader']\n",
    "greenacres = hotelDf.loc[hotelDf['hotelName'] == tp5gthotel_vd[3]]['vader']\n",
    "rosemount = hotelDf.loc[hotelDf['hotelName'] == tp5gthotel_vd[4]]['vader']\n",
    "\n",
    "data = [ cherryplace,greeenwood,  secretgarden, greenacres,rosemount ]\n",
    "# multiple box plots on one figure\n",
    "plt.figure()\n",
    "plt.title('boxplot of top-5 vader hotels ')\n",
    "plt.ylabel('vader score')\n",
    "plt.boxplot(data)\n",
    "plt.show()"
   ]
  },
  {
   "cell_type": "markdown",
   "metadata": {
    "colab_type": "text",
    "id": "WiXzkMMFXIT3"
   },
   "source": [
    "##### (b) Report the mean and variance of the ground truth and Vader sentiment scores for the top-5 ranked hotels according to star rating."
   ]
  },
  {
   "cell_type": "code",
   "execution_count": 47,
   "metadata": {
    "colab": {
     "base_uri": "https://localhost:8080/",
     "height": 230
    },
    "colab_type": "code",
    "id": "9HHEWXdvXY4Y",
    "outputId": "6d0ea548-f17f-475a-93c3-d25c979a14f6"
   },
   "outputs": [
    {
     "data": {
      "text/html": [
       "<div>\n",
       "<style scoped>\n",
       "    .dataframe tbody tr th:only-of-type {\n",
       "        vertical-align: middle;\n",
       "    }\n",
       "\n",
       "    .dataframe tbody tr th {\n",
       "        vertical-align: top;\n",
       "    }\n",
       "\n",
       "    .dataframe thead th {\n",
       "        text-align: right;\n",
       "    }\n",
       "</style>\n",
       "<table border=\"1\" class=\"dataframe\">\n",
       "  <thead>\n",
       "    <tr style=\"text-align: right;\">\n",
       "      <th></th>\n",
       "      <th>ratingScore</th>\n",
       "      <th>vader</th>\n",
       "    </tr>\n",
       "    <tr>\n",
       "      <th>hotelName</th>\n",
       "      <th></th>\n",
       "      <th></th>\n",
       "    </tr>\n",
       "  </thead>\n",
       "  <tbody>\n",
       "    <tr>\n",
       "      <th>Green Woods Inn</th>\n",
       "      <td>4.962963</td>\n",
       "      <td>0.959917</td>\n",
       "    </tr>\n",
       "    <tr>\n",
       "      <th>A Cherry Place Bed and Breakfast</th>\n",
       "      <td>4.950000</td>\n",
       "      <td>0.960145</td>\n",
       "    </tr>\n",
       "    <tr>\n",
       "      <th>All Suites Whitney Manor</th>\n",
       "      <td>4.858824</td>\n",
       "      <td>0.881452</td>\n",
       "    </tr>\n",
       "    <tr>\n",
       "      <th>Secret Garden Bed &amp;amp; Breakfast Inn</th>\n",
       "      <td>4.762500</td>\n",
       "      <td>0.954265</td>\n",
       "    </tr>\n",
       "    <tr>\n",
       "      <th>Green Acres Inn</th>\n",
       "      <td>4.620000</td>\n",
       "      <td>0.926452</td>\n",
       "    </tr>\n",
       "  </tbody>\n",
       "</table>\n",
       "</div>"
      ],
      "text/plain": [
       "                                       ratingScore     vader\n",
       "hotelName                                                   \n",
       "Green Woods Inn                           4.962963  0.959917\n",
       "A Cherry Place Bed and Breakfast          4.950000  0.960145\n",
       "All Suites Whitney Manor                  4.858824  0.881452\n",
       "Secret Garden Bed &amp; Breakfast Inn     4.762500  0.954265\n",
       "Green Acres Inn                           4.620000  0.926452"
      ]
     },
     "execution_count": 47,
     "metadata": {
      "tags": []
     },
     "output_type": "execute_result"
    }
   ],
   "source": [
    "# (b) The mean and variance of the ground truth for the top-5 ranked hotels according to star rating.\n",
    "hotelReview_top5DF = hotelDf[hotelDf['hotelName'].isin(tp5gthotel.tolist())]\n",
    "hotelReview_top5DF.groupby('hotelName').mean()[['ratingScore','vader']].sort_values('ratingScore',ascending=0)"
   ]
  },
  {
   "cell_type": "code",
   "execution_count": 48,
   "metadata": {
    "colab": {
     "base_uri": "https://localhost:8080/",
     "height": 230
    },
    "colab_type": "code",
    "id": "dIST9UX0ckel",
    "outputId": "8946e653-45ef-4524-af0c-bb6d9de5dd0d"
   },
   "outputs": [
    {
     "data": {
      "text/html": [
       "<div>\n",
       "<style scoped>\n",
       "    .dataframe tbody tr th:only-of-type {\n",
       "        vertical-align: middle;\n",
       "    }\n",
       "\n",
       "    .dataframe tbody tr th {\n",
       "        vertical-align: top;\n",
       "    }\n",
       "\n",
       "    .dataframe thead th {\n",
       "        text-align: right;\n",
       "    }\n",
       "</style>\n",
       "<table border=\"1\" class=\"dataframe\">\n",
       "  <thead>\n",
       "    <tr style=\"text-align: right;\">\n",
       "      <th></th>\n",
       "      <th>ratingScore</th>\n",
       "      <th>vader</th>\n",
       "    </tr>\n",
       "    <tr>\n",
       "      <th>hotelName</th>\n",
       "      <th></th>\n",
       "      <th></th>\n",
       "    </tr>\n",
       "  </thead>\n",
       "  <tbody>\n",
       "    <tr>\n",
       "      <th>Green Woods Inn</th>\n",
       "      <td>0.190626</td>\n",
       "      <td>0.092512</td>\n",
       "    </tr>\n",
       "    <tr>\n",
       "      <th>A Cherry Place Bed and Breakfast</th>\n",
       "      <td>0.223607</td>\n",
       "      <td>0.029599</td>\n",
       "    </tr>\n",
       "    <tr>\n",
       "      <th>All Suites Whitney Manor</th>\n",
       "      <td>0.382751</td>\n",
       "      <td>0.166969</td>\n",
       "    </tr>\n",
       "    <tr>\n",
       "      <th>Secret Garden Bed &amp;amp; Breakfast Inn</th>\n",
       "      <td>0.556748</td>\n",
       "      <td>0.099864</td>\n",
       "    </tr>\n",
       "    <tr>\n",
       "      <th>Green Acres Inn</th>\n",
       "      <td>0.647918</td>\n",
       "      <td>0.107320</td>\n",
       "    </tr>\n",
       "  </tbody>\n",
       "</table>\n",
       "</div>"
      ],
      "text/plain": [
       "                                       ratingScore     vader\n",
       "hotelName                                                   \n",
       "Green Woods Inn                           0.190626  0.092512\n",
       "A Cherry Place Bed and Breakfast          0.223607  0.029599\n",
       "All Suites Whitney Manor                  0.382751  0.166969\n",
       "Secret Garden Bed &amp; Breakfast Inn     0.556748  0.099864\n",
       "Green Acres Inn                           0.647918  0.107320"
      ]
     },
     "execution_count": 48,
     "metadata": {
      "tags": []
     },
     "output_type": "execute_result"
    }
   ],
   "source": [
    "hotelReview_top5DF.groupby('hotelName').std()[['ratingScore','vader']].sort_values('ratingScore',ascending=1)"
   ]
  },
  {
   "cell_type": "markdown",
   "metadata": {
    "colab_type": "text",
    "id": "TR2-Uq_Kx29M"
   },
   "source": [
    "##### (c) "
   ]
  },
  {
   "cell_type": "markdown",
   "metadata": {
    "colab_type": "text",
    "id": "fp43_yhXx6UI"
   },
   "source": [
    "Boxplot makes more sense since it excludes the outliers while variance consider outlier. Outliers may have large effect to the mean since the sample is small."
   ]
  },
  {
   "cell_type": "markdown",
   "metadata": {
    "colab_type": "text",
    "id": "35BYbobaB1FJ"
   },
   "source": [
    "#### (c) Scatterplots and heatmaps"
   ]
  },
  {
   "cell_type": "markdown",
   "metadata": {
    "colab_type": "text",
    "id": "P5ZJOXKFlg0n"
   },
   "source": [
    "##### (a) Show the scatterplot of ground truth score (star rating) versus Vader sentiment score."
   ]
  },
  {
   "cell_type": "code",
   "execution_count": 49,
   "metadata": {
    "colab": {
     "base_uri": "https://localhost:8080/",
     "height": 297
    },
    "colab_type": "code",
    "id": "WKhH50LbB1Zf",
    "outputId": "6030cb71-d278-4f8f-8ae7-96badb5c53c9"
   },
   "outputs": [
    {
     "data": {
      "text/plain": [
       "Text(0.5, 0, 'Vader Score')"
      ]
     },
     "execution_count": 49,
     "metadata": {
      "tags": []
     },
     "output_type": "execute_result"
    },
    {
     "data": {
      "image/png": "[encoded data removed]",
      "text/plain": [
       "<Figure size 432x288 with 1 Axes>"
      ]
     },
     "metadata": {
      "tags": []
     },
     "output_type": "display_data"
    }
   ],
   "source": [
    "# (a) Show the scatterplot of ground truth score (star rating) versus Vader sentiment score.\n",
    "y = hotelDf['ratingScore'].values\n",
    "x = hotelDf['vader'].values\n",
    "plt.plot(x, y,\"o\")\n",
    "plt.ylabel('Rating')\n",
    "plt.xlabel('Vader Score')"
   ]
  },
  {
   "cell_type": "code",
   "execution_count": 50,
   "metadata": {
    "colab": {
     "base_uri": "https://localhost:8080/",
     "height": 518
    },
    "colab_type": "code",
    "id": "TBGHtrlClOZP",
    "outputId": "f3dccfca-7f82-4594-a73d-7d18de03df34"
   },
   "outputs": [
    {
     "data": {
      "text/plain": [
       "Text(0, 0.5, 'Rating')"
      ]
     },
     "execution_count": 50,
     "metadata": {
      "tags": []
     },
     "output_type": "execute_result"
    },
    {
     "data": {
      "image/png": "[encoded data removed]",
      "text/plain": [
       "<Figure size 432x576 with 2 Axes>"
      ]
     },
     "metadata": {
      "tags": []
     },
     "output_type": "display_data"
    }
   ],
   "source": [
    "# Show the heatmap of ground truth score (star rating) versus Vader sentiment score.\n",
    "\n",
    "from scipy.stats.kde import gaussian_kde\n",
    "\n",
    "k = gaussian_kde(np.vstack([x, y]))\n",
    "xi, yi = np.mgrid[x.min():x.max():x.size**0.5*1j,y.min():y.max():y.size**0.5*1j]\n",
    "zi = k(np.vstack([xi.flatten(), yi.flatten()]))\n",
    "\n",
    "cmap = sns.cubehelix_palette(light=1, as_cmap=True)\n",
    "fig = plt.figure(figsize=(6,8))\n",
    "ax1 = fig.add_subplot(211)\n",
    "ax2 = fig.add_subplot(212)\n",
    "\n",
    "ax1.pcolormesh(xi, yi, np.log10(zi.reshape(xi.shape)), cmap=cmap)\n",
    "ax2.contourf(xi, yi, np.log10(zi.reshape(xi.shape)), cmap=cmap)\n",
    "\n",
    "ax1.set_xlim(x.min(), x.max())\n",
    "ax1.set_ylim(y.min(), y.max())\n",
    "ax2.set_xlim(x.min(), x.max())\n",
    "ax2.set_ylim(y.min(), y.max())\n",
    "\n",
    "ax1.set_xlabel('Vader Score')\n",
    "ax1.set_ylabel('Rating')\n",
    "\n",
    "ax2.set_xlabel('Vader Score')\n",
    "ax2.set_ylabel('Rating')"
   ]
  },
  {
   "cell_type": "markdown",
   "metadata": {
    "colab_type": "text",
    "id": "_2T8r-Yb0T9Z"
   },
   "source": [
    "High rating(4-5) most likely corresponds to postive comment(the drak area on the top right). And we can see that with rating lower than 3.5, half of the comments are not nice while others are comparatively acceptable.\n"
   ]
  },
  {
   "cell_type": "markdown",
   "metadata": {
    "colab_type": "text",
    "id": "7-pmETbflkrM"
   },
   "source": [
    "##### (b) Show scatterplots of the length of reviews versus each of ground truth score and Vader sentiment score."
   ]
  },
  {
   "cell_type": "code",
   "execution_count": 0,
   "metadata": {
    "colab": {},
    "colab_type": "code",
    "id": "IFoDoa5llm_s"
   },
   "outputs": [],
   "source": [
    "hotelDf['reviewLength'] = hotelDf['reviewColumn'].apply(lambda x:len(x.split()))"
   ]
  },
  {
   "cell_type": "code",
   "execution_count": 160,
   "metadata": {
    "colab": {
     "base_uri": "https://localhost:8080/",
     "height": 406
    },
    "colab_type": "code",
    "id": "aBvvFXyamONd",
    "outputId": "2e71894c-4ee7-4ed4-f628-b28e307955e9"
   },
   "outputs": [
    {
     "data": {
      "text/plain": [
       "Text(0.5, 0, 'Review Length')"
      ]
     },
     "execution_count": 160,
     "metadata": {
      "tags": []
     },
     "output_type": "execute_result"
    },
    {
     "data": {
      "image/png": "[encoded data removed]",
      "text/plain": [
       "<Figure size 1080x432 with 2 Axes>"
      ]
     },
     "metadata": {
      "tags": []
     },
     "output_type": "display_data"
    }
   ],
   "source": [
    "y = hotelDf['reviewLength'].values\n",
    "x1 = hotelDf['ratingScore'].values\n",
    "x2 = hotelDf['vader'].values\n",
    "\n",
    "fig = plt.figure(figsize=(15,6))\n",
    "ax1 = fig.add_subplot(121)\n",
    "ax2 = fig.add_subplot(122)\n",
    "\n",
    "ax1.plot( y,x1,\"o\")\n",
    "ax2.plot( y,x2,\"o\")\n",
    "\n",
    "ax1.set_ylabel('Rating Score')\n",
    "ax1.set_xlabel('Review Length')\n",
    "\n",
    "ax2.set_ylabel('vader Score')\n",
    "ax2.set_xlabel('Review Length')"
   ]
  },
  {
   "cell_type": "code",
   "execution_count": 53,
   "metadata": {
    "colab": {
     "base_uri": "https://localhost:8080/",
     "height": 518
    },
    "colab_type": "code",
    "id": "z4bDf5yCngzF",
    "outputId": "d41d7a98-48e8-4200-c6d3-00c2fe1c7776"
   },
   "outputs": [
    {
     "data": {
      "text/plain": [
       "Text(0, 0.5, 'Vader Score')"
      ]
     },
     "execution_count": 53,
     "metadata": {
      "tags": []
     },
     "output_type": "execute_result"
    },
    {
     "data": {
      "image/png": "[encoded data removed]",
      "text/plain": [
       "<Figure size 1080x576 with 4 Axes>"
      ]
     },
     "metadata": {
      "tags": []
     },
     "output_type": "display_data"
    }
   ],
   "source": [
    "x = hotelDf['reviewLength'].values\n",
    "y_vr = hotelDf['vader'].values\n",
    "y=hotelDf['ratingScore'].values\n",
    "\n",
    "kv = gaussian_kde(np.vstack([x, y_vr]))\n",
    "xiv, yiv = np.mgrid[x.min():x.max():x.size**0.5*1j,y_vr.min():y_vr.max():y_vr.size**0.5*1j]\n",
    "ziv = kv(np.vstack([xiv.flatten(), yiv.flatten()]))\n",
    "\n",
    "k = gaussian_kde(np.vstack([x, y]))\n",
    "xi, yi = np.mgrid[x.min():x.max():x.size**0.5*1j,y.min():y.max():y.size**0.5*1j]\n",
    "zi = k(np.vstack([xi.flatten(), yi.flatten()]))\n",
    "cmap = sns.cubehelix_palette(light=1, as_cmap=True)\n",
    "fig = plt.figure(figsize=(15,8))\n",
    "ax1 = fig.add_subplot(221)\n",
    "ax2 = fig.add_subplot(222)\n",
    "ax3 = fig.add_subplot(223)\n",
    "ax4 = fig.add_subplot(224)\n",
    "\n",
    "ax1.pcolormesh(xi, yi, np.log10(zi.reshape(xi.shape)), cmap=cmap)\n",
    "ax2.contourf(xi, yi, np.log10(zi.reshape(xi.shape)), cmap=cmap)\n",
    "\n",
    "ax3.pcolormesh(xiv, yiv, np.log10(ziv.reshape(xiv.shape)), cmap=cmap)\n",
    "ax4.contourf(xiv, yiv, np.log10(ziv.reshape(xiv.shape)), cmap=cmap)\n",
    "\n",
    "ax1.set_xlim(x.min(), x.max())\n",
    "ax1.set_ylim(y.min(), y.max())\n",
    "ax2.set_xlim(x.min(), x.max())\n",
    "ax2.set_ylim(y.min(), y.max())\n",
    "ax3.set_xlim(x.min(), x.max())\n",
    "ax3.set_ylim(y_vr.min(), y_vr.max())\n",
    "ax4.set_xlim(x.min(), x.max())\n",
    "ax4.set_ylim(y_vr.min(), y_vr.max())\n",
    "\n",
    "ax1.set_xlabel('Review Length')\n",
    "ax1.set_ylabel('Rating Score')\n",
    "\n",
    "ax2.set_xlabel('Review Length')\n",
    "ax2.set_ylabel('Rating Score')\n",
    "\n",
    "ax3.set_xlabel('Review Length')\n",
    "ax3.set_ylabel('Vader Score')\n",
    "\n",
    "ax4.set_xlabel('Review Length')\n",
    "ax4.set_ylabel('Vader Score')"
   ]
  },
  {
   "cell_type": "markdown",
   "metadata": {
    "colab_type": "text",
    "id": "AnXzo7Lh0owU"
   },
   "source": [
    "The scatter and heatmaps indicate that most positive and negative reviews are tend to have short review length. Some extremely negative reviews have very long review length.\n",
    " "
   ]
  },
  {
   "cell_type": "markdown",
   "metadata": {
    "colab_type": "text",
    "id": "QA8AxoXhqvj9"
   },
   "source": [
    "##### (c) Show two scatterplots of the number of reviews per hotel versus each of average ground truth score and average Vader sentiment score."
   ]
  },
  {
   "cell_type": "code",
   "execution_count": 54,
   "metadata": {
    "colab": {
     "base_uri": "https://localhost:8080/",
     "height": 449
    },
    "colab_type": "code",
    "id": "X9hTS4Blnmpg",
    "outputId": "2cc8d665-58b6-4ddf-f683-8941b64d7a74"
   },
   "outputs": [
    {
     "data": {
      "text/plain": [
       "Text(0.5, 0, '# of Reviews')"
      ]
     },
     "execution_count": 54,
     "metadata": {
      "tags": []
     },
     "output_type": "execute_result"
    },
    {
     "data": {
      "image/png": "[encoded data removed]",
      "text/plain": [
       "<Figure size 1080x432 with 2 Axes>"
      ]
     },
     "metadata": {
      "tags": []
     },
     "output_type": "display_data"
    }
   ],
   "source": [
    "review_count = hotelDf.groupby('hotelName').size().tolist()\n",
    "\n",
    "x = np.array(review_count)\n",
    "y = hotelRatingDfGt.sort_values('hotelName',ascending=1)['avgRatingScore'].values\n",
    "y_v = hotelRatingDfVd.sort_values('hotelName',ascending=1)['avgRatingScore'].values\n",
    "\n",
    "\n",
    "fig = plt.figure(figsize=(15,6))\n",
    "plt.suptitle('Scatter Plots of Number of Reviews vs Rating (left) vs Vader Score (right)', fontweight='bold')\n",
    "\n",
    "ax1 = fig.add_subplot(121)\n",
    "ax2 = fig.add_subplot(122)\n",
    "\n",
    "ax1.plot(x, y,\"o\")\n",
    "ax1.set_ylabel('Average Star Rating Value')\n",
    "ax1.set_xlabel('# of Reviews')\n",
    "\n",
    "ax2.plot(x, y_v,\"o\")\n",
    "ax2.set_ylabel('Average Vader Value')\n",
    "ax2.set_xlabel('# of Reviews')"
   ]
  },
  {
   "cell_type": "markdown",
   "metadata": {
    "colab_type": "text",
    "id": "tnbFJc7e17kM"
   },
   "source": [
    "It's hardly to see any trends from these two images. Some of the hotels with most reviews have positive reviews, others have negative reviews."
   ]
  }
 ],
 "metadata": {
  "accelerator": "GPU",
  "colab": {
   "collapsed_sections": [],
   "name": "ds_assignment.ipynb",
   "provenance": [],
   "toc_visible": true
  },
  "kernelspec": {
   "display_name": "Python 3",
   "language": "python",
   "name": "python3"
  },
  "language_info": {
   "codemirror_mode": {
    "name": "ipython",
    "version": 3
   },
   "file_extension": ".py",
   "mimetype": "text/x-python",
   "name": "python",
   "nbconvert_exporter": "python",
   "pygments_lexer": "ipython3",
   "version": "3.6.5"
  }
 },
 "nbformat": 4,
 "nbformat_minor": 1
}
