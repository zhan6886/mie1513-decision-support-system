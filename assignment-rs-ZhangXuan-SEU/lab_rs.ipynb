{
  "nbformat": 4,
  "nbformat_minor": 0,
  "metadata": {
    "anaconda-cloud": {},
    "kernelspec": {
      "display_name": "Python 3",
      "language": "python",
      "name": "python3"
    },
    "language_info": {
      "codemirror_mode": {
        "name": "ipython",
        "version": 2
      },
      "file_extension": ".py",
      "mimetype": "text/x-python",
      "name": "python",
      "nbconvert_exporter": "python",
      "pygments_lexer": "ipython2",
      "version": "2.7.12"
    },
    "widgets": {
      "state": {},
      "version": "1.1.2"
    },
    "colab": {
      "name": "lab-rs.ipynb",
      "provenance": [],
      "collapsed_sections": []
    }
  },
  "cells": [
    {
      "cell_type": "markdown",
      "metadata": {
        "collapsed": true,
        "id": "3zkUQsPyuBHt",
        "colab_type": "text"
      },
      "source": [
        "# Recommender for MovieLens"
      ]
    },
    {
      "cell_type": "markdown",
      "metadata": {
        "id": "q516dLQGuBHw",
        "colab_type": "text"
      },
      "source": [
        "### Getting MovieLens data"
      ]
    },
    {
      "cell_type": "markdown",
      "metadata": {
        "id": "VbCSqIyZuBHx",
        "colab_type": "text"
      },
      "source": [
        "* Download the movielens 100k dataset from this link: [ml-100k.zip](http://files.grouplens.org/datasets/movielens/ml-100k.zip)\n",
        "\n",
        "* Upload ml-100k.zip\n",
        "\n",
        "* Extract using the following cell:"
      ]
    },
    {
      "cell_type": "code",
      "metadata": {
        "id": "n5CFVCz8uBHy",
        "colab_type": "code",
        "colab": {
          "base_uri": "https://localhost:8080/",
          "height": 170
        },
        "outputId": "b9396519-5bdf-4758-992a-52bd5c59c546"
      },
      "source": [
        "!pip install wget"
      ],
      "execution_count": 1,
      "outputs": [
        {
          "output_type": "stream",
          "text": [
            "Collecting wget\n",
            "  Downloading https://files.pythonhosted.org/packages/47/6a/62e288da7bcda82b935ff0c6cfe542970f04e29c756b0e147251b2fb251f/wget-3.2.zip\n",
            "Building wheels for collected packages: wget\n",
            "  Building wheel for wget (setup.py) ... \u001b[?25l\u001b[?25hdone\n",
            "  Created wheel for wget: filename=wget-3.2-cp36-none-any.whl size=9681 sha256=4f57684f2de0b381cc11a6474c011767f706f0e351e650290155ae45e5ba9322\n",
            "  Stored in directory: /root/.cache/pip/wheels/40/15/30/7d8f7cea2902b4db79e3fea550d7d7b85ecb27ef992b618f3f\n",
            "Successfully built wget\n",
            "Installing collected packages: wget\n",
            "Successfully installed wget-3.2\n"
          ],
          "name": "stdout"
        }
      ]
    },
    {
      "cell_type": "code",
      "metadata": {
        "id": "GrkuW0qOuBH3",
        "colab_type": "code",
        "colab": {}
      },
      "source": [
        "# import required libraries\n",
        "import numpy as np\n",
        "import pandas as pd\n",
        "from sklearn.metrics.pairwise import pairwise_distances\n",
        "from heapq import nlargest\n",
        "from sklearn.metrics import mean_squared_error\n",
        "from math import sqrt\n",
        "import os.path\n",
        "import wget"
      ],
      "execution_count": 0,
      "outputs": []
    },
    {
      "cell_type": "code",
      "metadata": {
        "id": "kEW5ifakuBH5",
        "colab_type": "code",
        "colab": {
          "base_uri": "https://localhost:8080/",
          "height": 442
        },
        "outputId": "fbe0202b-4d5f-40ac-9050-2bc255ac022d"
      },
      "source": [
        "# define constant for movie lends 100K directory\n",
        "wget.download(\"https://github.com/MIE451-1513-2019/course-datasets/raw/master/ml-100k.zip\")\n",
        "!unzip ml-100k.zip\n",
        "MOVIELENS_DIR = \"ml-100k/\""
      ],
      "execution_count": 3,
      "outputs": [
        {
          "output_type": "stream",
          "text": [
            "Archive:  ml-100k.zip\n",
            "   creating: ml-100k/\n",
            "  inflating: ml-100k/allbut.pl       \n",
            "  inflating: ml-100k/mku.sh          \n",
            "  inflating: ml-100k/README          \n",
            "  inflating: ml-100k/u.data          \n",
            "  inflating: ml-100k/u.genre         \n",
            "  inflating: ml-100k/u.info          \n",
            "  inflating: ml-100k/u.item          \n",
            "  inflating: ml-100k/u.occupation    \n",
            "  inflating: ml-100k/u.user          \n",
            "  inflating: ml-100k/u1.base         \n",
            "  inflating: ml-100k/u1.test         \n",
            "  inflating: ml-100k/u2.base         \n",
            "  inflating: ml-100k/u2.test         \n",
            "  inflating: ml-100k/u3.base         \n",
            "  inflating: ml-100k/u3.test         \n",
            "  inflating: ml-100k/u4.base         \n",
            "  inflating: ml-100k/u4.test         \n",
            "  inflating: ml-100k/u5.base         \n",
            "  inflating: ml-100k/u5.test         \n",
            "  inflating: ml-100k/ua.base         \n",
            "  inflating: ml-100k/ua.test         \n",
            "  inflating: ml-100k/ub.base         \n",
            "  inflating: ml-100k/ub.test         \n"
          ],
          "name": "stdout"
        }
      ]
    },
    {
      "cell_type": "markdown",
      "metadata": {
        "id": "3l_Vf8uUuBH2",
        "colab_type": "text"
      },
      "source": [
        "### Building the recommender"
      ]
    },
    {
      "cell_type": "markdown",
      "metadata": {
        "id": "7N3AEcebuBH8",
        "colab_type": "text"
      },
      "source": [
        "## Loading the data"
      ]
    },
    {
      "cell_type": "markdown",
      "metadata": {
        "id": "vISe4HIcuBH8",
        "colab_type": "text"
      },
      "source": [
        "First, we inspect the directory content"
      ]
    },
    {
      "cell_type": "code",
      "metadata": {
        "id": "XtVavVn_uBH9",
        "colab_type": "code",
        "colab": {
          "base_uri": "https://localhost:8080/",
          "height": 68
        },
        "outputId": "5522dbe3-21ca-491a-9d45-5964e4df5591"
      },
      "source": [
        "!ls $MOVIELENS_DIR"
      ],
      "execution_count": 4,
      "outputs": [
        {
          "output_type": "stream",
          "text": [
            "allbut.pl  u1.base  u2.test  u4.base  u5.test  ub.base\tu.genre  u.occupation\n",
            "mku.sh\t   u1.test  u3.base  u4.test  ua.base  ub.test\tu.info\t u.user\n",
            "README\t   u2.base  u3.test  u5.base  ua.test  u.data\tu.item\n"
          ],
          "name": "stdout"
        }
      ]
    },
    {
      "cell_type": "markdown",
      "metadata": {
        "id": "kCTgOrhjuBIB",
        "colab_type": "text"
      },
      "source": [
        "We then load the full MovieLens 100K dataset to find the number of users and items"
      ]
    },
    {
      "cell_type": "code",
      "metadata": {
        "id": "LiIQ73vXuBIC",
        "colab_type": "code",
        "colab": {
          "base_uri": "https://localhost:8080/",
          "height": 204
        },
        "outputId": "0de87267-943f-4a10-b093-5956731fcc8d"
      },
      "source": [
        "fields = ['userID', 'itemID', 'rating', 'timestamp']\n",
        "ratingDF = pd.read_csv(os.path.join(MOVIELENS_DIR, 'u.data'), sep='\\t', names=fields)\n",
        "\n",
        "ratingDF.head()"
      ],
      "execution_count": 5,
      "outputs": [
        {
          "output_type": "execute_result",
          "data": {
            "text/html": [
              "<div>\n",
              "<style scoped>\n",
              "    .dataframe tbody tr th:only-of-type {\n",
              "        vertical-align: middle;\n",
              "    }\n",
              "\n",
              "    .dataframe tbody tr th {\n",
              "        vertical-align: top;\n",
              "    }\n",
              "\n",
              "    .dataframe thead th {\n",
              "        text-align: right;\n",
              "    }\n",
              "</style>\n",
              "<table border=\"1\" class=\"dataframe\">\n",
              "  <thead>\n",
              "    <tr style=\"text-align: right;\">\n",
              "      <th></th>\n",
              "      <th>userID</th>\n",
              "      <th>itemID</th>\n",
              "      <th>rating</th>\n",
              "      <th>timestamp</th>\n",
              "    </tr>\n",
              "  </thead>\n",
              "  <tbody>\n",
              "    <tr>\n",
              "      <th>0</th>\n",
              "      <td>196</td>\n",
              "      <td>242</td>\n",
              "      <td>3</td>\n",
              "      <td>881250949</td>\n",
              "    </tr>\n",
              "    <tr>\n",
              "      <th>1</th>\n",
              "      <td>186</td>\n",
              "      <td>302</td>\n",
              "      <td>3</td>\n",
              "      <td>891717742</td>\n",
              "    </tr>\n",
              "    <tr>\n",
              "      <th>2</th>\n",
              "      <td>22</td>\n",
              "      <td>377</td>\n",
              "      <td>1</td>\n",
              "      <td>878887116</td>\n",
              "    </tr>\n",
              "    <tr>\n",
              "      <th>3</th>\n",
              "      <td>244</td>\n",
              "      <td>51</td>\n",
              "      <td>2</td>\n",
              "      <td>880606923</td>\n",
              "    </tr>\n",
              "    <tr>\n",
              "      <th>4</th>\n",
              "      <td>166</td>\n",
              "      <td>346</td>\n",
              "      <td>1</td>\n",
              "      <td>886397596</td>\n",
              "    </tr>\n",
              "  </tbody>\n",
              "</table>\n",
              "</div>"
            ],
            "text/plain": [
              "   userID  itemID  rating  timestamp\n",
              "0     196     242       3  881250949\n",
              "1     186     302       3  891717742\n",
              "2      22     377       1  878887116\n",
              "3     244      51       2  880606923\n",
              "4     166     346       1  886397596"
            ]
          },
          "metadata": {
            "tags": []
          },
          "execution_count": 5
        }
      ]
    },
    {
      "cell_type": "code",
      "metadata": {
        "id": "CFyewh_7uBIE",
        "colab_type": "code",
        "colab": {
          "base_uri": "https://localhost:8080/",
          "height": 51
        },
        "outputId": "bc11e278-c811-450e-b665-7c9816bf4e86"
      },
      "source": [
        "numUsers = len(ratingDF.userID.unique())\n",
        "numItems = len(ratingDF.itemID.unique())\n",
        "\n",
        "print(\"Number of users:\", numUsers)\n",
        "print(\"Number of items:\", numItems)"
      ],
      "execution_count": 6,
      "outputs": [
        {
          "output_type": "stream",
          "text": [
            "Number of users: 943\n",
            "Number of items: 1682\n"
          ],
          "name": "stdout"
        }
      ]
    },
    {
      "cell_type": "code",
      "metadata": {
        "id": "cAKUrdNNuBIH",
        "colab_type": "code",
        "colab": {
          "base_uri": "https://localhost:8080/",
          "height": 343
        },
        "outputId": "6bc537e3-db5b-4ed2-80e8-ce1229aa2956"
      },
      "source": [
        "fieldsMovies = ['movieID', 'movieTitle', 'releaseDate', 'videoReleaseDate', 'IMDbURL', 'unknown', 'action', 'adventure',\n",
        "          'animation', 'childrens', 'comedy', 'crime', 'documentary', 'drama', 'fantasy', 'filmNoir', 'horror',\n",
        "          'musical', 'mystery', 'romance','sciFi', 'thriller', 'war', 'western']\n",
        "moviesDF = pd.read_csv(os.path.join(MOVIELENS_DIR, 'u.item'), sep='|', names=fieldsMovies, encoding='latin-1')\n",
        "\n",
        "moviesDF.head()"
      ],
      "execution_count": 7,
      "outputs": [
        {
          "output_type": "execute_result",
          "data": {
            "text/html": [
              "<div>\n",
              "<style scoped>\n",
              "    .dataframe tbody tr th:only-of-type {\n",
              "        vertical-align: middle;\n",
              "    }\n",
              "\n",
              "    .dataframe tbody tr th {\n",
              "        vertical-align: top;\n",
              "    }\n",
              "\n",
              "    .dataframe thead th {\n",
              "        text-align: right;\n",
              "    }\n",
              "</style>\n",
              "<table border=\"1\" class=\"dataframe\">\n",
              "  <thead>\n",
              "    <tr style=\"text-align: right;\">\n",
              "      <th></th>\n",
              "      <th>movieID</th>\n",
              "      <th>movieTitle</th>\n",
              "      <th>releaseDate</th>\n",
              "      <th>videoReleaseDate</th>\n",
              "      <th>IMDbURL</th>\n",
              "      <th>unknown</th>\n",
              "      <th>action</th>\n",
              "      <th>adventure</th>\n",
              "      <th>animation</th>\n",
              "      <th>childrens</th>\n",
              "      <th>comedy</th>\n",
              "      <th>crime</th>\n",
              "      <th>documentary</th>\n",
              "      <th>drama</th>\n",
              "      <th>fantasy</th>\n",
              "      <th>filmNoir</th>\n",
              "      <th>horror</th>\n",
              "      <th>musical</th>\n",
              "      <th>mystery</th>\n",
              "      <th>romance</th>\n",
              "      <th>sciFi</th>\n",
              "      <th>thriller</th>\n",
              "      <th>war</th>\n",
              "      <th>western</th>\n",
              "    </tr>\n",
              "  </thead>\n",
              "  <tbody>\n",
              "    <tr>\n",
              "      <th>0</th>\n",
              "      <td>1</td>\n",
              "      <td>Toy Story (1995)</td>\n",
              "      <td>01-Jan-1995</td>\n",
              "      <td>NaN</td>\n",
              "      <td>http://us.imdb.com/M/title-exact?Toy%20Story%2...</td>\n",
              "      <td>0</td>\n",
              "      <td>0</td>\n",
              "      <td>0</td>\n",
              "      <td>1</td>\n",
              "      <td>1</td>\n",
              "      <td>1</td>\n",
              "      <td>0</td>\n",
              "      <td>0</td>\n",
              "      <td>0</td>\n",
              "      <td>0</td>\n",
              "      <td>0</td>\n",
              "      <td>0</td>\n",
              "      <td>0</td>\n",
              "      <td>0</td>\n",
              "      <td>0</td>\n",
              "      <td>0</td>\n",
              "      <td>0</td>\n",
              "      <td>0</td>\n",
              "      <td>0</td>\n",
              "    </tr>\n",
              "    <tr>\n",
              "      <th>1</th>\n",
              "      <td>2</td>\n",
              "      <td>GoldenEye (1995)</td>\n",
              "      <td>01-Jan-1995</td>\n",
              "      <td>NaN</td>\n",
              "      <td>http://us.imdb.com/M/title-exact?GoldenEye%20(...</td>\n",
              "      <td>0</td>\n",
              "      <td>1</td>\n",
              "      <td>1</td>\n",
              "      <td>0</td>\n",
              "      <td>0</td>\n",
              "      <td>0</td>\n",
              "      <td>0</td>\n",
              "      <td>0</td>\n",
              "      <td>0</td>\n",
              "      <td>0</td>\n",
              "      <td>0</td>\n",
              "      <td>0</td>\n",
              "      <td>0</td>\n",
              "      <td>0</td>\n",
              "      <td>0</td>\n",
              "      <td>0</td>\n",
              "      <td>1</td>\n",
              "      <td>0</td>\n",
              "      <td>0</td>\n",
              "    </tr>\n",
              "    <tr>\n",
              "      <th>2</th>\n",
              "      <td>3</td>\n",
              "      <td>Four Rooms (1995)</td>\n",
              "      <td>01-Jan-1995</td>\n",
              "      <td>NaN</td>\n",
              "      <td>http://us.imdb.com/M/title-exact?Four%20Rooms%...</td>\n",
              "      <td>0</td>\n",
              "      <td>0</td>\n",
              "      <td>0</td>\n",
              "      <td>0</td>\n",
              "      <td>0</td>\n",
              "      <td>0</td>\n",
              "      <td>0</td>\n",
              "      <td>0</td>\n",
              "      <td>0</td>\n",
              "      <td>0</td>\n",
              "      <td>0</td>\n",
              "      <td>0</td>\n",
              "      <td>0</td>\n",
              "      <td>0</td>\n",
              "      <td>0</td>\n",
              "      <td>0</td>\n",
              "      <td>1</td>\n",
              "      <td>0</td>\n",
              "      <td>0</td>\n",
              "    </tr>\n",
              "    <tr>\n",
              "      <th>3</th>\n",
              "      <td>4</td>\n",
              "      <td>Get Shorty (1995)</td>\n",
              "      <td>01-Jan-1995</td>\n",
              "      <td>NaN</td>\n",
              "      <td>http://us.imdb.com/M/title-exact?Get%20Shorty%...</td>\n",
              "      <td>0</td>\n",
              "      <td>1</td>\n",
              "      <td>0</td>\n",
              "      <td>0</td>\n",
              "      <td>0</td>\n",
              "      <td>1</td>\n",
              "      <td>0</td>\n",
              "      <td>0</td>\n",
              "      <td>1</td>\n",
              "      <td>0</td>\n",
              "      <td>0</td>\n",
              "      <td>0</td>\n",
              "      <td>0</td>\n",
              "      <td>0</td>\n",
              "      <td>0</td>\n",
              "      <td>0</td>\n",
              "      <td>0</td>\n",
              "      <td>0</td>\n",
              "      <td>0</td>\n",
              "    </tr>\n",
              "    <tr>\n",
              "      <th>4</th>\n",
              "      <td>5</td>\n",
              "      <td>Copycat (1995)</td>\n",
              "      <td>01-Jan-1995</td>\n",
              "      <td>NaN</td>\n",
              "      <td>http://us.imdb.com/M/title-exact?Copycat%20(1995)</td>\n",
              "      <td>0</td>\n",
              "      <td>0</td>\n",
              "      <td>0</td>\n",
              "      <td>0</td>\n",
              "      <td>0</td>\n",
              "      <td>0</td>\n",
              "      <td>1</td>\n",
              "      <td>0</td>\n",
              "      <td>1</td>\n",
              "      <td>0</td>\n",
              "      <td>0</td>\n",
              "      <td>0</td>\n",
              "      <td>0</td>\n",
              "      <td>0</td>\n",
              "      <td>0</td>\n",
              "      <td>0</td>\n",
              "      <td>1</td>\n",
              "      <td>0</td>\n",
              "      <td>0</td>\n",
              "    </tr>\n",
              "  </tbody>\n",
              "</table>\n",
              "</div>"
            ],
            "text/plain": [
              "   movieID         movieTitle  releaseDate  ...  thriller war  western\n",
              "0        1   Toy Story (1995)  01-Jan-1995  ...         0   0        0\n",
              "1        2   GoldenEye (1995)  01-Jan-1995  ...         1   0        0\n",
              "2        3  Four Rooms (1995)  01-Jan-1995  ...         1   0        0\n",
              "3        4  Get Shorty (1995)  01-Jan-1995  ...         0   0        0\n",
              "4        5     Copycat (1995)  01-Jan-1995  ...         1   0        0\n",
              "\n",
              "[5 rows x 24 columns]"
            ]
          },
          "metadata": {
            "tags": []
          },
          "execution_count": 7
        }
      ]
    },
    {
      "cell_type": "markdown",
      "metadata": {
        "id": "in-PO-YJuBIJ",
        "colab_type": "text"
      },
      "source": [
        "Then, we load a train-test split"
      ]
    },
    {
      "cell_type": "code",
      "metadata": {
        "id": "alHHL0TUuBIK",
        "colab_type": "code",
        "colab": {
          "base_uri": "https://localhost:8080/",
          "height": 51
        },
        "outputId": "4d4b63ab-ef92-49f1-dcf5-4506479bbaf4"
      },
      "source": [
        "trainDF = pd.read_csv(os.path.join(MOVIELENS_DIR, 'u1.base'), sep='\\t', names=fields)\n",
        "testDF = pd.read_csv(os.path.join(MOVIELENS_DIR, 'u1.test'), sep='\\t', names=fields)\n",
        "\n",
        "# test number of records (total should be 100K)\n",
        "print(\"# of lines in train:\", trainDF.shape[0])\n",
        "print(\"# of lines in test:\", testDF.shape[0])"
      ],
      "execution_count": 8,
      "outputs": [
        {
          "output_type": "stream",
          "text": [
            "# of lines in train: 80000\n",
            "# of lines in test: 20000\n"
          ],
          "name": "stdout"
        }
      ]
    },
    {
      "cell_type": "markdown",
      "metadata": {
        "id": "e-SCgY_KuBIM",
        "colab_type": "text"
      },
      "source": [
        "## Building User-to-Item Rating Matrix"
      ]
    },
    {
      "cell_type": "code",
      "metadata": {
        "id": "pNmPRj_fuBIN",
        "colab_type": "code",
        "colab": {}
      },
      "source": [
        "def buildUserItemMatrix(dataset, numUsers, numItems):\n",
        "    # Initialize a of size (numUsers, numItems) to zeros\n",
        "    matrix = np.zeros((numUsers, numItems), dtype=np.int8)\n",
        "    \n",
        "    # Populate the matrix based on the dataset\n",
        "    for (index, userID, itemID, rating, timestamp) in dataset.itertuples():\n",
        "        matrix[userID-1, itemID-1] = rating\n",
        "    return matrix"
      ],
      "execution_count": 0,
      "outputs": []
    },
    {
      "cell_type": "code",
      "metadata": {
        "id": "4z5K0ZyLuBIP",
        "colab_type": "code",
        "colab": {}
      },
      "source": [
        "trainUserItemMatrix = buildUserItemMatrix(trainDF, numUsers, numItems)\n",
        "testUserItemMatrix = buildUserItemMatrix(testDF, numUsers, numItems)"
      ],
      "execution_count": 0,
      "outputs": []
    },
    {
      "cell_type": "code",
      "metadata": {
        "id": "pxhqF8O_uBIS",
        "colab_type": "code",
        "colab": {
          "base_uri": "https://localhost:8080/",
          "height": 136
        },
        "outputId": "a67d4019-d9ad-4619-aa75-573284bf1e35"
      },
      "source": [
        "# Inspect the train matrix\n",
        "# What's the shape of this matrix\n",
        "# Let's say the number of users is U and the number of items is I, I will ask you the dimensions of some matrixes in this lab\n",
        "trainUserItemMatrix"
      ],
      "execution_count": 85,
      "outputs": [
        {
          "output_type": "execute_result",
          "data": {
            "text/plain": [
              "array([[5, 3, 4, ..., 0, 0, 0],\n",
              "       [4, 0, 0, ..., 0, 0, 0],\n",
              "       [0, 0, 0, ..., 0, 0, 0],\n",
              "       ...,\n",
              "       [5, 0, 0, ..., 0, 0, 0],\n",
              "       [0, 0, 0, ..., 0, 0, 0],\n",
              "       [0, 5, 0, ..., 0, 0, 0]], dtype=int8)"
            ]
          },
          "metadata": {
            "tags": []
          },
          "execution_count": 85
        }
      ]
    },
    {
      "cell_type": "markdown",
      "metadata": {
        "id": "F1Ua_y85uBIU",
        "colab_type": "text"
      },
      "source": [
        "## Baseline solution - Average User Rating"
      ]
    },
    {
      "cell_type": "code",
      "metadata": {
        "id": "Tw-UoakQuBIV",
        "colab_type": "code",
        "colab": {}
      },
      "source": [
        "def predictByUserAverage(trainSet, numUsers, numItems):\n",
        "    # Initialize the predicted rating matrix with zeros\n",
        "    predictionMatrix = np.zeros((numUsers, numItems))\n",
        "    \n",
        "    for (user,item), rating in np.ndenumerate(trainSet):\n",
        "        # Predict rating for every item that wasn't ranked by the user (rating == 0)\n",
        "        if rating == 0:\n",
        "            # select the row for user\n",
        "            # what's the shape of userVector\n",
        "            userVector = trainSet[user, :]\n",
        "            \n",
        "            # Extract the items the user already rated\n",
        "            ratedItems = userVector[userVector.nonzero()]\n",
        "            \n",
        "            # If not empty, calculate average and set as rating for the current item\n",
        "            if ratedItems.size == 0:\n",
        "                itemAvg = 0\n",
        "            else:\n",
        "                itemAvg = ratedItems.mean()\n",
        "            predictionMatrix[user, item] = itemAvg\n",
        "            \n",
        "        # report progress every 100 users\n",
        "        if (user % 100 == 0 and item == 1):\n",
        "            print (\"calculated %d users\" % (user,))\n",
        "    \n",
        "    return predictionMatrix"
      ],
      "execution_count": 0,
      "outputs": []
    },
    {
      "cell_type": "code",
      "metadata": {
        "id": "sI98tM8kuBIX",
        "colab_type": "code",
        "colab": {}
      },
      "source": [
        "userAvgPreiction = predictByUserAverage(trainUserItemMatrix, numUsers, numItems)"
      ],
      "execution_count": 0,
      "outputs": []
    },
    {
      "cell_type": "markdown",
      "metadata": {
        "id": "cZlEyNTQuBIZ",
        "colab_type": "text"
      },
      "source": [
        "## How well did we do?"
      ]
    },
    {
      "cell_type": "code",
      "metadata": {
        "id": "a-96QIcmuBIa",
        "colab_type": "code",
        "colab": {}
      },
      "source": [
        "def rmse(pred, test):\n",
        "    # calculate RMSE for all the items in the test dataset\n",
        "    predItems = pred[test.nonzero()].flatten() \n",
        "    testItems = test[test.nonzero()].flatten()\n",
        "    return sqrt(mean_squared_error(predItems, testItems))"
      ],
      "execution_count": 0,
      "outputs": []
    },
    {
      "cell_type": "code",
      "metadata": {
        "id": "cOycD_SWuBIc",
        "colab_type": "code",
        "colab": {
          "base_uri": "https://localhost:8080/",
          "height": 34
        },
        "outputId": "ca6fd8ff-e45d-4051-85aa-a82973b2693d"
      },
      "source": [
        "rmse(userAvgPreiction, testUserItemMatrix)"
      ],
      "execution_count": 15,
      "outputs": [
        {
          "output_type": "execute_result",
          "data": {
            "text/plain": [
              "1.0629951276561334"
            ]
          },
          "metadata": {
            "tags": []
          },
          "execution_count": 15
        }
      ]
    },
    {
      "cell_type": "markdown",
      "metadata": {
        "id": "6XAk61j7uBIf",
        "colab_type": "text"
      },
      "source": [
        "## User-User Similarity"
      ]
    },
    {
      "cell_type": "markdown",
      "metadata": {
        "id": "fb9KC7BquBIg",
        "colab_type": "text"
      },
      "source": [
        "### Question: why do we divide the result by the sume of similaries?"
      ]
    },
    {
      "cell_type": "code",
      "metadata": {
        "id": "pLIEJFVAuBIh",
        "colab_type": "code",
        "colab": {}
      },
      "source": [
        "userSimilarity = 1 - pairwise_distances(trainUserItemMatrix, metric='cosine')"
      ],
      "execution_count": 0,
      "outputs": []
    },
    {
      "cell_type": "code",
      "metadata": {
        "id": "PiCRFVMCuBIk",
        "colab_type": "code",
        "colab": {
          "base_uri": "https://localhost:8080/",
          "height": 238
        },
        "outputId": "fa719ade-31b8-49f5-c2bf-aaebc3a8181a"
      },
      "source": [
        "userSimilarity"
      ],
      "execution_count": 21,
      "outputs": [
        {
          "output_type": "execute_result",
          "data": {
            "text/plain": [
              "array([[1.        , 0.09702087, 0.05246924, ..., 0.15815144, 0.13309031,\n",
              "        0.25277792],\n",
              "       [0.09702087, 1.        , 0.05134808, ..., 0.13280638, 0.1265973 ,\n",
              "        0.10178363],\n",
              "       [0.05246924, 0.05134808, 1.        , ..., 0.08353707, 0.08122974,\n",
              "        0.01967584],\n",
              "       ...,\n",
              "       [0.15815144, 0.13280638, 0.08353707, ..., 1.        , 0.1016418 ,\n",
              "        0.09511958],\n",
              "       [0.13309031, 0.1265973 , 0.08122974, ..., 0.1016418 , 1.        ,\n",
              "        0.18246466],\n",
              "       [0.25277792, 0.10178363, 0.01967584, ..., 0.09511958, 0.18246466,\n",
              "        1.        ]])"
            ]
          },
          "metadata": {
            "tags": []
          },
          "execution_count": 21
        }
      ]
    },
    {
      "cell_type": "code",
      "metadata": {
        "id": "6Tw6dj9xuBIo",
        "colab_type": "code",
        "colab": {}
      },
      "source": [
        "def kNearestNeighbor(sim, k):\n",
        "    sim = sim.copy()\n",
        "    m,n = sim.shape\n",
        "    for i in range(m):\n",
        "        # only keep the k largest number\n",
        "        sim[i, sim[i].argsort()[:-k]] = 0\n",
        "    return sim"
      ],
      "execution_count": 0,
      "outputs": []
    },
    {
      "cell_type": "code",
      "metadata": {
        "id": "cNtddvMXuBIq",
        "colab_type": "code",
        "colab": {}
      },
      "source": [
        "userSimilarity=kNearestNeighbor(userSimilarity, 3)"
      ],
      "execution_count": 0,
      "outputs": []
    },
    {
      "cell_type": "code",
      "metadata": {
        "colab_type": "code",
        "outputId": "050e174d-975c-42f8-d314-eb6e868032c1",
        "id": "vzk2E4XvExJO",
        "colab": {
          "base_uri": "https://localhost:8080/",
          "height": 34
        }
      },
      "source": [
        "np.count_nonzero(userSimilarity[0])"
      ],
      "execution_count": 83,
      "outputs": [
        {
          "output_type": "execute_result",
          "data": {
            "text/plain": [
              "3"
            ]
          },
          "metadata": {
            "tags": []
          },
          "execution_count": 83
        }
      ]
    },
    {
      "cell_type": "code",
      "metadata": {
        "id": "gTnW-ZBsuBIu",
        "colab_type": "code",
        "colab": {}
      },
      "source": [
        "def predictByUserSimilarity(trainSet, numUsers, numItems, similarity, k=None):\n",
        "    \n",
        "    if k is not None:\n",
        "        similarity = kNearestNeighbor(similarity, k)\n",
        "    \n",
        "    # Initialize the predicted rating matrix with zeros\n",
        "    predictionMatrix = np.zeros((numUsers, numItems))\n",
        "    \n",
        "    for (user,item), rating in np.ndenumerate(trainSet):\n",
        "        \n",
        "        # Predict rating for every item that wasn't ranked by the user (rating == 0)\n",
        "        if rating == 0:\n",
        "            # Extract the users that provided rating for this item\n",
        "            # shape of itemVector\n",
        "            itemVector = trainSet[:,item]\n",
        "            usersRatings = itemVector[itemVector.nonzero()]\n",
        "\n",
        "            # Get the similarity score for each of the users that provided rating for this item\n",
        "            # what's the shape of similarity, similarity[user,:]\n",
        "            usersSim = similarity[user,:][itemVector.nonzero()]\n",
        "\n",
        "            # If there no users that ranked this item, use user's average\n",
        "            if len(usersSim) == 0:\n",
        "                userVector = trainSet[user, :]\n",
        "                ratedItems = userVector[userVector.nonzero()]\n",
        "                \n",
        "                # If the user didnt rated any item use 0, otherwise use average\n",
        "                if len(ratedItems) == 0:\n",
        "                    predictionMatrix[user,item] = 0\n",
        "                else:\n",
        "                    predictionMatrix[user,item] = ratedItems.mean()\n",
        "            else:\n",
        "                # predict score based on user-user similarity\n",
        "                predictionMatrix[user,item] = (usersRatings*usersSim).sum() / usersSim.sum()\n",
        "\n",
        "        if not np.isfinite(predictionMatrix[user,item]):\n",
        "            predictionMatrix[user,item]=0\n",
        "        \n",
        "        # report progress every 100 users\n",
        "        if (user % 100 == 0 and item == 1):\n",
        "            print (\"calculated %d users\" % (user,))\n",
        "    \n",
        "    return predictionMatrix"
      ],
      "execution_count": 0,
      "outputs": []
    },
    {
      "cell_type": "code",
      "metadata": {
        "id": "Kl7HNtiKfUTU",
        "colab_type": "code",
        "colab": {}
      },
      "source": [
        ""
      ],
      "execution_count": 0,
      "outputs": []
    },
    {
      "cell_type": "code",
      "metadata": {
        "id": "j8bZRnPAuBIw",
        "colab_type": "code",
        "colab": {}
      },
      "source": [
        "userSimPrediction = predictByUserSimilarity(trainUserItemMatrix, numUsers, numItems, userSimilarity, k=50)"
      ],
      "execution_count": 0,
      "outputs": []
    },
    {
      "cell_type": "code",
      "metadata": {
        "id": "hX0ZET66uBIy",
        "colab_type": "code",
        "colab": {
          "base_uri": "https://localhost:8080/",
          "height": 34
        },
        "outputId": "35dcb1a5-a808-4dc9-f810-08da609849a5"
      },
      "source": [
        "rmse(userSimPrediction, testUserItemMatrix)"
      ],
      "execution_count": 47,
      "outputs": [
        {
          "output_type": "execute_result",
          "data": {
            "text/plain": [
              "1.1143635272661785"
            ]
          },
          "metadata": {
            "tags": []
          },
          "execution_count": 47
        }
      ]
    },
    {
      "cell_type": "markdown",
      "metadata": {
        "id": "gWwzkfPIuBI0",
        "colab_type": "text"
      },
      "source": [
        "## Vectorized Version"
      ]
    },
    {
      "cell_type": "code",
      "metadata": {
        "id": "YuoEwUAouBI0",
        "colab_type": "code",
        "colab": {}
      },
      "source": [
        "def vectorizedUserSimRecSys(trainSet, k=None):\n",
        "    # Initialize the predicted rating matrix with zeros\n",
        "    temp_matrix = np.zeros(trainSet.shape)\n",
        "    temp_matrix[trainSet.nonzero()] = 1\n",
        "    uu_similarity = 1 - pairwise_distances(trainSet, metric='cosine')\n",
        "    if k is not None:\n",
        "        uu_similarity = kNearestNeighbor(uu_similarity, k)\n",
        "    # UxI: UxU mul UxI\n",
        "    normalizer = np.matmul(uu_similarity, temp_matrix)\n",
        "    #print(normalizer)\n",
        "    normalizer[normalizer == 0] = 1e-5\n",
        "    #what's the dimension of np.matmul(uu_similarity, trainSet)\n",
        "    \n",
        "    predictionMatrix = np.matmul(uu_similarity, trainSet)/normalizer\n",
        "    #predictionMatrix[temp_matrix.nonzero()] = 0\n",
        "    #Cold start\n",
        "    # if no one has rated this item before, use user average  \n",
        "    useraverage = np.sum(trainSet, axis=1)/np.sum(temp_matrix, axis=1)\n",
        "    columns = np.sum(predictionMatrix, axis=0)\n",
        "    #print(columns.shape)\n",
        "    predictionMatrix[:, columns==0] = predictionMatrix[:, columns==0] + np.expand_dims(useraverage, axis=1)\n",
        "    \n",
        "    return predictionMatrix"
      ],
      "execution_count": 0,
      "outputs": []
    },
    {
      "cell_type": "code",
      "metadata": {
        "id": "4WhVh4yCuBI2",
        "colab_type": "code",
        "colab": {
          "base_uri": "https://localhost:8080/",
          "height": 136
        },
        "outputId": "c0e7d37f-1cfd-45a7-9e91-d164af18a649"
      },
      "source": [
        "userSimPrediction = vectorizedUserSimRecSys(trainUserItemMatrix, k=50)\n",
        "print(userSimPrediction)"
      ],
      "execution_count": 98,
      "outputs": [
        {
          "output_type": "stream",
          "text": [
            "[[3.95768482 3.07884915 2.95870738 ... 0.         3.         3.        ]\n",
            " [3.84711903 0.         2.00999946 ... 0.         0.         0.        ]\n",
            " [4.         0.         3.         ... 2.         0.         0.        ]\n",
            " ...\n",
            " [3.89075627 0.         3.33135748 ... 0.         0.         0.        ]\n",
            " [3.9933765  3.66514556 2.65346589 ... 0.         0.         0.        ]\n",
            " [4.07279746 3.40602568 3.42834447 ... 0.         3.         3.        ]]\n"
          ],
          "name": "stdout"
        }
      ]
    },
    {
      "cell_type": "code",
      "metadata": {
        "id": "b4NATqnUuBI3",
        "colab_type": "code",
        "colab": {
          "base_uri": "https://localhost:8080/",
          "height": 34
        },
        "outputId": "277829aa-9b38-4186-8198-805501c57173"
      },
      "source": [
        "rmse(userSimPrediction, testUserItemMatrix)"
      ],
      "execution_count": 99,
      "outputs": [
        {
          "output_type": "execute_result",
          "data": {
            "text/plain": [
              "1.1143635272661785"
            ]
          },
          "metadata": {
            "tags": []
          },
          "execution_count": 99
        }
      ]
    },
    {
      "cell_type": "markdown",
      "metadata": {
        "id": "hIw3GrBxuBI6",
        "colab_type": "text"
      },
      "source": [
        "## Precision@k and Recall@k"
      ]
    },
    {
      "cell_type": "markdown",
      "metadata": {
        "id": "v3znUo3puBI7",
        "colab_type": "text"
      },
      "source": [
        "### Question: where does the K come from?"
      ]
    },
    {
      "cell_type": "code",
      "metadata": {
        "id": "6KsaO--TuBI8",
        "colab_type": "code",
        "colab": {}
      },
      "source": [
        "def avgPrecisionAtK(testSet, prediction, k):\n",
        "    # Initialize sum and count vars for average calculation\n",
        "    sumPrecisions = 0\n",
        "    countPrecisions = 0\n",
        "    \n",
        "    # Define function for converting 1-5 rating to 0/1 (like / don't like)\n",
        "    vf = np.vectorize(lambda x: 1 if x >= 4 else 0)\n",
        "    \n",
        "    for userID in range(numUsers):\n",
        "        # Pick top K based on predicted rating\n",
        "        userVector = prediction[userID,:]\n",
        "        #print(userVector)\n",
        "        topK = nlargest(k, range(len(userVector)), userVector.take)\n",
        "        #print(topK)\n",
        "        # Convert test set ratings to like / don't like\n",
        "        userTestVector = vf(testSet[userID,:]).nonzero()[0]\n",
        "        #print(vf(testSet[userID,:]).nonzero())\n",
        "        # Ignore user if has no ratings in the test set\n",
        "        if (len(userTestVector) == 0):\n",
        "            continue\n",
        "\n",
        "        # Calculate precision\n",
        "        precision = float(len([item for item in topK if item in userTestVector]))/len(topK)\n",
        "\n",
        "        # Update sum and count\n",
        "        sumPrecisions += precision\n",
        "        countPrecisions += 1\n",
        "        \n",
        "    # Return average P@k\n",
        "    return float(sumPrecisions)/countPrecisions"
      ],
      "execution_count": 0,
      "outputs": []
    },
    {
      "cell_type": "code",
      "metadata": {
        "id": "uzDXyi_NuBI-",
        "colab_type": "code",
        "colab": {}
      },
      "source": [
        "def avgRecallAtK(testSet, prediction, k):\n",
        "    # Initialize sum and count vars for average calculation\n",
        "    sumRecalls = 0\n",
        "    countRecalls = 0\n",
        "    \n",
        "    # Define function for converting 1-5 rating to 0/1 (like / don't like)\n",
        "    vf = np.vectorize(lambda x: 1 if x >= 4 else 0)\n",
        "    \n",
        "    for userID in range(numUsers):\n",
        "        # Pick top K based on predicted rating\n",
        "        userVector = prediction[userID,:]\n",
        "        topK = nlargest(k, range(len(userVector)), userVector.take)\n",
        "        \n",
        "        # Convert test set ratings to like / don't like\n",
        "        userTestVector = vf(testSet[userID,:]).nonzero()[0]\n",
        "        \n",
        "        # Ignore user if has no ratings in the test set\n",
        "        if (len(userTestVector) == 0):\n",
        "            continue\n",
        "        \n",
        "        # Calculate recall\n",
        "        recall = float(len([item for item in topK if item in userTestVector]))/len(userTestVector)\n",
        "        \n",
        "        # Update sum and count\n",
        "        sumRecalls += recall\n",
        "        countRecalls += 1\n",
        "    \n",
        "    # Return average R@k\n",
        "    return float(sumRecalls)/countRecalls"
      ],
      "execution_count": 0,
      "outputs": []
    },
    {
      "cell_type": "code",
      "metadata": {
        "id": "rlfzIjVnuBJA",
        "colab_type": "code",
        "colab": {
          "base_uri": "https://localhost:8080/",
          "height": 119
        },
        "outputId": "0e6e562f-aaea-44b4-cd16-1b03613fee2d"
      },
      "source": [
        "print(\"k\\tP@k\\tR@k\")\n",
        "for k in [25, 50, 100, 250, 500]:\n",
        "    print(\"%d\\t%.3lf\\t%.3lf\" % (k, avgPrecisionAtK(testUserItemMatrix, userSimPrediction, k), avgRecallAtK(testUserItemMatrix, userSimPrediction, k)))"
      ],
      "execution_count": 67,
      "outputs": [
        {
          "output_type": "stream",
          "text": [
            "k\tP@k\tR@k\n",
            "25\t0.018\t0.026\n",
            "50\t0.037\t0.089\n",
            "100\t0.050\t0.249\n",
            "250\t0.043\t0.546\n",
            "500\t0.038\t0.847\n"
          ],
          "name": "stdout"
        }
      ]
    },
    {
      "cell_type": "code",
      "metadata": {
        "id": "Hfyfg8iLuBJC",
        "colab_type": "code",
        "colab": {
          "base_uri": "https://localhost:8080/",
          "height": 238
        },
        "outputId": "ca38d552-dff2-43a2-87c0-bbf8b67f39cf"
      },
      "source": [
        "userSimPrediction"
      ],
      "execution_count": 68,
      "outputs": [
        {
          "output_type": "execute_result",
          "data": {
            "text/plain": [
              "array([[3.95768482, 3.07884915, 2.95870738, ..., 0.        , 3.        ,\n",
              "        3.        ],\n",
              "       [3.84711903, 0.        , 2.00999946, ..., 0.        , 0.        ,\n",
              "        0.        ],\n",
              "       [4.        , 0.        , 3.        , ..., 2.        , 0.        ,\n",
              "        0.        ],\n",
              "       ...,\n",
              "       [3.89075627, 0.        , 3.33135748, ..., 0.        , 0.        ,\n",
              "        0.        ],\n",
              "       [3.9933765 , 3.66514556, 2.65346589, ..., 0.        , 0.        ,\n",
              "        0.        ],\n",
              "       [4.07279746, 3.40602568, 3.42834447, ..., 0.        , 3.        ,\n",
              "        3.        ]])"
            ]
          },
          "metadata": {
            "tags": []
          },
          "execution_count": 68
        }
      ]
    },
    {
      "cell_type": "code",
      "metadata": {
        "id": "HsT_4vd5uBJF",
        "colab_type": "code",
        "colab": {
          "base_uri": "https://localhost:8080/",
          "height": 34
        },
        "outputId": "7eaadf2a-c51a-4ae5-b20c-37337acb7360"
      },
      "source": [
        "testUserItemMatrix[0]"
      ],
      "execution_count": 76,
      "outputs": [
        {
          "output_type": "execute_result",
          "data": {
            "text/plain": [
              "array([0, 0, 0, ..., 0, 0, 0], dtype=int8)"
            ]
          },
          "metadata": {
            "tags": []
          },
          "execution_count": 76
        }
      ]
    },
    {
      "cell_type": "markdown",
      "metadata": {
        "collapsed": true,
        "id": "Q653TiTFuBJH",
        "colab_type": "text"
      },
      "source": [
        "## Popularity Based Recommendations"
      ]
    },
    {
      "cell_type": "code",
      "metadata": {
        "id": "jBZcFeYJuBJH",
        "colab_type": "code",
        "colab": {}
      },
      "source": [
        "def predictByPopularity(trainSet, numUsers, numItems):\n",
        "    # Initialize the predicted rating matrix with zeros\n",
        "    predictionMatrix = np.zeros((numUsers, numItems))\n",
        "    \n",
        "    # Define function for converting 1-5 rating to 0/1 (like / don't like)\n",
        "    vf = np.vectorize(lambda x: 1 if x >= 4 else 0)\n",
        "    \n",
        "    # For every item calculate the number of people liked (4-5) divided by the number of people that rated\n",
        "    itemPopularity = np.zeros((numItems))\n",
        "    for item in range(numItems):\n",
        "        numOfUsersRated = len(trainSet[:, item].nonzero()[0])\n",
        "        numOfUsersLiked = len(vf(trainSet[:, item]).nonzero()[0])\n",
        "        if numOfUsersRated == 0:\n",
        "            itemPopularity[item] = 0\n",
        "        else:\n",
        "            itemPopularity[item] = numOfUsersLiked/numOfUsersRated\n",
        "    \n",
        "    for (user,item), rating in np.ndenumerate(trainSet):\n",
        "        # Predict rating for every item that wasn't ranked by the user (rating == 0)\n",
        "        if rating == 0:\n",
        "            predictionMatrix[user, item] = itemPopularity[item]\n",
        "            \n",
        "        # report progress every 100 users\n",
        "        if (user % 100 == 0 and item == 1):\n",
        "            print (\"calculated %d users\" % (user,))\n",
        "    \n",
        "    return predictionMatrix"
      ],
      "execution_count": 0,
      "outputs": []
    },
    {
      "cell_type": "code",
      "metadata": {
        "id": "-wjmSP8fuBJJ",
        "colab_type": "code",
        "colab": {
          "base_uri": "https://localhost:8080/",
          "height": 187
        },
        "outputId": "32b24969-f205-47ce-c594-2e4ed39a64f1"
      },
      "source": [
        "popPreiction = predictByPopularity(trainUserItemMatrix, numUsers, numItems)"
      ],
      "execution_count": 102,
      "outputs": [
        {
          "output_type": "stream",
          "text": [
            "calculated 0 users\n",
            "calculated 100 users\n",
            "calculated 200 users\n",
            "calculated 300 users\n",
            "calculated 400 users\n",
            "calculated 500 users\n",
            "calculated 600 users\n",
            "calculated 700 users\n",
            "calculated 800 users\n",
            "calculated 900 users\n"
          ],
          "name": "stdout"
        }
      ]
    },
    {
      "cell_type": "code",
      "metadata": {
        "id": "p-miubz2uBJL",
        "colab_type": "code",
        "colab": {},
        "outputId": "12f51c0f-5b5d-47ab-9b13-ea64db561829"
      },
      "source": [
        "print(\"k\\tP@k\\tR@k\")\n",
        "for k in [25, 50, 100, 250, 500]:\n",
        "    print(\"%d\\t%.3lf\\t%.3lf\" % (k, avgPrecisionAtK(testUserItemMatrix, popPreiction, k), avgRecallAtK(testUserItemMatrix, popPreiction, k)))"
      ],
      "execution_count": 0,
      "outputs": [
        {
          "output_type": "stream",
          "text": [
            "k\tP@k\tR@k\n",
            "25\t0.001\t0.000\n",
            "50\t0.008\t0.014\n",
            "100\t0.023\t0.092\n",
            "250\t0.037\t0.334\n",
            "500\t0.032\t0.691\n"
          ],
          "name": "stdout"
        }
      ]
    },
    {
      "cell_type": "markdown",
      "metadata": {
        "id": "w_KkZ2LYuBJM",
        "colab_type": "text"
      },
      "source": [
        "## Making Recommendations for a User"
      ]
    },
    {
      "cell_type": "code",
      "metadata": {
        "id": "eUyHhPR1uBJN",
        "colab_type": "code",
        "colab": {}
      },
      "source": [
        "def userTopK(prediction, moviesDataset, userID, k):\n",
        "    # Pick top K based on predicted rating\n",
        "    userVector = prediction[userID+1,:]\n",
        "    topK = nlargest(k, range(len(userVector)), userVector.take)\n",
        "    namesTopK = list(map(lambda x: moviesDataset[moviesDataset.movieID == x+1][\"movieTitle\"].values[0], topK))\n",
        "    return namesTopK"
      ],
      "execution_count": 0,
      "outputs": []
    },
    {
      "cell_type": "code",
      "metadata": {
        "id": "K8y-St6cuBJP",
        "colab_type": "code",
        "colab": {},
        "outputId": "f43bc54b-9e12-40d5-dce1-15b942df66be"
      },
      "source": [
        "# recommend for userID 350 according to popularity recommender\n",
        "userTopK(popPreiction, moviesDF, 350, 10)"
      ],
      "execution_count": 0,
      "outputs": [
        {
          "output_type": "execute_result",
          "data": {
            "text/plain": [
              "[u'Loch Ness (1995)',\n",
              " u'Perfect Candidate, A (1996)',\n",
              " u'Love and Death on Long Island (1997)',\n",
              " u'Crossfire (1947)',\n",
              " u'Celestial Clockwork (1994)',\n",
              " u'They Made Me a Criminal (1939)',\n",
              " u'Last Time I Saw Paris, The (1954)',\n",
              " u'Innocents, The (1961)',\n",
              " u\"Jupiter's Wife (1994)\",\n",
              " u'Prefontaine (1997)']"
            ]
          },
          "metadata": {
            "tags": []
          },
          "execution_count": 36
        }
      ]
    },
    {
      "cell_type": "code",
      "metadata": {
        "id": "NP963kQFuBJS",
        "colab_type": "code",
        "colab": {},
        "outputId": "abf81377-f94f-4da4-f042-6e4bfd6612d9"
      },
      "source": [
        "# recommend for userID 350 according to average rating recommender\n",
        "userTopK(userAvgPreiction, moviesDF, 350, 10)"
      ],
      "execution_count": 0,
      "outputs": [
        {
          "output_type": "execute_result",
          "data": {
            "text/plain": [
              "[u'Toy Story (1995)',\n",
              " u'GoldenEye (1995)',\n",
              " u'Four Rooms (1995)',\n",
              " u'Get Shorty (1995)',\n",
              " u'Copycat (1995)',\n",
              " u'Shanghai Triad (Yao a yao yao dao waipo qiao) (1995)',\n",
              " u'Twelve Monkeys (1995)',\n",
              " u'Babe (1995)',\n",
              " u'Dead Man Walking (1995)',\n",
              " u'Richard III (1995)']"
            ]
          },
          "metadata": {
            "tags": []
          },
          "execution_count": 37
        }
      ]
    },
    {
      "cell_type": "code",
      "metadata": {
        "id": "dX2PvVLnuBJU",
        "colab_type": "code",
        "colab": {},
        "outputId": "d3a3eb37-0238-4181-b44b-8e386032a07a"
      },
      "source": [
        "# recommend for userID 350 according to user similarity recommender\n",
        "userTopK(userSimPrediction, moviesDF, 350, 10)"
      ],
      "execution_count": 0,
      "outputs": [
        {
          "output_type": "execute_result",
          "data": {
            "text/plain": [
              "[u'Three Colors: Red (1994)',\n",
              " u'Spitfire Grill, The (1996)',\n",
              " u'Mirror Has Two Faces, The (1996)',\n",
              " u'Secrets & Lies (1996)',\n",
              " u'Apostle, The (1997)',\n",
              " u'Bananas (1971)',\n",
              " u'Candidate, The (1972)',\n",
              " u'Great Dictator, The (1940)',\n",
              " u'Rebecca (1940)',\n",
              " u'Laura (1944)']"
            ]
          },
          "metadata": {
            "tags": []
          },
          "execution_count": 39
        }
      ]
    },
    {
      "cell_type": "markdown",
      "metadata": {
        "id": "XitY5X5euBJW",
        "colab_type": "text"
      },
      "source": [
        "## Evaluating the other datasets"
      ]
    },
    {
      "cell_type": "code",
      "metadata": {
        "id": "MOwB5IyCuBJW",
        "colab_type": "code",
        "colab": {}
      },
      "source": [
        "datasetsFileNames = [('u2.base', 'u2.test'),\n",
        "                     ('u3.base', 'u3.test'),\n",
        "                     ('u4.base', 'u4.test'),\n",
        "                     ('u5.base', 'u5.test')]"
      ],
      "execution_count": 0,
      "outputs": []
    },
    {
      "cell_type": "code",
      "metadata": {
        "scrolled": true,
        "id": "ax29QxLHuBJY",
        "colab_type": "code",
        "colab": {}
      },
      "source": [
        "rmseList = []\n",
        "for trainFileName, testFileName in datasetsFileNames:\n",
        "    curTrainDF = pd.read_csv(os.path.join(MOVIELENS_DIR, trainFileName), sep='\\t', names=fields)\n",
        "    curTestDF = pd.read_csv(os.path.join(MOVIELENS_DIR, testFileName), sep='\\t', names=fields)\n",
        "    curTrainUserItemMatrix = buildUserItemMatrix(curTrainDF, numUsers, numItems)\n",
        "    curTestUserItemMatrix = buildUserItemMatrix(curTestDF, numUsers, numItems)\n",
        "    #prediction with average\n",
        "    curUserAvgPreiction = predictByUserAverage(curTrainUserItemMatrix, numUsers, numItems)\n",
        "    avgRMSE = rmse(curUserAvgPreiction, curTestUserItemMatrix)\n",
        "    #prediction with similarity\n",
        "    curUserSimilarity = 1 - pairwise_distances(curTrainUserItemMatrix, metric='cosine')\n",
        "    curUserSimPreiction = predictByUserSimilarity(curTrainUserItemMatrix, numUsers, numItems, curUserSimilarity)\n",
        "    simRMSE = rmse(curUserSimPreiction, curTestUserItemMatrix)\n",
        "    \n",
        "    rmseList.append((avgRMSE, simRMSE))"
      ],
      "execution_count": 0,
      "outputs": []
    },
    {
      "cell_type": "code",
      "metadata": {
        "id": "NAIq1y1ouBJZ",
        "colab_type": "code",
        "colab": {},
        "outputId": "686b08e0-192a-4063-cf45-8151d1288570"
      },
      "source": [
        "print(\"Avg\\tSim\")\n",
        "for avgScore, simScore in rmseList:\n",
        "    print(\"%.3lf\\t%.3lf\" % (avgScore, simScore))"
      ],
      "execution_count": 0,
      "outputs": [
        {
          "output_type": "stream",
          "text": [
            "Avg\tSim\n",
            "1.047\t1.021\n",
            "1.033\t1.013\n",
            "1.037\t1.009\n",
            "1.039\t1.016\n"
          ],
          "name": "stdout"
        }
      ]
    },
    {
      "cell_type": "code",
      "metadata": {
        "id": "wzhktkpEuBJb",
        "colab_type": "code",
        "colab": {}
      },
      "source": [
        ""
      ],
      "execution_count": 0,
      "outputs": []
    },
    {
      "cell_type": "code",
      "metadata": {
        "id": "FyLDbue8uBJd",
        "colab_type": "code",
        "colab": {}
      },
      "source": [
        ""
      ],
      "execution_count": 0,
      "outputs": []
    }
  ]
}